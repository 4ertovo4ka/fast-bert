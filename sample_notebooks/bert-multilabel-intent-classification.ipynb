{
 "cells": [
  {
   "cell_type": "code",
   "execution_count": 1,
   "metadata": {},
   "outputs": [],
   "source": [
    "from pytorch_pretrained_bert.tokenization import BertTokenizer\n",
    "from pytorch_pretrained_bert.modeling import BertForPreTraining, BertConfig, BertForMaskedLM, BertForSequenceClassification\n",
    "from pathlib import Path\n",
    "import torch\n",
    "\n",
    "from fastai.text import Tokenizer, Vocab\n",
    "import pandas as pd\n",
    "import collections\n",
    "import os\n",
    "from tqdm import tqdm, trange\n",
    "import sys\n",
    "import random\n",
    "import numpy as np\n",
    "import apex\n",
    "from sklearn.model_selection import train_test_split\n",
    "\n",
    "import datetime\n",
    "    \n",
    "from torch.utils.data import TensorDataset, DataLoader, RandomSampler, SequentialSampler\n",
    "from torch.utils.data.distributed import DistributedSampler\n",
    "from pytorch_pretrained_bert.optimization import BertAdam\n",
    "\n",
    "from energy_bert.modeling import BertForMultiLabelSequenceClassification\n",
    "from energy_bert.data import BertDataBunch, InputExample, InputFeatures, MultiLabelTextProcessor, convert_examples_to_features\n",
    "from energy_bert.learner import BertLearner\n",
    "from energy_bert.metrics import accuracy_thresh, roc_auc, fbeta, accuracy_multilabel\n",
    "\n"
   ]
  },
  {
   "cell_type": "code",
   "execution_count": 2,
   "metadata": {},
   "outputs": [],
   "source": [
    "pd.set_option('display.max_colwidth', -1)\n",
    "run_start_time = datetime.datetime.today().strftime('%Y-%m-%d_%H-%M-%S')"
   ]
  },
  {
   "cell_type": "markdown",
   "metadata": {},
   "source": [
    "###  Setup paths"
   ]
  },
  {
   "cell_type": "code",
   "execution_count": 3,
   "metadata": {},
   "outputs": [],
   "source": [
    "DATA_PATH = Path('../data/')\n",
    "LABEL_PATH = Path('../labels/')\n",
    "\n",
    "AUG_DATA_PATH = Path('../data/data_augmentation/')\n",
    "\n",
    "MODEL_PATH=Path('../models/')\n",
    "LOG_PATH=Path('../logs/')\n",
    "MODEL_PATH.mkdir(exist_ok=True)\n",
    "\n",
    "model_state_dict = None\n",
    "\n",
    "BERT_PRETRAINED_PATH = Path('../models/pretrained-weights/uncased_L-12_H-768_A-12/')\n",
    "# BERT_PRETRAINED_PATH = Path('../../bert_fastai/pretrained-weights/cased_L-12_H-768_A-12/')\n",
    "# BERT_PRETRAINED_PATH = Path('../../bert_fastai/pretrained-weights/uncased_L-24_H-1024_A-16/')\n",
    "FINETUNED_PATH = Path('../models/intent_language_model_2019-02-01_00-37-04.bin')\n",
    "model_state_dict = torch.load(FINETUNED_PATH)\n",
    "\n",
    "LOG_PATH.mkdir(exist_ok=True)"
   ]
  },
  {
   "cell_type": "markdown",
   "metadata": {},
   "source": [
    "### Model parameters "
   ]
  },
  {
   "cell_type": "code",
   "execution_count": 4,
   "metadata": {},
   "outputs": [],
   "source": [
    "args = {\n",
    "    \"run_text\": \"Multilabel intent finetuned model\",\n",
    "    \"train_size\": -1,\n",
    "    \"val_size\": -1,\n",
    "    \"log_path\": LOG_PATH,\n",
    "    \"full_data_dir\": DATA_PATH,\n",
    "    \"data_dir\": DATA_PATH,\n",
    "    \"task_name\": \"multilabel_intent_classification\",\n",
    "    \"no_cuda\": False,\n",
    "    \"bert_model\": BERT_PRETRAINED_PATH,\n",
    "    \"output_dir\": MODEL_PATH/'output',\n",
    "    \"max_seq_length\": 512,\n",
    "    \"do_train\": True,\n",
    "    \"do_eval\": True,\n",
    "    \"do_lower_case\": True,\n",
    "    \"train_batch_size\": 32,\n",
    "    \"eval_batch_size\": 32,\n",
    "    \"learning_rate\": 1e-4,\n",
    "    \"num_train_epochs\": 12.0,\n",
    "    \"warmup_proportion\": 0.1,\n",
    "    \"no_cuda\": False,\n",
    "    \"local_rank\": -1,\n",
    "    \"seed\": 42,\n",
    "    \"gradient_accumulation_steps\": 1,\n",
    "    \"optimize_on_cpu\": False,\n",
    "    \"fp16\": True,\n",
    "    \"loss_scale\": 128\n",
    "}"
   ]
  },
  {
   "cell_type": "code",
   "execution_count": 5,
   "metadata": {},
   "outputs": [],
   "source": [
    "import logging\n",
    "\n",
    "logfile = str(LOG_PATH/'log-{}-{}.txt'.format(run_start_time, args[\"run_text\"]))\n",
    "\n",
    "logging.basicConfig(\n",
    "    level=logging.INFO,\n",
    "    format='%(asctime)s - %(levelname)s - %(name)s -   %(message)s',\n",
    "    datefmt='%m/%d/%Y %H:%M:%S',\n",
    "    handlers=[\n",
    "        logging.FileHandler(logfile),\n",
    "        logging.StreamHandler(sys.stdout)\n",
    "    ])\n",
    "\n",
    "logger = logging.getLogger()"
   ]
  },
  {
   "cell_type": "code",
   "execution_count": 6,
   "metadata": {},
   "outputs": [
    {
     "name": "stdout",
     "output_type": "stream",
     "text": [
      "02/16/2019 13:11:44 - INFO - root -   {'run_text': 'Multilabel intent finetuned model', 'train_size': -1, 'val_size': -1, 'log_path': PosixPath('../logs'), 'full_data_dir': PosixPath('../data'), 'data_dir': PosixPath('../data'), 'task_name': 'multilabel_intent_classification', 'no_cuda': False, 'bert_model': PosixPath('../models/pretrained-weights/uncased_L-12_H-768_A-12'), 'output_dir': PosixPath('../models/output'), 'max_seq_length': 512, 'do_train': True, 'do_eval': True, 'do_lower_case': True, 'train_batch_size': 32, 'eval_batch_size': 32, 'learning_rate': 0.0001, 'num_train_epochs': 12.0, 'warmup_proportion': 0.1, 'local_rank': -1, 'seed': 42, 'gradient_accumulation_steps': 1, 'optimize_on_cpu': False, 'fp16': True, 'loss_scale': 128}\n"
     ]
    }
   ],
   "source": [
    "logger.info(args)"
   ]
  },
  {
   "cell_type": "code",
   "execution_count": 7,
   "metadata": {},
   "outputs": [
    {
     "name": "stdout",
     "output_type": "stream",
     "text": [
      "02/16/2019 13:11:44 - INFO - pytorch_pretrained_bert.tokenization -   loading vocabulary file ../models/pretrained-weights/uncased_L-12_H-768_A-12/vocab.txt\n"
     ]
    }
   ],
   "source": [
    "tokenizer = BertTokenizer.from_pretrained(BERT_PRETRAINED_PATH, do_lower_case=args['do_lower_case'])"
   ]
  },
  {
   "cell_type": "code",
   "execution_count": 8,
   "metadata": {},
   "outputs": [],
   "source": [
    "device = torch.device('cuda')"
   ]
  },
  {
   "cell_type": "code",
   "execution_count": 9,
   "metadata": {},
   "outputs": [],
   "source": [
    "# train_features = convert_examples_to_features(train_examples, label_list=labels, tokenizer=tokenizer, max_seq_length=args['max_seq_length'])"
   ]
  },
  {
   "cell_type": "code",
   "execution_count": 10,
   "metadata": {},
   "outputs": [],
   "source": [
    "databunch = BertDataBunch(args['data_dir'], LABEL_PATH, tokenizer, train_file='train_2.csv', val_file='val_2.csv',\n",
    "                          bs=args['train_batch_size'], maxlen=args['max_seq_length'], multi_gpu=True, multi_label=True)"
   ]
  },
  {
   "cell_type": "code",
   "execution_count": 11,
   "metadata": {},
   "outputs": [],
   "source": [
    "num_labels = len(databunch.labels)"
   ]
  },
  {
   "cell_type": "code",
   "execution_count": 12,
   "metadata": {},
   "outputs": [],
   "source": [
    "metrics = []\n",
    "metrics.append({'name': 'accuracy_thresh', 'function': accuracy_thresh})\n",
    "metrics.append({'name': 'roc_auc', 'function': roc_auc})\n",
    "metrics.append({'name': 'fbeta', 'function': fbeta})\n",
    "metrics.append({'name': 'accuracy_single', 'function': accuracy_multilabel})"
   ]
  },
  {
   "cell_type": "code",
   "execution_count": 13,
   "metadata": {},
   "outputs": [
    {
     "name": "stdout",
     "output_type": "stream",
     "text": [
      "02/16/2019 13:11:52 - INFO - pytorch_pretrained_bert.modeling -   loading archive file ../models/pretrained-weights/uncased_L-12_H-768_A-12 from cache at ../models/pretrained-weights/uncased_L-12_H-768_A-12\n",
      "02/16/2019 13:11:52 - INFO - pytorch_pretrained_bert.modeling -   Model config {\n",
      "  \"attention_probs_dropout_prob\": 0.1,\n",
      "  \"hidden_act\": \"gelu\",\n",
      "  \"hidden_dropout_prob\": 0.1,\n",
      "  \"hidden_size\": 768,\n",
      "  \"initializer_range\": 0.02,\n",
      "  \"intermediate_size\": 3072,\n",
      "  \"max_position_embeddings\": 512,\n",
      "  \"num_attention_heads\": 12,\n",
      "  \"num_hidden_layers\": 12,\n",
      "  \"type_vocab_size\": 2,\n",
      "  \"vocab_size\": 30522\n",
      "}\n",
      "\n",
      "02/16/2019 13:11:57 - INFO - pytorch_pretrained_bert.modeling -   Weights of BertForMultiLabelSequenceClassification not initialized from pretrained model: ['classifier.weight', 'classifier.bias']\n",
      "02/16/2019 13:11:57 - INFO - pytorch_pretrained_bert.modeling -   Weights from pretrained model not used in BertForMultiLabelSequenceClassification: ['cls.predictions.bias', 'cls.predictions.transform.dense.weight', 'cls.predictions.transform.dense.bias', 'cls.predictions.transform.LayerNorm.weight', 'cls.predictions.transform.LayerNorm.bias', 'cls.predictions.decoder.weight', 'cls.seq_relationship.weight', 'cls.seq_relationship.bias']\n"
     ]
    }
   ],
   "source": [
    "learner = BertLearner.from_pretrained_model(databunch, BERT_PRETRAINED_PATH, metrics, device, logger, \n",
    "                                            finetuned_wgts_path=FINETUNED_PATH, \n",
    "                                            is_fp16=args['fp16'], loss_scale=args['loss_scale'], multi_label=True)"
   ]
  },
  {
   "cell_type": "code",
   "execution_count": 14,
   "metadata": {},
   "outputs": [
    {
     "data": {
      "text/html": [
       "Total time: 43:12 <p>"
      ],
      "text/plain": [
       "<IPython.core.display.HTML object>"
      ]
     },
     "metadata": {},
     "output_type": "display_data"
    },
    {
     "name": "stderr",
     "output_type": "stream",
     "text": [
      "/home/ubuntu/anaconda3/envs/pytorch_p36/lib/python3.6/site-packages/torch/nn/parallel/_functions.py:61: UserWarning: Was asked to gather along dimension 0, but all input tensors were scalars; will instead unsqueeze and return a vector.\n",
      "  warnings.warn('Was asked to gather along dimension 0, but all '\n"
     ]
    },
    {
     "name": "stdout",
     "output_type": "stream",
     "text": [
      "02/16/2019 13:14:01 - INFO - root -   Loss after epoch 0 - 0.13766268216646635\n",
      "02/16/2019 13:14:01 - INFO - root -   Running evaluation\n"
     ]
    },
    {
     "data": {
      "text/html": [
       "\n",
       "    <div>\n",
       "        <style>\n",
       "            /* Turns off some styling */\n",
       "            progress {\n",
       "                /* gets rid of default border in Firefox and Opera. */\n",
       "                border: none;\n",
       "                /* Needs to be in here for Safari polyfill so background images work as expected. */\n",
       "                background-size: auto;\n",
       "            }\n",
       "            .progress-bar-interrupted, .progress-bar-interrupted::-webkit-progress-bar {\n",
       "                background: #F44336;\n",
       "            }\n",
       "        </style>\n",
       "      <progress value='130' class='' max='130', style='width:300px; height:20px; vertical-align: middle;'></progress>\n",
       "      100.00% [130/130 00:20<00:00]\n",
       "    </div>\n",
       "    "
      ],
      "text/plain": [
       "<IPython.core.display.HTML object>"
      ]
     },
     "metadata": {},
     "output_type": "display_data"
    },
    {
     "name": "stderr",
     "output_type": "stream",
     "text": [
      "/home/ubuntu/anaconda3/envs/pytorch_p36/lib/python3.6/site-packages/numpy/core/_methods.py:32: RuntimeWarning: overflow encountered in reduce\n",
      "  return umr_sum(a, axis, dtype, out, keepdims)\n"
     ]
    },
    {
     "name": "stdout",
     "output_type": "stream",
     "text": [
      "02/16/2019 13:14:22 - INFO - root -   Eval results:\n",
      "02/16/2019 13:14:22 - INFO - root -     eval_loss = 0.025739229642427884\n",
      "02/16/2019 13:14:22 - INFO - root -     metrics = {'accuracy_thresh': 0.9960000514984131, 'roc_auc': 0.7781234972067597, 'fbeta': 0.0, 'accuracy_single': 0.04839874789308933}\n",
      "02/16/2019 13:14:22 - INFO - root -   --------------------------------------------------------------------------------\n",
      "02/16/2019 13:16:10 - INFO - root -   Loss after epoch 1 - 0.024047323373647837\n",
      "02/16/2019 13:16:10 - INFO - root -   Running evaluation\n"
     ]
    },
    {
     "data": {
      "text/html": [
       "\n",
       "    <div>\n",
       "        <style>\n",
       "            /* Turns off some styling */\n",
       "            progress {\n",
       "                /* gets rid of default border in Firefox and Opera. */\n",
       "                border: none;\n",
       "                /* Needs to be in here for Safari polyfill so background images work as expected. */\n",
       "                background-size: auto;\n",
       "            }\n",
       "            .progress-bar-interrupted, .progress-bar-interrupted::-webkit-progress-bar {\n",
       "                background: #F44336;\n",
       "            }\n",
       "        </style>\n",
       "      <progress value='130' class='' max='130', style='width:300px; height:20px; vertical-align: middle;'></progress>\n",
       "      100.00% [130/130 00:20<00:00]\n",
       "    </div>\n",
       "    "
      ],
      "text/plain": [
       "<IPython.core.display.HTML object>"
      ]
     },
     "metadata": {},
     "output_type": "display_data"
    },
    {
     "name": "stdout",
     "output_type": "stream",
     "text": [
      "02/16/2019 13:16:31 - INFO - root -   Eval results:\n",
      "02/16/2019 13:16:31 - INFO - root -     eval_loss = 0.023202045147235575\n",
      "02/16/2019 13:16:31 - INFO - root -     metrics = {'accuracy_thresh': 0.9960000514984131, 'roc_auc': 0.8197863106958669, 'fbeta': 0.0, 'accuracy_single': 0.040693474596677104}\n",
      "02/16/2019 13:16:31 - INFO - root -   --------------------------------------------------------------------------------\n",
      "02/16/2019 13:18:19 - INFO - root -   Loss after epoch 2 - 0.02314312274639423\n",
      "02/16/2019 13:18:19 - INFO - root -   Running evaluation\n"
     ]
    },
    {
     "data": {
      "text/html": [
       "\n",
       "    <div>\n",
       "        <style>\n",
       "            /* Turns off some styling */\n",
       "            progress {\n",
       "                /* gets rid of default border in Firefox and Opera. */\n",
       "                border: none;\n",
       "                /* Needs to be in here for Safari polyfill so background images work as expected. */\n",
       "                background-size: auto;\n",
       "            }\n",
       "            .progress-bar-interrupted, .progress-bar-interrupted::-webkit-progress-bar {\n",
       "                background: #F44336;\n",
       "            }\n",
       "        </style>\n",
       "      <progress value='130' class='' max='130', style='width:300px; height:20px; vertical-align: middle;'></progress>\n",
       "      100.00% [130/130 00:20<00:00]\n",
       "    </div>\n",
       "    "
      ],
      "text/plain": [
       "<IPython.core.display.HTML object>"
      ]
     },
     "metadata": {},
     "output_type": "display_data"
    },
    {
     "name": "stdout",
     "output_type": "stream",
     "text": [
      "02/16/2019 13:18:39 - INFO - root -   Eval results:\n",
      "02/16/2019 13:18:39 - INFO - root -     eval_loss = 0.02272198016826923\n",
      "02/16/2019 13:18:39 - INFO - root -     metrics = {'accuracy_thresh': 0.9960000514984131, 'roc_auc': 0.8269536195961271, 'fbeta': 0.0, 'accuracy_single': 0.09463038767156273}\n",
      "02/16/2019 13:18:39 - INFO - root -   --------------------------------------------------------------------------------\n",
      "02/16/2019 13:20:27 - INFO - root -   Loss after epoch 3 - 0.021634468665489785\n",
      "02/16/2019 13:20:27 - INFO - root -   Running evaluation\n"
     ]
    },
    {
     "data": {
      "text/html": [
       "\n",
       "    <div>\n",
       "        <style>\n",
       "            /* Turns off some styling */\n",
       "            progress {\n",
       "                /* gets rid of default border in Firefox and Opera. */\n",
       "                border: none;\n",
       "                /* Needs to be in here for Safari polyfill so background images work as expected. */\n",
       "                background-size: auto;\n",
       "            }\n",
       "            .progress-bar-interrupted, .progress-bar-interrupted::-webkit-progress-bar {\n",
       "                background: #F44336;\n",
       "            }\n",
       "        </style>\n",
       "      <progress value='130' class='' max='130', style='width:300px; height:20px; vertical-align: middle;'></progress>\n",
       "      100.00% [130/130 00:20<00:00]\n",
       "    </div>\n",
       "    "
      ],
      "text/plain": [
       "<IPython.core.display.HTML object>"
      ]
     },
     "metadata": {},
     "output_type": "display_data"
    },
    {
     "name": "stdout",
     "output_type": "stream",
     "text": [
      "02/16/2019 13:20:48 - INFO - root -   Eval results:\n",
      "02/16/2019 13:20:48 - INFO - root -     eval_loss = 0.019341219388521635\n",
      "02/16/2019 13:20:48 - INFO - root -     metrics = {'accuracy_thresh': 0.9961724281311035, 'roc_auc': 0.86722503172906, 'fbeta': 0.15819889307022095, 'accuracy_single': 0.3207320009631592}\n",
      "02/16/2019 13:20:48 - INFO - root -   --------------------------------------------------------------------------------\n",
      "02/16/2019 13:22:37 - INFO - root -   Loss after epoch 4 - 0.016606991107647236\n",
      "02/16/2019 13:22:37 - INFO - root -   Running evaluation\n"
     ]
    },
    {
     "data": {
      "text/html": [
       "\n",
       "    <div>\n",
       "        <style>\n",
       "            /* Turns off some styling */\n",
       "            progress {\n",
       "                /* gets rid of default border in Firefox and Opera. */\n",
       "                border: none;\n",
       "                /* Needs to be in here for Safari polyfill so background images work as expected. */\n",
       "                background-size: auto;\n",
       "            }\n",
       "            .progress-bar-interrupted, .progress-bar-interrupted::-webkit-progress-bar {\n",
       "                background: #F44336;\n",
       "            }\n",
       "        </style>\n",
       "      <progress value='130' class='' max='130', style='width:300px; height:20px; vertical-align: middle;'></progress>\n",
       "      100.00% [130/130 00:20<00:00]\n",
       "    </div>\n",
       "    "
      ],
      "text/plain": [
       "<IPython.core.display.HTML object>"
      ]
     },
     "metadata": {},
     "output_type": "display_data"
    },
    {
     "name": "stdout",
     "output_type": "stream",
     "text": [
      "02/16/2019 13:22:58 - INFO - root -   Eval results:\n",
      "02/16/2019 13:22:58 - INFO - root -     eval_loss = 0.01395427997295673\n",
      "02/16/2019 13:22:58 - INFO - root -     metrics = {'accuracy_thresh': 0.9968842267990112, 'roc_auc': 0.9362062668992367, 'fbeta': 0.3944939374923706, 'accuracy_single': 0.5290151697568023}\n",
      "02/16/2019 13:22:58 - INFO - root -   --------------------------------------------------------------------------------\n",
      "02/16/2019 13:24:47 - INFO - root -   Loss after epoch 5 - 0.012271749056302584\n",
      "02/16/2019 13:24:47 - INFO - root -   Running evaluation\n"
     ]
    },
    {
     "data": {
      "text/html": [
       "\n",
       "    <div>\n",
       "        <style>\n",
       "            /* Turns off some styling */\n",
       "            progress {\n",
       "                /* gets rid of default border in Firefox and Opera. */\n",
       "                border: none;\n",
       "                /* Needs to be in here for Safari polyfill so background images work as expected. */\n",
       "                background-size: auto;\n",
       "            }\n",
       "            .progress-bar-interrupted, .progress-bar-interrupted::-webkit-progress-bar {\n",
       "                background: #F44336;\n",
       "            }\n",
       "        </style>\n",
       "      <progress value='130' class='' max='130', style='width:300px; height:20px; vertical-align: middle;'></progress>\n",
       "      100.00% [130/130 00:20<00:00]\n",
       "    </div>\n",
       "    "
      ],
      "text/plain": [
       "<IPython.core.display.HTML object>"
      ]
     },
     "metadata": {},
     "output_type": "display_data"
    },
    {
     "name": "stdout",
     "output_type": "stream",
     "text": [
      "02/16/2019 13:25:08 - INFO - root -   Eval results:\n",
      "02/16/2019 13:25:08 - INFO - root -     eval_loss = 0.011057428213266225\n",
      "02/16/2019 13:25:08 - INFO - root -     metrics = {'accuracy_thresh': 0.997390866279602, 'roc_auc': 0.9631731147904232, 'fbeta': 0.5235573053359985, 'accuracy_single': 0.6385745244401637}\n",
      "02/16/2019 13:25:08 - INFO - root -   --------------------------------------------------------------------------------\n",
      "02/16/2019 13:26:57 - INFO - root -   Loss after epoch 6 - 0.009417491692763109\n",
      "02/16/2019 13:26:57 - INFO - root -   Running evaluation\n"
     ]
    },
    {
     "data": {
      "text/html": [
       "\n",
       "    <div>\n",
       "        <style>\n",
       "            /* Turns off some styling */\n",
       "            progress {\n",
       "                /* gets rid of default border in Firefox and Opera. */\n",
       "                border: none;\n",
       "                /* Needs to be in here for Safari polyfill so background images work as expected. */\n",
       "                background-size: auto;\n",
       "            }\n",
       "            .progress-bar-interrupted, .progress-bar-interrupted::-webkit-progress-bar {\n",
       "                background: #F44336;\n",
       "            }\n",
       "        </style>\n",
       "      <progress value='130' class='' max='130', style='width:300px; height:20px; vertical-align: middle;'></progress>\n",
       "      100.00% [130/130 00:20<00:00]\n",
       "    </div>\n",
       "    "
      ],
      "text/plain": [
       "<IPython.core.display.HTML object>"
      ]
     },
     "metadata": {},
     "output_type": "display_data"
    },
    {
     "name": "stdout",
     "output_type": "stream",
     "text": [
      "02/16/2019 13:27:18 - INFO - root -   Eval results:\n",
      "02/16/2019 13:27:18 - INFO - root -     eval_loss = 0.009512241070087139\n",
      "02/16/2019 13:27:18 - INFO - root -     metrics = {'accuracy_thresh': 0.9976393580436707, 'roc_auc': 0.9728386811316407, 'fbeta': 0.6119672656059265, 'accuracy_single': 0.6792679990368409}\n",
      "02/16/2019 13:27:18 - INFO - root -   --------------------------------------------------------------------------------\n",
      "02/16/2019 13:29:07 - INFO - root -   Loss after epoch 7 - 0.0073780646690955526\n",
      "02/16/2019 13:29:07 - INFO - root -   Running evaluation\n"
     ]
    },
    {
     "data": {
      "text/html": [
       "\n",
       "    <div>\n",
       "        <style>\n",
       "            /* Turns off some styling */\n",
       "            progress {\n",
       "                /* gets rid of default border in Firefox and Opera. */\n",
       "                border: none;\n",
       "                /* Needs to be in here for Safari polyfill so background images work as expected. */\n",
       "                background-size: auto;\n",
       "            }\n",
       "            .progress-bar-interrupted, .progress-bar-interrupted::-webkit-progress-bar {\n",
       "                background: #F44336;\n",
       "            }\n",
       "        </style>\n",
       "      <progress value='130' class='' max='130', style='width:300px; height:20px; vertical-align: middle;'></progress>\n",
       "      100.00% [130/130 00:20<00:00]\n",
       "    </div>\n",
       "    "
      ],
      "text/plain": [
       "<IPython.core.display.HTML object>"
      ]
     },
     "metadata": {},
     "output_type": "display_data"
    },
    {
     "name": "stdout",
     "output_type": "stream",
     "text": [
      "02/16/2019 13:29:28 - INFO - root -   Eval results:\n",
      "02/16/2019 13:29:28 - INFO - root -     eval_loss = 0.008456655649038462\n",
      "02/16/2019 13:29:28 - INFO - root -     metrics = {'accuracy_thresh': 0.9979244470596313, 'roc_auc': 0.9793135123511588, 'fbeta': 0.6650614142417908, 'accuracy_single': 0.7047917168312063}\n",
      "02/16/2019 13:29:28 - INFO - root -   --------------------------------------------------------------------------------\n",
      "02/16/2019 13:31:17 - INFO - root -   Loss after epoch 8 - 0.005822009306687575\n",
      "02/16/2019 13:31:17 - INFO - root -   Running evaluation\n"
     ]
    },
    {
     "data": {
      "text/html": [
       "\n",
       "    <div>\n",
       "        <style>\n",
       "            /* Turns off some styling */\n",
       "            progress {\n",
       "                /* gets rid of default border in Firefox and Opera. */\n",
       "                border: none;\n",
       "                /* Needs to be in here for Safari polyfill so background images work as expected. */\n",
       "                background-size: auto;\n",
       "            }\n",
       "            .progress-bar-interrupted, .progress-bar-interrupted::-webkit-progress-bar {\n",
       "                background: #F44336;\n",
       "            }\n",
       "        </style>\n",
       "      <progress value='130' class='' max='130', style='width:300px; height:20px; vertical-align: middle;'></progress>\n",
       "      100.00% [130/130 00:20<00:00]\n",
       "    </div>\n",
       "    "
      ],
      "text/plain": [
       "<IPython.core.display.HTML object>"
      ]
     },
     "metadata": {},
     "output_type": "display_data"
    },
    {
     "name": "stdout",
     "output_type": "stream",
     "text": [
      "02/16/2019 13:31:37 - INFO - root -   Eval results:\n",
      "02/16/2019 13:31:37 - INFO - root -     eval_loss = 0.007847419151893029\n",
      "02/16/2019 13:31:37 - INFO - root -     metrics = {'accuracy_thresh': 0.9980486631393433, 'roc_auc': 0.9823831787088512, 'fbeta': 0.6913074851036072, 'accuracy_single': 0.7199614736335179}\n",
      "02/16/2019 13:31:37 - INFO - root -   --------------------------------------------------------------------------------\n",
      "02/16/2019 13:33:25 - INFO - root -   Loss after epoch 9 - 0.004649225565103384\n",
      "02/16/2019 13:33:25 - INFO - root -   Running evaluation\n"
     ]
    },
    {
     "data": {
      "text/html": [
       "\n",
       "    <div>\n",
       "        <style>\n",
       "            /* Turns off some styling */\n",
       "            progress {\n",
       "                /* gets rid of default border in Firefox and Opera. */\n",
       "                border: none;\n",
       "                /* Needs to be in here for Safari polyfill so background images work as expected. */\n",
       "                background-size: auto;\n",
       "            }\n",
       "            .progress-bar-interrupted, .progress-bar-interrupted::-webkit-progress-bar {\n",
       "                background: #F44336;\n",
       "            }\n",
       "        </style>\n",
       "      <progress value='130' class='' max='130', style='width:300px; height:20px; vertical-align: middle;'></progress>\n",
       "      100.00% [130/130 00:20<00:00]\n",
       "    </div>\n",
       "    "
      ],
      "text/plain": [
       "<IPython.core.display.HTML object>"
      ]
     },
     "metadata": {},
     "output_type": "display_data"
    },
    {
     "name": "stdout",
     "output_type": "stream",
     "text": [
      "02/16/2019 13:33:46 - INFO - root -   Eval results:\n",
      "02/16/2019 13:33:46 - INFO - root -     eval_loss = 0.007371975825383113\n",
      "02/16/2019 13:33:46 - INFO - root -     metrics = {'accuracy_thresh': 0.9980968236923218, 'roc_auc': 0.9835026535331938, 'fbeta': 0.7114134430885315, 'accuracy_single': 0.7346496508548037}\n",
      "02/16/2019 13:33:46 - INFO - root -   --------------------------------------------------------------------------------\n",
      "02/16/2019 13:35:34 - INFO - root -   Loss after epoch 10 - 0.003665929574232835\n",
      "02/16/2019 13:35:34 - INFO - root -   Running evaluation\n"
     ]
    },
    {
     "data": {
      "text/html": [
       "\n",
       "    <div>\n",
       "        <style>\n",
       "            /* Turns off some styling */\n",
       "            progress {\n",
       "                /* gets rid of default border in Firefox and Opera. */\n",
       "                border: none;\n",
       "                /* Needs to be in here for Safari polyfill so background images work as expected. */\n",
       "                background-size: auto;\n",
       "            }\n",
       "            .progress-bar-interrupted, .progress-bar-interrupted::-webkit-progress-bar {\n",
       "                background: #F44336;\n",
       "            }\n",
       "        </style>\n",
       "      <progress value='130' class='' max='130', style='width:300px; height:20px; vertical-align: middle;'></progress>\n",
       "      100.00% [130/130 00:20<00:00]\n",
       "    </div>\n",
       "    "
      ],
      "text/plain": [
       "<IPython.core.display.HTML object>"
      ]
     },
     "metadata": {},
     "output_type": "display_data"
    },
    {
     "name": "stdout",
     "output_type": "stream",
     "text": [
      "02/16/2019 13:35:55 - INFO - root -   Eval results:\n",
      "02/16/2019 13:35:55 - INFO - root -     eval_loss = 0.00729216062105619\n",
      "02/16/2019 13:35:55 - INFO - root -     metrics = {'accuracy_thresh': 0.9981382489204407, 'roc_auc': 0.9822643504303727, 'fbeta': 0.7261015772819519, 'accuracy_single': 0.7399470262460872}\n",
      "02/16/2019 13:35:55 - INFO - root -   --------------------------------------------------------------------------------\n",
      "02/16/2019 13:37:43 - INFO - root -   Loss after epoch 11 - 0.0030299947812007025\n",
      "02/16/2019 13:37:43 - INFO - root -   Running evaluation\n"
     ]
    },
    {
     "data": {
      "text/html": [
       "\n",
       "    <div>\n",
       "        <style>\n",
       "            /* Turns off some styling */\n",
       "            progress {\n",
       "                /* gets rid of default border in Firefox and Opera. */\n",
       "                border: none;\n",
       "                /* Needs to be in here for Safari polyfill so background images work as expected. */\n",
       "                background-size: auto;\n",
       "            }\n",
       "            .progress-bar-interrupted, .progress-bar-interrupted::-webkit-progress-bar {\n",
       "                background: #F44336;\n",
       "            }\n",
       "        </style>\n",
       "      <progress value='130' class='' max='130', style='width:300px; height:20px; vertical-align: middle;'></progress>\n",
       "      100.00% [130/130 00:20<00:00]\n",
       "    </div>\n",
       "    "
      ],
      "text/plain": [
       "<IPython.core.display.HTML object>"
      ]
     },
     "metadata": {},
     "output_type": "display_data"
    },
    {
     "name": "stdout",
     "output_type": "stream",
     "text": [
      "02/16/2019 13:38:04 - INFO - root -   Eval results:\n",
      "02/16/2019 13:38:04 - INFO - root -     eval_loss = 0.007080532954289363\n",
      "02/16/2019 13:38:04 - INFO - root -     metrics = {'accuracy_thresh': 0.9981845021247864, 'roc_auc': 0.9829804221328591, 'fbeta': 0.735142707824707, 'accuracy_single': 0.7450036118468577}\n",
      "02/16/2019 13:38:04 - INFO - root -   --------------------------------------------------------------------------------\n",
      "02/16/2019 13:39:52 - INFO - root -   Loss after epoch 12 - 0.0023841371903052695\n",
      "02/16/2019 13:39:52 - INFO - root -   Running evaluation\n"
     ]
    },
    {
     "data": {
      "text/html": [
       "\n",
       "    <div>\n",
       "        <style>\n",
       "            /* Turns off some styling */\n",
       "            progress {\n",
       "                /* gets rid of default border in Firefox and Opera. */\n",
       "                border: none;\n",
       "                /* Needs to be in here for Safari polyfill so background images work as expected. */\n",
       "                background-size: auto;\n",
       "            }\n",
       "            .progress-bar-interrupted, .progress-bar-interrupted::-webkit-progress-bar {\n",
       "                background: #F44336;\n",
       "            }\n",
       "        </style>\n",
       "      <progress value='130' class='' max='130', style='width:300px; height:20px; vertical-align: middle;'></progress>\n",
       "      100.00% [130/130 00:20<00:00]\n",
       "    </div>\n",
       "    "
      ],
      "text/plain": [
       "<IPython.core.display.HTML object>"
      ]
     },
     "metadata": {},
     "output_type": "display_data"
    },
    {
     "name": "stdout",
     "output_type": "stream",
     "text": [
      "02/16/2019 13:40:13 - INFO - root -   Eval results:\n",
      "02/16/2019 13:40:13 - INFO - root -     eval_loss = 0.007075441800631009\n",
      "02/16/2019 13:40:13 - INFO - root -     metrics = {'accuracy_thresh': 0.9982143640518188, 'roc_auc': 0.9816047056889162, 'fbeta': 0.7463681101799011, 'accuracy_single': 0.7536720443053214}\n",
      "02/16/2019 13:40:13 - INFO - root -   --------------------------------------------------------------------------------\n",
      "02/16/2019 13:42:00 - INFO - root -   Loss after epoch 13 - 0.001962565458737887\n",
      "02/16/2019 13:42:00 - INFO - root -   Running evaluation\n"
     ]
    },
    {
     "data": {
      "text/html": [
       "\n",
       "    <div>\n",
       "        <style>\n",
       "            /* Turns off some styling */\n",
       "            progress {\n",
       "                /* gets rid of default border in Firefox and Opera. */\n",
       "                border: none;\n",
       "                /* Needs to be in here for Safari polyfill so background images work as expected. */\n",
       "                background-size: auto;\n",
       "            }\n",
       "            .progress-bar-interrupted, .progress-bar-interrupted::-webkit-progress-bar {\n",
       "                background: #F44336;\n",
       "            }\n",
       "        </style>\n",
       "      <progress value='130' class='' max='130', style='width:300px; height:20px; vertical-align: middle;'></progress>\n",
       "      100.00% [130/130 00:20<00:00]\n",
       "    </div>\n",
       "    "
      ],
      "text/plain": [
       "<IPython.core.display.HTML object>"
      ]
     },
     "metadata": {},
     "output_type": "display_data"
    },
    {
     "name": "stdout",
     "output_type": "stream",
     "text": [
      "02/16/2019 13:42:21 - INFO - root -   Eval results:\n",
      "02/16/2019 13:42:21 - INFO - root -     eval_loss = 0.007120983417217548\n",
      "02/16/2019 13:42:21 - INFO - root -     metrics = {'accuracy_thresh': 0.9982547760009766, 'roc_auc': 0.9812972658780645, 'fbeta': 0.7462075352668762, 'accuracy_single': 0.7577654707440404}\n",
      "02/16/2019 13:42:21 - INFO - root -   --------------------------------------------------------------------------------\n",
      "02/16/2019 13:44:09 - INFO - root -   Loss after epoch 14 - 0.0015996653300065261\n",
      "02/16/2019 13:44:09 - INFO - root -   Running evaluation\n"
     ]
    },
    {
     "data": {
      "text/html": [
       "\n",
       "    <div>\n",
       "        <style>\n",
       "            /* Turns off some styling */\n",
       "            progress {\n",
       "                /* gets rid of default border in Firefox and Opera. */\n",
       "                border: none;\n",
       "                /* Needs to be in here for Safari polyfill so background images work as expected. */\n",
       "                background-size: auto;\n",
       "            }\n",
       "            .progress-bar-interrupted, .progress-bar-interrupted::-webkit-progress-bar {\n",
       "                background: #F44336;\n",
       "            }\n",
       "        </style>\n",
       "      <progress value='130' class='' max='130', style='width:300px; height:20px; vertical-align: middle;'></progress>\n",
       "      100.00% [130/130 00:20<00:00]\n",
       "    </div>\n",
       "    "
      ],
      "text/plain": [
       "<IPython.core.display.HTML object>"
      ]
     },
     "metadata": {},
     "output_type": "display_data"
    },
    {
     "name": "stdout",
     "output_type": "stream",
     "text": [
      "02/16/2019 13:44:29 - INFO - root -   Eval results:\n",
      "02/16/2019 13:44:29 - INFO - root -     eval_loss = 0.007097581716684195\n",
      "02/16/2019 13:44:29 - INFO - root -     metrics = {'accuracy_thresh': 0.9982567429542542, 'roc_auc': 0.981254240382858, 'fbeta': 0.7526687979698181, 'accuracy_single': 0.7601733686491693}\n",
      "02/16/2019 13:44:29 - INFO - root -   --------------------------------------------------------------------------------\n",
      "02/16/2019 13:46:18 - INFO - root -   Loss after epoch 15 - 0.001373136043548584\n",
      "02/16/2019 13:46:18 - INFO - root -   Running evaluation\n"
     ]
    },
    {
     "data": {
      "text/html": [
       "\n",
       "    <div>\n",
       "        <style>\n",
       "            /* Turns off some styling */\n",
       "            progress {\n",
       "                /* gets rid of default border in Firefox and Opera. */\n",
       "                border: none;\n",
       "                /* Needs to be in here for Safari polyfill so background images work as expected. */\n",
       "                background-size: auto;\n",
       "            }\n",
       "            .progress-bar-interrupted, .progress-bar-interrupted::-webkit-progress-bar {\n",
       "                background: #F44336;\n",
       "            }\n",
       "        </style>\n",
       "      <progress value='130' class='' max='130', style='width:300px; height:20px; vertical-align: middle;'></progress>\n",
       "      100.00% [130/130 00:20<00:00]\n",
       "    </div>\n",
       "    "
      ],
      "text/plain": [
       "<IPython.core.display.HTML object>"
      ]
     },
     "metadata": {},
     "output_type": "display_data"
    },
    {
     "name": "stdout",
     "output_type": "stream",
     "text": [
      "02/16/2019 13:46:38 - INFO - root -   Eval results:\n",
      "02/16/2019 13:46:38 - INFO - root -     eval_loss = 0.007184366079477164\n",
      "02/16/2019 13:46:38 - INFO - root -     metrics = {'accuracy_thresh': 0.9982750415802002, 'roc_auc': 0.9814975299377026, 'fbeta': 0.7523878216743469, 'accuracy_single': 0.758728629906092}\n",
      "02/16/2019 13:46:38 - INFO - root -   --------------------------------------------------------------------------------\n",
      "02/16/2019 13:48:26 - INFO - root -   Loss after epoch 16 - 0.0011648611380503729\n",
      "02/16/2019 13:48:26 - INFO - root -   Running evaluation\n"
     ]
    },
    {
     "data": {
      "text/html": [
       "\n",
       "    <div>\n",
       "        <style>\n",
       "            /* Turns off some styling */\n",
       "            progress {\n",
       "                /* gets rid of default border in Firefox and Opera. */\n",
       "                border: none;\n",
       "                /* Needs to be in here for Safari polyfill so background images work as expected. */\n",
       "                background-size: auto;\n",
       "            }\n",
       "            .progress-bar-interrupted, .progress-bar-interrupted::-webkit-progress-bar {\n",
       "                background: #F44336;\n",
       "            }\n",
       "        </style>\n",
       "      <progress value='130' class='' max='130', style='width:300px; height:20px; vertical-align: middle;'></progress>\n",
       "      100.00% [130/130 00:20<00:00]\n",
       "    </div>\n",
       "    "
      ],
      "text/plain": [
       "<IPython.core.display.HTML object>"
      ]
     },
     "metadata": {},
     "output_type": "display_data"
    },
    {
     "name": "stdout",
     "output_type": "stream",
     "text": [
      "02/16/2019 13:48:47 - INFO - root -   Eval results:\n",
      "02/16/2019 13:48:47 - INFO - root -     eval_loss = 0.007150620680588943\n",
      "02/16/2019 13:48:47 - INFO - root -     metrics = {'accuracy_thresh': 0.9983164668083191, 'roc_auc': 0.981643077321721, 'fbeta': 0.7561601996421814, 'accuracy_single': 0.7635444257163496}\n",
      "02/16/2019 13:48:47 - INFO - root -   --------------------------------------------------------------------------------\n",
      "02/16/2019 13:50:35 - INFO - root -   Loss after epoch 17 - 0.0010135964705393864\n",
      "02/16/2019 13:50:35 - INFO - root -   Running evaluation\n"
     ]
    },
    {
     "data": {
      "text/html": [
       "\n",
       "    <div>\n",
       "        <style>\n",
       "            /* Turns off some styling */\n",
       "            progress {\n",
       "                /* gets rid of default border in Firefox and Opera. */\n",
       "                border: none;\n",
       "                /* Needs to be in here for Safari polyfill so background images work as expected. */\n",
       "                background-size: auto;\n",
       "            }\n",
       "            .progress-bar-interrupted, .progress-bar-interrupted::-webkit-progress-bar {\n",
       "                background: #F44336;\n",
       "            }\n",
       "        </style>\n",
       "      <progress value='130' class='' max='130', style='width:300px; height:20px; vertical-align: middle;'></progress>\n",
       "      100.00% [130/130 00:20<00:00]\n",
       "    </div>\n",
       "    "
      ],
      "text/plain": [
       "<IPython.core.display.HTML object>"
      ]
     },
     "metadata": {},
     "output_type": "display_data"
    },
    {
     "name": "stdout",
     "output_type": "stream",
     "text": [
      "02/16/2019 13:50:55 - INFO - root -   Eval results:\n",
      "02/16/2019 13:50:55 - INFO - root -     eval_loss = 0.007274128840519832\n",
      "02/16/2019 13:50:55 - INFO - root -     metrics = {'accuracy_thresh': 0.9982634782791138, 'roc_auc': 0.9811817399988816, 'fbeta': 0.7500200867652893, 'accuracy_single': 0.7620996869732723}\n",
      "02/16/2019 13:50:55 - INFO - root -   --------------------------------------------------------------------------------\n",
      "02/16/2019 13:52:43 - INFO - root -   Loss after epoch 18 - 0.0009088511650378888\n",
      "02/16/2019 13:52:43 - INFO - root -   Running evaluation\n"
     ]
    },
    {
     "data": {
      "text/html": [
       "\n",
       "    <div>\n",
       "        <style>\n",
       "            /* Turns off some styling */\n",
       "            progress {\n",
       "                /* gets rid of default border in Firefox and Opera. */\n",
       "                border: none;\n",
       "                /* Needs to be in here for Safari polyfill so background images work as expected. */\n",
       "                background-size: auto;\n",
       "            }\n",
       "            .progress-bar-interrupted, .progress-bar-interrupted::-webkit-progress-bar {\n",
       "                background: #F44336;\n",
       "            }\n",
       "        </style>\n",
       "      <progress value='130' class='' max='130', style='width:300px; height:20px; vertical-align: middle;'></progress>\n",
       "      100.00% [130/130 00:20<00:00]\n",
       "    </div>\n",
       "    "
      ],
      "text/plain": [
       "<IPython.core.display.HTML object>"
      ]
     },
     "metadata": {},
     "output_type": "display_data"
    },
    {
     "name": "stdout",
     "output_type": "stream",
     "text": [
      "02/16/2019 13:53:03 - INFO - root -   Eval results:\n",
      "02/16/2019 13:53:03 - INFO - root -     eval_loss = 0.007326052739070012\n",
      "02/16/2019 13:53:03 - INFO - root -     metrics = {'accuracy_thresh': 0.9982759952545166, 'roc_auc': 0.9805259597573299, 'fbeta': 0.7559595108032227, 'accuracy_single': 0.7616181073922466}\n",
      "02/16/2019 13:53:03 - INFO - root -   --------------------------------------------------------------------------------\n",
      "02/16/2019 13:54:52 - INFO - root -   Loss after epoch 19 - 0.0008496020848934467\n",
      "02/16/2019 13:54:52 - INFO - root -   Running evaluation\n"
     ]
    },
    {
     "data": {
      "text/html": [
       "\n",
       "    <div>\n",
       "        <style>\n",
       "            /* Turns off some styling */\n",
       "            progress {\n",
       "                /* gets rid of default border in Firefox and Opera. */\n",
       "                border: none;\n",
       "                /* Needs to be in here for Safari polyfill so background images work as expected. */\n",
       "                background-size: auto;\n",
       "            }\n",
       "            .progress-bar-interrupted, .progress-bar-interrupted::-webkit-progress-bar {\n",
       "                background: #F44336;\n",
       "            }\n",
       "        </style>\n",
       "      <progress value='130' class='' max='130', style='width:300px; height:20px; vertical-align: middle;'></progress>\n",
       "      100.00% [130/130 00:20<00:00]\n",
       "    </div>\n",
       "    "
      ],
      "text/plain": [
       "<IPython.core.display.HTML object>"
      ]
     },
     "metadata": {},
     "output_type": "display_data"
    },
    {
     "name": "stdout",
     "output_type": "stream",
     "text": [
      "02/16/2019 13:55:13 - INFO - root -   Eval results:\n",
      "02/16/2019 13:55:13 - INFO - root -     eval_loss = 0.007346945542555589\n",
      "02/16/2019 13:55:13 - INFO - root -     metrics = {'accuracy_thresh': 0.9982894659042358, 'roc_auc': 0.9803986506054424, 'fbeta': 0.7549563050270081, 'accuracy_single': 0.7625812665542981}\n",
      "02/16/2019 13:55:13 - INFO - root -   --------------------------------------------------------------------------------\n"
     ]
    }
   ],
   "source": [
    "learner.fit(20, lr=args['learning_rate'])"
   ]
  },
  {
   "cell_type": "code",
   "execution_count": 15,
   "metadata": {},
   "outputs": [
    {
     "name": "stdout",
     "output_type": "stream",
     "text": [
      "02/16/2019 13:55:14 - INFO - pytorch_pretrained_bert.modeling -   loading archive file ../models/pretrained-weights/uncased_L-12_H-768_A-12 from cache at ../models/pretrained-weights/uncased_L-12_H-768_A-12\n",
      "02/16/2019 13:55:14 - INFO - pytorch_pretrained_bert.modeling -   Model config {\n",
      "  \"attention_probs_dropout_prob\": 0.1,\n",
      "  \"hidden_act\": \"gelu\",\n",
      "  \"hidden_dropout_prob\": 0.1,\n",
      "  \"hidden_size\": 768,\n",
      "  \"initializer_range\": 0.02,\n",
      "  \"intermediate_size\": 3072,\n",
      "  \"max_position_embeddings\": 512,\n",
      "  \"num_attention_heads\": 12,\n",
      "  \"num_hidden_layers\": 12,\n",
      "  \"type_vocab_size\": 2,\n",
      "  \"vocab_size\": 30522\n",
      "}\n",
      "\n"
     ]
    }
   ],
   "source": [
    "learner.save_and_reload(MODEL_PATH, 'intent_multilabel_classification_{}'.format(run_start_time))"
   ]
  },
  {
   "cell_type": "code",
   "execution_count": 16,
   "metadata": {},
   "outputs": [
    {
     "data": {
      "text/plain": [
       "[[('change-email', 0.9453),\n",
       "  ('enquire-vague', 0.00656),\n",
       "  ('enquire-account_online', 0.004772),\n",
       "  ('report-no_energy', 0.003172),\n",
       "  ('report-contact', 0.00291),\n",
       "  ('enquire-call_back', 0.002388),\n",
       "  ('report-home_move', 0.002165),\n",
       "  ('request-advisor', 0.00192),\n",
       "  ('problem-heating', 0.001854),\n",
       "  ('change-address', 0.00181),\n",
       "  ('change-account_detail', 0.001789),\n",
       "  ('cancel-vague', 0.001727),\n",
       "  ('vague-fraud', 0.001636),\n",
       "  ('problem-drain', 0.001549),\n",
       "  ('change-direct_debit', 0.001422),\n",
       "  ('request-appointment_emergency', 0.001393),\n",
       "  ('report-appointment_missed', 0.00132),\n",
       "  ('enquire-appointment_today', 0.001315),\n",
       "  ('enquire-password', 0.0011425),\n",
       "  ('problem-account_setup', 0.001125),\n",
       "  ('enquire-annual_service', 0.001095),\n",
       "  ('problem-vague', 0.001081),\n",
       "  ('enquire-power_cut', 0.001069),\n",
       "  ('change-ownership', 0.001009),\n",
       "  ('enquire-authority', 0.000959),\n",
       "  ('change-appointment_boiler', 0.0009074),\n",
       "  ('problem-boiler', 0.0009003),\n",
       "  ('problem-home_move', 0.0008726),\n",
       "  ('request-appointment_homecare', 0.0008397),\n",
       "  ('cancel-energy', 0.0008326),\n",
       "  ('enquire-appointment_boiler', 0.0008197),\n",
       "  ('enquire-appointment', 0.000804),\n",
       "  ('enquire-account_confirm', 0.0007763),\n",
       "  ('request-dyno_rod', 0.0006957),\n",
       "  ('enquire-repair', 0.00068),\n",
       "  ('request-meter_remove', 0.00068),\n",
       "  ('cancel-contract', 0.0006666),\n",
       "  ('report-emergency', 0.0006666),\n",
       "  ('problem-hive_app', 0.000649),\n",
       "  ('enquire-warm_home_discount', 0.0006385),\n",
       "  ('enquire-order', 0.000636),\n",
       "  ('change-appointment', 0.0006237),\n",
       "  ('change-payment_plan', 0.000607),\n",
       "  ('cancel-appointment', 0.000595),\n",
       "  ('problem-appliance', 0.0005884),\n",
       "  ('setup-account', 0.0005794),\n",
       "  ('report-blockage', 0.000572),\n",
       "  ('enquire-agreement', 0.000557),\n",
       "  ('change-appointment_service', 0.000536),\n",
       "  ('problem-hive_thermostat', 0.000503),\n",
       "  ('enquire-hive_app', 0.000501),\n",
       "  ('change-homecare', 0.0004954),\n",
       "  ('change-phone', 0.0004935),\n",
       "  ('enquire-voucher', 0.0004897),\n",
       "  ('enquire-hive_heating', 0.0004845),\n",
       "  ('request-bill_paper', 0.0004761),\n",
       "  ('enquire-emergency_credit', 0.000469),\n",
       "  ('cancel-tariff', 0.0004673),\n",
       "  ('enquire-nectar', 0.0004656),\n",
       "  ('enquire-account', 0.000448),\n",
       "  ('report-leak_drain', 0.0004356),\n",
       "  ('problem-hive_heating', 0.0004356),\n",
       "  ('join-homecare', 0.000429),\n",
       "  ('enquire-complaint', 0.0004208),\n",
       "  ('cancel-smart_meter', 0.0004113),\n",
       "  ('enquire-insurance', 0.0003982),\n",
       "  ('problem-pipe', 0.0003982),\n",
       "  ('enquire-payment', 0.0003726),\n",
       "  ('setup-contract', 0.000371),\n",
       "  ('request-service_report', 0.000368),\n",
       "  ('report-payment_difficulty', 0.0003655),\n",
       "  ('enquire-claim', 0.0003598),\n",
       "  ('report-business_move', 0.0003572),\n",
       "  ('problem-toilet', 0.0003526),\n",
       "  ('enquire-install_hive', 0.0003486),\n",
       "  ('enquire-hive_hub', 0.0003407),\n",
       "  ('enquire-alarm', 0.0003276),\n",
       "  ('enquire-hive_thermostat', 0.0003276),\n",
       "  ('change-vague', 0.0003226),\n",
       "  ('problem-gas', 0.0003176),\n",
       "  ('request-meter_move', 0.0003176),\n",
       "  ('change-supplier', 0.0003052),\n",
       "  ('problem-meter_reading', 0.0003052),\n",
       "  ('enquire-charge_late_payment', 0.0002983),\n",
       "  ('enquire-gas_fire', 0.0002959),\n",
       "  ('enquire-install_smart_meter', 0.0002959),\n",
       "  ('report-letter', 0.000289),\n",
       "  ('enquire-tariff', 0.0002847),\n",
       "  ('problem-electric', 0.0002804),\n",
       "  ('request-appointment_meter_reading', 0.000278),\n",
       "  ('enquire-customer_number', 0.0002759),\n",
       "  ('vague-business', 0.0002759),\n",
       "  ('enquire-service', 0.0002718),\n",
       "  ('enquire-business_account', 0.0002718),\n",
       "  ('problem-hive_camera', 0.0002718),\n",
       "  ('problem-meter_payge', 0.0002654),\n",
       "  ('change-install_smart_meter', 0.0002654),\n",
       "  ('enquire-appointment_plumbing', 0.0002632),\n",
       "  ('report-leak_water', 0.0002613),\n",
       "  ('cancel-direct_debit', 0.0002613),\n",
       "  ('report-leak_sink', 0.0002613),\n",
       "  ('request-appointment_heating', 0.0002592),\n",
       "  ('enquire-gas_capped', 0.0002415),\n",
       "  ('report-letter_leaving', 0.0002415),\n",
       "  ('enquire-smart_card', 0.0002415),\n",
       "  ('vague-top_up', 0.000236),\n",
       "  ('enquire-appointment_smart_meter', 0.0002341),\n",
       "  ('vague-landlord', 0.0002341),\n",
       "  ('register-card', 0.0002323),\n",
       "  ('cancel-hive', 0.0002323),\n",
       "  ('report-property_new', 0.0002288),\n",
       "  ('enquire-activation_code', 0.0002252),\n",
       "  ('report-card_lost', 0.0002234),\n",
       "  ('enquire-direct_debit', 0.0002115),\n",
       "  ('report-payment_late', 0.0002066),\n",
       "  ('problem-key', 0.000205),\n",
       "  ('request-annual_service', 0.000202),\n",
       "  ('problem-boiler_pressure', 0.000202),\n",
       "  ('request-install_meter_payge', 0.0002003),\n",
       "  ('problem-payment', 0.0002003),\n",
       "  ('request-smart_meter', 0.0001972),\n",
       "  ('vague-compensation', 0.0001972),\n",
       "  ('cancel-business_account', 0.0001956),\n",
       "  ('enquire-repayment', 0.0001956),\n",
       "  ('change-name', 0.0001941),\n",
       "  ('enquire-property', 0.0001941),\n",
       "  ('join-energy', 0.0001926),\n",
       "  ('request-appointment_boiler', 0.0001911),\n",
       "  ('report-direct_debit_changed', 0.0001897),\n",
       "  ('enquire-charge', 0.0001881),\n",
       "  ('report-meter_reading_wrong', 0.0001854),\n",
       "  ('problem-meter', 0.0001854),\n",
       "  ('problem-water', 0.0001838),\n",
       "  ('report-meter_reading_opening', 0.0001838),\n",
       "  ('enquire-meter_exchange', 0.0001824),\n",
       "  ('enquire-warranty', 0.0001824),\n",
       "  ('report-meter_reading', 0.0001796),\n",
       "  ('enquire-hive_camera', 0.0001782),\n",
       "  ('request-service', 0.0001768),\n",
       "  ('report-gas_emergency', 0.0001768),\n",
       "  ('request-invoice', 0.0001755),\n",
       "  ('enquire-bill', 0.0001713),\n",
       "  ('problem-account', 0.0001713),\n",
       "  ('request-appointment', 0.0001636),\n",
       "  ('enquire-security_deposit', 0.0001584),\n",
       "  ('enquire-bill_homecare', 0.0001584),\n",
       "  ('enquire-power_flush', 0.0001572),\n",
       "  ('enquire-appointment_when', 0.0001523),\n",
       "  ('enquire-meter_payge', 0.0001523),\n",
       "  ('enquire-bill_paid', 0.0001513),\n",
       "  ('enquire-gas_pipe', 0.0001513),\n",
       "  ('enquire-hive', 0.0001454),\n",
       "  ('enquire-meter_number', 0.0001388),\n",
       "  ('vague-carbon_monoxide', 0.0001377),\n",
       "  ('enquire-account_overdue', 0.0001377),\n",
       "  ('enquire-meter_reset', 0.0001366),\n",
       "  ('problem-payment_plan', 0.0001366),\n",
       "  ('enquire-heating', 0.0001345),\n",
       "  ('problem-direct_debit', 0.0001345),\n",
       "  ('enquire-install_heating', 0.0001345),\n",
       "  ('report-house_sale', 0.0001345),\n",
       "  ('report-leak_heating', 0.0001314),\n",
       "  ('enquire-bill_reminder', 0.0001293),\n",
       "  ('enquire-payment_plan', 0.0001264),\n",
       "  ('pay-bill_final', 0.0001264),\n",
       "  ('problem-hive_hub', 0.0001254),\n",
       "  ('enquire-hive_bulb', 0.0001196),\n",
       "  ('request-card', 0.00011873),\n",
       "  ('report-cut_off', 0.00011784),\n",
       "  ('enquire-fuel_direct', 0.000115),\n",
       "  ('vague-breakdown', 0.00011414),\n",
       "  ('request-install_meter', 0.00011325),\n",
       "  ('enquire-meter_new', 0.00011325),\n",
       "  ('enquire-card', 0.0001106),\n",
       "  ('report-bereavement', 0.0001106),\n",
       "  ('enquire-gas_safety', 0.0001089),\n",
       "  ('enquire-heating_upgrade', 0.0001089),\n",
       "  ('enquire-insulation', 0.00010806),\n",
       "  ('vague-pest_control', 0.00010556),\n",
       "  ('problem-hive_sensor', 0.00010073),\n",
       "  ('enquire-business_care', 9.99e-05),\n",
       "  ('enquire-invoice', 9.537e-05),\n",
       "  ('enquire-bill_due', 9.537e-05),\n",
       "  ('enquire-hive_sensor', 9.537e-05),\n",
       "  ('request-appointment_plumbing', 9.394e-05),\n",
       "  ('report-bill_high', 9.316e-05),\n",
       "  ('report-bill_paid', 9.245e-05),\n",
       "  ('enquire-install', 9.096e-05),\n",
       "  ('enquire-smart_meter', 8.82e-05),\n",
       "  ('vague-plumbing', 8.68e-05),\n",
       "  ('problem-smart_meter', 8.68e-05),\n",
       "  ('report-direct_debit_unpaid', 8.61e-05),\n",
       "  ('enquire-refund', 8.55e-05),\n",
       "  ('enquire-supplier', 8.416e-05),\n",
       "  ('pay-homecare', 8.35e-05),\n",
       "  ('enquire-meter_reading', 8.22e-05),\n",
       "  ('enquire-bill_energy', 8.03e-05),\n",
       "  ('vague-solar_panel', 8.03e-05),\n",
       "  ('enquire-install_boiler', 7.904e-05),\n",
       "  ('report-meter_reading_final', 7.904e-05),\n",
       "  ('enquire-boiler_iq', 7.844e-05),\n",
       "  ('None', 7.665e-05),\n",
       "  ('problem-hot_water', 7.087e-05),\n",
       "  ('enquire-bulb', 7.033e-05),\n",
       "  ('setup-payment_plan', 6.974e-05),\n",
       "  ('vague-appliance', 6.81e-05),\n",
       "  ('problem-card', 6.81e-05),\n",
       "  ('request-appointment_electric', 6.557e-05),\n",
       "  ('problem-hive', 6.557e-05),\n",
       "  ('report-gas_smell', 6.455e-05),\n",
       "  ('report-leak', 6.354e-05),\n",
       "  ('enquire-connection', 6.205e-05),\n",
       "  ('setup-hive', 6.16e-05),\n",
       "  ('enquire-quote', 6.06e-05),\n",
       "  ('pay-bill_energy', 5.877e-05),\n",
       "  ('renew-agreement', 5.78e-05),\n",
       "  ('request-locksmith', 5.78e-05),\n",
       "  ('enquire-statement', 5.6e-05),\n",
       "  ('enquire-debt', 5.6e-05),\n",
       "  ('request-balance', 5.52e-05),\n",
       "  ('problem-bill_energy', 5.186e-05),\n",
       "  ('pay-payment', 5.11e-05),\n",
       "  ('enquire-debt_meter', 5.11e-05),\n",
       "  ('enquire-safety_certificate', 5.066e-05),\n",
       "  ('enquire-price', 4.8e-05),\n",
       "  ('pay-bill', 4.72e-05),\n",
       "  ('enquire-bill_estimate', 4.685e-05),\n",
       "  ('enquire-usage', 4.58e-05),\n",
       "  ('enquire-boiler_new', 4.536e-05),\n",
       "  ('problem-shower', 4.47e-05),\n",
       "  ('setup-direct_debit', 4.435e-05),\n",
       "  ('change-payment', 4.435e-05),\n",
       "  ('dispute-bill', 4.333e-05),\n",
       "  ('request-bill', 4.1e-05),\n",
       "  ('enquire-meter', 4.07e-05),\n",
       "  ('problem-bill', 4.035e-05),\n",
       "  ('enquire-energy', 3.976e-05),\n",
       "  ('delete-delete', 3.82e-05),\n",
       "  ('change-bill', 3.82e-05),\n",
       "  ('enquire-credit', 3.79e-05),\n",
       "  ('problem-plumbing', 3.65e-05),\n",
       "  ('request-appointment_gas', 3.48e-05),\n",
       "  ('enquire-install_meter', 3.374e-05),\n",
       "  ('request-quote_energy', 2.91e-05),\n",
       "  ('report-leak_gas', 2.754e-05),\n",
       "  ('report-key_lost', 2.545e-05),\n",
       "  ('enquire-bill_final', 2.37e-05),\n",
       "  ('report-bill_unpaid', 1.776e-05),\n",
       "  ('enquire-balance', 0.0),\n",
       "  ('enquire-key', 0.0)]]"
      ]
     },
     "execution_count": 16,
     "metadata": {},
     "output_type": "execute_result"
    }
   ],
   "source": [
    "texts = [\"please contact me on a different email address\"]\n",
    "learner.predict_batch(texts)"
   ]
  },
  {
   "cell_type": "code",
   "execution_count": 17,
   "metadata": {},
   "outputs": [],
   "source": [
    "# \"../models/intent_multilabel_classification_2019-02-11_13-41-32.bin\""
   ]
  },
  {
   "cell_type": "code",
   "execution_count": 18,
   "metadata": {},
   "outputs": [],
   "source": [
    "# learner.fit(5, lr=args['learning_rate'])"
   ]
  },
  {
   "cell_type": "code",
   "execution_count": 19,
   "metadata": {},
   "outputs": [
    {
     "data": {
      "text/html": [
       "Total time: 10:43 <p>"
      ],
      "text/plain": [
       "<IPython.core.display.HTML object>"
      ]
     },
     "metadata": {},
     "output_type": "display_data"
    },
    {
     "name": "stderr",
     "output_type": "stream",
     "text": [
      "/home/ubuntu/anaconda3/envs/pytorch_p36/lib/python3.6/site-packages/torch/nn/parallel/_functions.py:61: UserWarning: Was asked to gather along dimension 0, but all input tensors were scalars; will instead unsqueeze and return a vector.\n",
      "  warnings.warn('Was asked to gather along dimension 0, but all '\n"
     ]
    },
    {
     "name": "stdout",
     "output_type": "stream",
     "text": [
      "02/16/2019 13:57:10 - INFO - root -   Loss after epoch 0 - 0.0008339344308926509\n",
      "02/16/2019 13:57:10 - INFO - root -   Running evaluation\n"
     ]
    },
    {
     "data": {
      "text/html": [
       "\n",
       "    <div>\n",
       "        <style>\n",
       "            /* Turns off some styling */\n",
       "            progress {\n",
       "                /* gets rid of default border in Firefox and Opera. */\n",
       "                border: none;\n",
       "                /* Needs to be in here for Safari polyfill so background images work as expected. */\n",
       "                background-size: auto;\n",
       "            }\n",
       "            .progress-bar-interrupted, .progress-bar-interrupted::-webkit-progress-bar {\n",
       "                background: #F44336;\n",
       "            }\n",
       "        </style>\n",
       "      <progress value='130' class='' max='130', style='width:300px; height:20px; vertical-align: middle;'></progress>\n",
       "      100.00% [130/130 00:19<00:00]\n",
       "    </div>\n",
       "    "
      ],
      "text/plain": [
       "<IPython.core.display.HTML object>"
      ]
     },
     "metadata": {},
     "output_type": "display_data"
    },
    {
     "name": "stderr",
     "output_type": "stream",
     "text": [
      "/home/ubuntu/anaconda3/envs/pytorch_p36/lib/python3.6/site-packages/numpy/core/_methods.py:32: RuntimeWarning: overflow encountered in reduce\n",
      "  return umr_sum(a, axis, dtype, out, keepdims)\n"
     ]
    },
    {
     "name": "stdout",
     "output_type": "stream",
     "text": [
      "02/16/2019 13:57:30 - INFO - root -   Eval results:\n",
      "02/16/2019 13:57:30 - INFO - root -     eval_loss = 0.007542654184194712\n",
      "02/16/2019 13:57:30 - INFO - root -     metrics = {'accuracy_thresh': 0.998266339302063, 'roc_auc': 0.9795117593451249, 'fbeta': 0.7587286829948425, 'accuracy_single': 0.7616181073922466}\n",
      "02/16/2019 13:57:30 - INFO - root -   --------------------------------------------------------------------------------\n",
      "02/16/2019 13:59:18 - INFO - root -   Loss after epoch 1 - 0.000742410237972553\n",
      "02/16/2019 13:59:18 - INFO - root -   Running evaluation\n"
     ]
    },
    {
     "data": {
      "text/html": [
       "\n",
       "    <div>\n",
       "        <style>\n",
       "            /* Turns off some styling */\n",
       "            progress {\n",
       "                /* gets rid of default border in Firefox and Opera. */\n",
       "                border: none;\n",
       "                /* Needs to be in here for Safari polyfill so background images work as expected. */\n",
       "                background-size: auto;\n",
       "            }\n",
       "            .progress-bar-interrupted, .progress-bar-interrupted::-webkit-progress-bar {\n",
       "                background: #F44336;\n",
       "            }\n",
       "        </style>\n",
       "      <progress value='130' class='' max='130', style='width:300px; height:20px; vertical-align: middle;'></progress>\n",
       "      100.00% [130/130 00:20<00:00]\n",
       "    </div>\n",
       "    "
      ],
      "text/plain": [
       "<IPython.core.display.HTML object>"
      ]
     },
     "metadata": {},
     "output_type": "display_data"
    },
    {
     "name": "stdout",
     "output_type": "stream",
     "text": [
      "02/16/2019 13:59:39 - INFO - root -   Eval results:\n",
      "02/16/2019 13:59:39 - INFO - root -     eval_loss = 0.007621398338904748\n",
      "02/16/2019 13:59:39 - INFO - root -     metrics = {'accuracy_thresh': 0.9982827305793762, 'roc_auc': 0.979486848438543, 'fbeta': 0.7550765872001648, 'accuracy_single': 0.7604141584396822}\n",
      "02/16/2019 13:59:39 - INFO - root -   --------------------------------------------------------------------------------\n",
      "02/16/2019 14:01:26 - INFO - root -   Loss after epoch 2 - 0.0006539528186504657\n",
      "02/16/2019 14:01:26 - INFO - root -   Running evaluation\n"
     ]
    },
    {
     "data": {
      "text/html": [
       "\n",
       "    <div>\n",
       "        <style>\n",
       "            /* Turns off some styling */\n",
       "            progress {\n",
       "                /* gets rid of default border in Firefox and Opera. */\n",
       "                border: none;\n",
       "                /* Needs to be in here for Safari polyfill so background images work as expected. */\n",
       "                background-size: auto;\n",
       "            }\n",
       "            .progress-bar-interrupted, .progress-bar-interrupted::-webkit-progress-bar {\n",
       "                background: #F44336;\n",
       "            }\n",
       "        </style>\n",
       "      <progress value='130' class='' max='130', style='width:300px; height:20px; vertical-align: middle;'></progress>\n",
       "      100.00% [130/130 00:20<00:00]\n",
       "    </div>\n",
       "    "
      ],
      "text/plain": [
       "<IPython.core.display.HTML object>"
      ]
     },
     "metadata": {},
     "output_type": "display_data"
    },
    {
     "name": "stdout",
     "output_type": "stream",
     "text": [
      "02/16/2019 14:01:47 - INFO - root -   Eval results:\n",
      "02/16/2019 14:01:47 - INFO - root -     eval_loss = 0.007682389479417067\n",
      "02/16/2019 14:01:47 - INFO - root -     metrics = {'accuracy_thresh': 0.9982962012290955, 'roc_auc': 0.9788876366145745, 'fbeta': 0.7586483955383301, 'accuracy_single': 0.7640260052973754}\n",
      "02/16/2019 14:01:47 - INFO - root -   --------------------------------------------------------------------------------\n",
      "02/16/2019 14:03:35 - INFO - root -   Loss after epoch 3 - 0.0006072790576861455\n",
      "02/16/2019 14:03:35 - INFO - root -   Running evaluation\n"
     ]
    },
    {
     "data": {
      "text/html": [
       "\n",
       "    <div>\n",
       "        <style>\n",
       "            /* Turns off some styling */\n",
       "            progress {\n",
       "                /* gets rid of default border in Firefox and Opera. */\n",
       "                border: none;\n",
       "                /* Needs to be in here for Safari polyfill so background images work as expected. */\n",
       "                background-size: auto;\n",
       "            }\n",
       "            .progress-bar-interrupted, .progress-bar-interrupted::-webkit-progress-bar {\n",
       "                background: #F44336;\n",
       "            }\n",
       "        </style>\n",
       "      <progress value='130' class='' max='130', style='width:300px; height:20px; vertical-align: middle;'></progress>\n",
       "      100.00% [130/130 00:19<00:00]\n",
       "    </div>\n",
       "    "
      ],
      "text/plain": [
       "<IPython.core.display.HTML object>"
      ]
     },
     "metadata": {},
     "output_type": "display_data"
    },
    {
     "name": "stdout",
     "output_type": "stream",
     "text": [
      "02/16/2019 14:03:55 - INFO - root -   Eval results:\n",
      "02/16/2019 14:03:55 - INFO - root -     eval_loss = 0.007748603820800781\n",
      "02/16/2019 14:03:55 - INFO - root -     metrics = {'accuracy_thresh': 0.9982942938804626, 'roc_auc': 0.9783753737681776, 'fbeta': 0.7582069635391235, 'accuracy_single': 0.764748374668914}\n",
      "02/16/2019 14:03:55 - INFO - root -   --------------------------------------------------------------------------------\n",
      "02/16/2019 14:05:43 - INFO - root -   Loss after epoch 4 - 0.0005852057383610652\n",
      "02/16/2019 14:05:43 - INFO - root -   Running evaluation\n"
     ]
    },
    {
     "data": {
      "text/html": [
       "\n",
       "    <div>\n",
       "        <style>\n",
       "            /* Turns off some styling */\n",
       "            progress {\n",
       "                /* gets rid of default border in Firefox and Opera. */\n",
       "                border: none;\n",
       "                /* Needs to be in here for Safari polyfill so background images work as expected. */\n",
       "                background-size: auto;\n",
       "            }\n",
       "            .progress-bar-interrupted, .progress-bar-interrupted::-webkit-progress-bar {\n",
       "                background: #F44336;\n",
       "            }\n",
       "        </style>\n",
       "      <progress value='130' class='' max='130', style='width:300px; height:20px; vertical-align: middle;'></progress>\n",
       "      100.00% [130/130 00:20<00:00]\n",
       "    </div>\n",
       "    "
      ],
      "text/plain": [
       "<IPython.core.display.HTML object>"
      ]
     },
     "metadata": {},
     "output_type": "display_data"
    },
    {
     "name": "stdout",
     "output_type": "stream",
     "text": [
      "02/16/2019 14:06:03 - INFO - root -   Eval results:\n",
      "02/16/2019 14:06:03 - INFO - root -     eval_loss = 0.0077564092782827524\n",
      "02/16/2019 14:06:03 - INFO - root -     metrics = {'accuracy_thresh': 0.9982962012290955, 'roc_auc': 0.9784281100520467, 'fbeta': 0.7575648427009583, 'accuracy_single': 0.7654707440404527}\n",
      "02/16/2019 14:06:03 - INFO - root -   --------------------------------------------------------------------------------\n"
     ]
    }
   ],
   "source": [
    "learner.fit(5, lr=args['learning_rate']/10)"
   ]
  },
  {
   "cell_type": "code",
   "execution_count": null,
   "metadata": {},
   "outputs": [],
   "source": []
  }
 ],
 "metadata": {
  "kernelspec": {
   "display_name": "Environment (conda_pytorch_p36)",
   "language": "python",
   "name": "conda_pytorch_p36"
  },
  "language_info": {
   "codemirror_mode": {
    "name": "ipython",
    "version": 3
   },
   "file_extension": ".py",
   "mimetype": "text/x-python",
   "name": "python",
   "nbconvert_exporter": "python",
   "pygments_lexer": "ipython3",
   "version": "3.6.6"
  }
 },
 "nbformat": 4,
 "nbformat_minor": 2
}
