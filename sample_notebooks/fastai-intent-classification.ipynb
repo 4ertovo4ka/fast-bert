{
 "cells": [
  {
   "cell_type": "code",
   "execution_count": 1,
   "metadata": {},
   "outputs": [],
   "source": [
    "%reload_ext autoreload\n",
    "%autoreload 2\n",
    "%matplotlib inline"
   ]
  },
  {
   "cell_type": "code",
   "execution_count": 2,
   "metadata": {},
   "outputs": [],
   "source": [
    "from fastai.imports import *\n",
    "from fastai.text import *"
   ]
  },
  {
   "cell_type": "code",
   "execution_count": 3,
   "metadata": {},
   "outputs": [],
   "source": [
    "DATA_PATH = Path('../data/')\n",
    "LABEL_PATH = Path('../labels/')"
   ]
  },
  {
   "cell_type": "code",
   "execution_count": 4,
   "metadata": {},
   "outputs": [],
   "source": [
    "bs = 48"
   ]
  },
  {
   "cell_type": "code",
   "execution_count": 5,
   "metadata": {},
   "outputs": [
    {
     "name": "stderr",
     "output_type": "stream",
     "text": [
      "/home/ubuntu/anaconda3/envs/pytorch_p36/lib/python3.6/site-packages/fastai/data_block.py:475: UserWarning: You are labelling your items with CategoryList.\n",
      "Your valid set contained the folowing unknown labels, the corresponding items have been discarded.\n",
      "request-locksmith\n",
      "  if getattr(ds, 'warn', False): warn(ds.warn)\n"
     ]
    }
   ],
   "source": [
    "data_lm = TextDataBunch.from_csv(DATA_PATH, 'consolidated_intents.csv', text_cols='text', label_cols='label')"
   ]
  },
  {
   "cell_type": "code",
   "execution_count": 6,
   "metadata": {},
   "outputs": [],
   "source": [
    "data_lm = TextLMDataBunch.load(DATA_PATH, 'tmp_lm', bs=bs)"
   ]
  },
  {
   "cell_type": "code",
   "execution_count": 7,
   "metadata": {},
   "outputs": [],
   "source": [
    "# data = TextDataBunch.load(DATA_PATH, 'tmp')"
   ]
  },
  {
   "cell_type": "code",
   "execution_count": 8,
   "metadata": {},
   "outputs": [],
   "source": [
    "# data = TextClasDataBunch.load(DATA_PATH)\n",
    "# data.show_batch()"
   ]
  },
  {
   "cell_type": "markdown",
   "metadata": {},
   "source": [
    "## Language Model Finetuning"
   ]
  },
  {
   "cell_type": "code",
   "execution_count": 9,
   "metadata": {},
   "outputs": [],
   "source": [
    "bs = 48"
   ]
  },
  {
   "cell_type": "code",
   "execution_count": 10,
   "metadata": {},
   "outputs": [],
   "source": [
    "learn = language_model_learner(data_lm, pretrained_model=URLs.WT103_1, drop_mult=0.3)"
   ]
  },
  {
   "cell_type": "code",
   "execution_count": 11,
   "metadata": {},
   "outputs": [],
   "source": [
    "learn1 = language_model_learner(data_lm, pretrained_model=URLs.WT103_1, drop_mult=0.3)"
   ]
  },
  {
   "cell_type": "code",
   "execution_count": 12,
   "metadata": {},
   "outputs": [
    {
     "name": "stdout",
     "output_type": "stream",
     "text": [
      "LR Finder is complete, type {learner_name}.recorder.plot() to see the graph.\n"
     ]
    }
   ],
   "source": [
    "learn.lr_find()"
   ]
  },
  {
   "cell_type": "code",
   "execution_count": 13,
   "metadata": {},
   "outputs": [
    {
     "data": {
      "image/png": "[encoded data removed]",
      "text/plain": [
       "<Figure size 432x288 with 1 Axes>"
      ]
     },
     "metadata": {},
     "output_type": "display_data"
    }
   ],
   "source": [
    "learn.recorder.plot()"
   ]
  },
  {
   "cell_type": "code",
   "execution_count": 14,
   "metadata": {},
   "outputs": [
    {
     "data": {
      "text/html": [
       "Total time: 00:04 <p><table style='width:300px; margin-bottom:10px'>\n",
       "  <tr>\n",
       "    <th>epoch</th>\n",
       "    <th>train_loss</th>\n",
       "    <th>valid_loss</th>\n",
       "    <th>accuracy</th>\n",
       "  </tr>\n",
       "  <tr>\n",
       "    <th>1</th>\n",
       "    <th>4.046795</th>\n",
       "    <th>3.489845</th>\n",
       "    <th>0.307003</th>\n",
       "  </tr>\n",
       "</table>\n"
      ],
      "text/plain": [
       "<IPython.core.display.HTML object>"
      ]
     },
     "metadata": {},
     "output_type": "display_data"
    }
   ],
   "source": [
    "learn.fit_one_cycle(1, 1e-1, moms=(0.8,0.7))"
   ]
  },
  {
   "cell_type": "code",
   "execution_count": 15,
   "metadata": {},
   "outputs": [
    {
     "data": {
      "text/plain": [
       "LanguageLearner(data=TextLMDataBunch;\n",
       "\n",
       "Train: LabelList\n",
       "y: LMLabel (16219 items)\n",
       "[Category 0, Category 0, Category 0, Category 0, Category 0]...\n",
       "Path: ../data\n",
       "x: LMTextList (16219 items)\n",
       "[Text xxbos i 'm paying the bill, Text xxbos to change my homecare plan, Text xxbos to phone up to see when the engineers coming out, Text xxbos i am unable to send in meter reading any longer this is due to british gas changing the meter to xxunk xxmaj no just a xxunk meter, Text xxbos i have a query regarding my gas bill]...\n",
       "Path: ../data;\n",
       "\n",
       "Valid: LabelList\n",
       "y: LMLabel (4056 items)\n",
       "[Category 0, Category 0, Category 0, Category 0, Category 0]...\n",
       "Path: ../data\n",
       "x: LMTextList (4056 items)\n",
       "[Text xxbos \" xxmaj evening , i would like to book a service for my boiler next week yes \", Text xxbos gas fire please to remove, Text xxbos \" xxmaj hi , i am having a new boiler fitted on xxmaj july 9th . xxmaj when i xxunk my quote i was told my homecare package would be reduced or even free for the next two years . xxmaj since then i have heard nothing about my homecare or how much it will cost from now xxunk xxmaj okay . xxmaj thanks . \", Text xxbos paying me gas bill, Text xxbos quotation for shower install]...\n",
       "Path: ../data;\n",
       "\n",
       "Test: None, model=SequentialRNN(\n",
       "  (0): RNNCore(\n",
       "    (encoder): Embedding(2448, 400, padding_idx=1)\n",
       "    (encoder_dp): EmbeddingDropout(\n",
       "      (emb): Embedding(2448, 400, padding_idx=1)\n",
       "    )\n",
       "    (rnns): ModuleList(\n",
       "      (0): WeightDropout(\n",
       "        (module): LSTM(400, 1150, batch_first=True)\n",
       "      )\n",
       "      (1): WeightDropout(\n",
       "        (module): LSTM(1150, 1150, batch_first=True)\n",
       "      )\n",
       "      (2): WeightDropout(\n",
       "        (module): LSTM(1150, 400, batch_first=True)\n",
       "      )\n",
       "    )\n",
       "    (input_dp): RNNDropout()\n",
       "    (hidden_dps): ModuleList(\n",
       "      (0): RNNDropout()\n",
       "      (1): RNNDropout()\n",
       "      (2): RNNDropout()\n",
       "    )\n",
       "  )\n",
       "  (1): LinearDecoder(\n",
       "    (decoder): Linear(in_features=400, out_features=2448, bias=True)\n",
       "    (output_dp): RNNDropout()\n",
       "  )\n",
       "), opt_func=functools.partial(<class 'torch.optim.adam.Adam'>, betas=(0.9, 0.99)), loss_func=FlattenedLoss of CrossEntropyLoss(), metrics=[<function accuracy at 0x7f2d9e5099d8>], true_wd=True, bn_wd=True, wd=0.01, train_bn=True, path=PosixPath('../data'), model_dir='models', callback_fns=[<class 'fastai.basic_train.Recorder'>], callbacks=[RNNTrainer\n",
       "learn: LanguageLearner(data=TextLMDataBunch;\n",
       "\n",
       "Train: LabelList\n",
       "y: LMLabel (16219 items)\n",
       "[Category 0, Category 0, Category 0, Category 0, Category 0]...\n",
       "Path: ../data\n",
       "x: LMTextList (16219 items)\n",
       "[Text xxbos i 'm paying the bill, Text xxbos to change my homecare plan, Text xxbos to phone up to see when the engineers coming out, Text xxbos i am unable to send in meter reading any longer this is due to british gas changing the meter to xxunk xxmaj no just a xxunk meter, Text xxbos i have a query regarding my gas bill]...\n",
       "Path: ../data;\n",
       "\n",
       "Valid: LabelList\n",
       "y: LMLabel (4056 items)\n",
       "[Category 0, Category 0, Category 0, Category 0, Category 0]...\n",
       "Path: ../data\n",
       "x: LMTextList (4056 items)\n",
       "[Text xxbos \" xxmaj evening , i would like to book a service for my boiler next week yes \", Text xxbos gas fire please to remove, Text xxbos \" xxmaj hi , i am having a new boiler fitted on xxmaj july 9th . xxmaj when i xxunk my quote i was told my homecare package would be reduced or even free for the next two years . xxmaj since then i have heard nothing about my homecare or how much it will cost from now xxunk xxmaj okay . xxmaj thanks . \", Text xxbos paying me gas bill, Text xxbos quotation for shower install]...\n",
       "Path: ../data;\n",
       "\n",
       "Test: None, model=SequentialRNN(\n",
       "  (0): RNNCore(\n",
       "    (encoder): Embedding(2448, 400, padding_idx=1)\n",
       "    (encoder_dp): EmbeddingDropout(\n",
       "      (emb): Embedding(2448, 400, padding_idx=1)\n",
       "    )\n",
       "    (rnns): ModuleList(\n",
       "      (0): WeightDropout(\n",
       "        (module): LSTM(400, 1150, batch_first=True)\n",
       "      )\n",
       "      (1): WeightDropout(\n",
       "        (module): LSTM(1150, 1150, batch_first=True)\n",
       "      )\n",
       "      (2): WeightDropout(\n",
       "        (module): LSTM(1150, 400, batch_first=True)\n",
       "      )\n",
       "    )\n",
       "    (input_dp): RNNDropout()\n",
       "    (hidden_dps): ModuleList(\n",
       "      (0): RNNDropout()\n",
       "      (1): RNNDropout()\n",
       "      (2): RNNDropout()\n",
       "    )\n",
       "  )\n",
       "  (1): LinearDecoder(\n",
       "    (decoder): Linear(in_features=400, out_features=2448, bias=True)\n",
       "    (output_dp): RNNDropout()\n",
       "  )\n",
       "), opt_func=functools.partial(<class 'torch.optim.adam.Adam'>, betas=(0.9, 0.99)), loss_func=FlattenedLoss of CrossEntropyLoss(), metrics=[<function accuracy at 0x7f2d9e5099d8>], true_wd=True, bn_wd=True, wd=0.01, train_bn=True, path=PosixPath('../data'), model_dir='models', callback_fns=[<class 'fastai.basic_train.Recorder'>], callbacks=[...], layer_groups=[Sequential(\n",
       "  (0): WeightDropout(\n",
       "    (module): LSTM(400, 1150, batch_first=True)\n",
       "  )\n",
       "  (1): RNNDropout()\n",
       "), Sequential(\n",
       "  (0): WeightDropout(\n",
       "    (module): LSTM(1150, 1150, batch_first=True)\n",
       "  )\n",
       "  (1): RNNDropout()\n",
       "), Sequential(\n",
       "  (0): WeightDropout(\n",
       "    (module): LSTM(1150, 400, batch_first=True)\n",
       "  )\n",
       "  (1): RNNDropout()\n",
       "), Sequential(\n",
       "  (0): Embedding(2448, 400, padding_idx=1)\n",
       "  (1): EmbeddingDropout(\n",
       "    (emb): Embedding(2448, 400, padding_idx=1)\n",
       "  )\n",
       "  (2): LinearDecoder(\n",
       "    (decoder): Linear(in_features=400, out_features=2448, bias=True)\n",
       "    (output_dp): RNNDropout()\n",
       "  )\n",
       ")])\n",
       "bptt: 70\n",
       "alpha: 2.0\n",
       "beta: 1.0], layer_groups=[Sequential(\n",
       "  (0): WeightDropout(\n",
       "    (module): LSTM(400, 1150, batch_first=True)\n",
       "  )\n",
       "  (1): RNNDropout()\n",
       "), Sequential(\n",
       "  (0): WeightDropout(\n",
       "    (module): LSTM(1150, 1150, batch_first=True)\n",
       "  )\n",
       "  (1): RNNDropout()\n",
       "), Sequential(\n",
       "  (0): WeightDropout(\n",
       "    (module): LSTM(1150, 400, batch_first=True)\n",
       "  )\n",
       "  (1): RNNDropout()\n",
       "), Sequential(\n",
       "  (0): Embedding(2448, 400, padding_idx=1)\n",
       "  (1): EmbeddingDropout(\n",
       "    (emb): Embedding(2448, 400, padding_idx=1)\n",
       "  )\n",
       "  (2): LinearDecoder(\n",
       "    (decoder): Linear(in_features=400, out_features=2448, bias=True)\n",
       "    (output_dp): RNNDropout()\n",
       "  )\n",
       ")])"
      ]
     },
     "execution_count": 15,
     "metadata": {},
     "output_type": "execute_result"
    }
   ],
   "source": [
    "learn.save('fit_head')\n",
    "learn.load('fit_head')"
   ]
  },
  {
   "cell_type": "code",
   "execution_count": 16,
   "metadata": {},
   "outputs": [],
   "source": [
    "learn.unfreeze()"
   ]
  },
  {
   "cell_type": "code",
   "execution_count": 17,
   "metadata": {},
   "outputs": [
    {
     "name": "stdout",
     "output_type": "stream",
     "text": [
      "LR Finder is complete, type {learner_name}.recorder.plot() to see the graph.\n"
     ]
    },
    {
     "data": {
      "image/png": "[encoded data removed]",
      "text/plain": [
       "<Figure size 432x288 with 1 Axes>"
      ]
     },
     "metadata": {},
     "output_type": "display_data"
    }
   ],
   "source": [
    "learn.lr_find()\n",
    "learn.recorder.plot()"
   ]
  },
  {
   "cell_type": "code",
   "execution_count": 18,
   "metadata": {},
   "outputs": [
    {
     "data": {
      "text/html": [
       "Total time: 00:57 <p><table style='width:300px; margin-bottom:10px'>\n",
       "  <tr>\n",
       "    <th>epoch</th>\n",
       "    <th>train_loss</th>\n",
       "    <th>valid_loss</th>\n",
       "    <th>accuracy</th>\n",
       "  </tr>\n",
       "  <tr>\n",
       "    <th>1</th>\n",
       "    <th>3.433980</th>\n",
       "    <th>3.408516</th>\n",
       "    <th>0.316737</th>\n",
       "  </tr>\n",
       "  <tr>\n",
       "    <th>2</th>\n",
       "    <th>3.329385</th>\n",
       "    <th>3.298968</th>\n",
       "    <th>0.328151</th>\n",
       "  </tr>\n",
       "  <tr>\n",
       "    <th>3</th>\n",
       "    <th>3.209279</th>\n",
       "    <th>3.218952</th>\n",
       "    <th>0.336292</th>\n",
       "  </tr>\n",
       "  <tr>\n",
       "    <th>4</th>\n",
       "    <th>3.079966</th>\n",
       "    <th>3.179236</th>\n",
       "    <th>0.342542</th>\n",
       "  </tr>\n",
       "  <tr>\n",
       "    <th>5</th>\n",
       "    <th>2.941640</th>\n",
       "    <th>3.159515</th>\n",
       "    <th>0.346691</th>\n",
       "  </tr>\n",
       "  <tr>\n",
       "    <th>6</th>\n",
       "    <th>2.808919</th>\n",
       "    <th>3.162775</th>\n",
       "    <th>0.347461</th>\n",
       "  </tr>\n",
       "  <tr>\n",
       "    <th>7</th>\n",
       "    <th>2.696214</th>\n",
       "    <th>3.177040</th>\n",
       "    <th>0.346919</th>\n",
       "  </tr>\n",
       "  <tr>\n",
       "    <th>8</th>\n",
       "    <th>2.596149</th>\n",
       "    <th>3.195033</th>\n",
       "    <th>0.347321</th>\n",
       "  </tr>\n",
       "  <tr>\n",
       "    <th>9</th>\n",
       "    <th>2.541754</th>\n",
       "    <th>3.206348</th>\n",
       "    <th>0.346919</th>\n",
       "  </tr>\n",
       "  <tr>\n",
       "    <th>10</th>\n",
       "    <th>2.505093</th>\n",
       "    <th>3.207880</th>\n",
       "    <th>0.346481</th>\n",
       "  </tr>\n",
       "</table>\n"
      ],
      "text/plain": [
       "<IPython.core.display.HTML object>"
      ]
     },
     "metadata": {},
     "output_type": "display_data"
    }
   ],
   "source": [
    "learn.fit_one_cycle(10, 1e-3, moms=(0.8,0.7))"
   ]
  },
  {
   "cell_type": "code",
   "execution_count": 19,
   "metadata": {},
   "outputs": [],
   "source": [
    "learn.save('fine_tuned')"
   ]
  },
  {
   "cell_type": "code",
   "execution_count": 20,
   "metadata": {},
   "outputs": [
    {
     "data": {
      "text/plain": [
       "LanguageLearner(data=TextLMDataBunch;\n",
       "\n",
       "Train: LabelList\n",
       "y: LMLabel (16219 items)\n",
       "[Category 0, Category 0, Category 0, Category 0, Category 0]...\n",
       "Path: ../data\n",
       "x: LMTextList (16219 items)\n",
       "[Text xxbos i 'm paying the bill, Text xxbos to change my homecare plan, Text xxbos to phone up to see when the engineers coming out, Text xxbos i am unable to send in meter reading any longer this is due to british gas changing the meter to xxunk xxmaj no just a xxunk meter, Text xxbos i have a query regarding my gas bill]...\n",
       "Path: ../data;\n",
       "\n",
       "Valid: LabelList\n",
       "y: LMLabel (4056 items)\n",
       "[Category 0, Category 0, Category 0, Category 0, Category 0]...\n",
       "Path: ../data\n",
       "x: LMTextList (4056 items)\n",
       "[Text xxbos \" xxmaj evening , i would like to book a service for my boiler next week yes \", Text xxbos gas fire please to remove, Text xxbos \" xxmaj hi , i am having a new boiler fitted on xxmaj july 9th . xxmaj when i xxunk my quote i was told my homecare package would be reduced or even free for the next two years . xxmaj since then i have heard nothing about my homecare or how much it will cost from now xxunk xxmaj okay . xxmaj thanks . \", Text xxbos paying me gas bill, Text xxbos quotation for shower install]...\n",
       "Path: ../data;\n",
       "\n",
       "Test: None, model=SequentialRNN(\n",
       "  (0): RNNCore(\n",
       "    (encoder): Embedding(2448, 400, padding_idx=1)\n",
       "    (encoder_dp): EmbeddingDropout(\n",
       "      (emb): Embedding(2448, 400, padding_idx=1)\n",
       "    )\n",
       "    (rnns): ModuleList(\n",
       "      (0): WeightDropout(\n",
       "        (module): LSTM(400, 1150, batch_first=True)\n",
       "      )\n",
       "      (1): WeightDropout(\n",
       "        (module): LSTM(1150, 1150, batch_first=True)\n",
       "      )\n",
       "      (2): WeightDropout(\n",
       "        (module): LSTM(1150, 400, batch_first=True)\n",
       "      )\n",
       "    )\n",
       "    (input_dp): RNNDropout()\n",
       "    (hidden_dps): ModuleList(\n",
       "      (0): RNNDropout()\n",
       "      (1): RNNDropout()\n",
       "      (2): RNNDropout()\n",
       "    )\n",
       "  )\n",
       "  (1): LinearDecoder(\n",
       "    (decoder): Linear(in_features=400, out_features=2448, bias=True)\n",
       "    (output_dp): RNNDropout()\n",
       "  )\n",
       "), opt_func=functools.partial(<class 'torch.optim.adam.Adam'>, betas=(0.9, 0.99)), loss_func=FlattenedLoss of CrossEntropyLoss(), metrics=[<function accuracy at 0x7f2d9e5099d8>], true_wd=True, bn_wd=True, wd=0.01, train_bn=True, path=PosixPath('../data'), model_dir='models', callback_fns=[<class 'fastai.basic_train.Recorder'>], callbacks=[RNNTrainer\n",
       "learn: LanguageLearner(data=TextLMDataBunch;\n",
       "\n",
       "Train: LabelList\n",
       "y: LMLabel (16219 items)\n",
       "[Category 0, Category 0, Category 0, Category 0, Category 0]...\n",
       "Path: ../data\n",
       "x: LMTextList (16219 items)\n",
       "[Text xxbos i 'm paying the bill, Text xxbos to change my homecare plan, Text xxbos to phone up to see when the engineers coming out, Text xxbos i am unable to send in meter reading any longer this is due to british gas changing the meter to xxunk xxmaj no just a xxunk meter, Text xxbos i have a query regarding my gas bill]...\n",
       "Path: ../data;\n",
       "\n",
       "Valid: LabelList\n",
       "y: LMLabel (4056 items)\n",
       "[Category 0, Category 0, Category 0, Category 0, Category 0]...\n",
       "Path: ../data\n",
       "x: LMTextList (4056 items)\n",
       "[Text xxbos \" xxmaj evening , i would like to book a service for my boiler next week yes \", Text xxbos gas fire please to remove, Text xxbos \" xxmaj hi , i am having a new boiler fitted on xxmaj july 9th . xxmaj when i xxunk my quote i was told my homecare package would be reduced or even free for the next two years . xxmaj since then i have heard nothing about my homecare or how much it will cost from now xxunk xxmaj okay . xxmaj thanks . \", Text xxbos paying me gas bill, Text xxbos quotation for shower install]...\n",
       "Path: ../data;\n",
       "\n",
       "Test: None, model=SequentialRNN(\n",
       "  (0): RNNCore(\n",
       "    (encoder): Embedding(2448, 400, padding_idx=1)\n",
       "    (encoder_dp): EmbeddingDropout(\n",
       "      (emb): Embedding(2448, 400, padding_idx=1)\n",
       "    )\n",
       "    (rnns): ModuleList(\n",
       "      (0): WeightDropout(\n",
       "        (module): LSTM(400, 1150, batch_first=True)\n",
       "      )\n",
       "      (1): WeightDropout(\n",
       "        (module): LSTM(1150, 1150, batch_first=True)\n",
       "      )\n",
       "      (2): WeightDropout(\n",
       "        (module): LSTM(1150, 400, batch_first=True)\n",
       "      )\n",
       "    )\n",
       "    (input_dp): RNNDropout()\n",
       "    (hidden_dps): ModuleList(\n",
       "      (0): RNNDropout()\n",
       "      (1): RNNDropout()\n",
       "      (2): RNNDropout()\n",
       "    )\n",
       "  )\n",
       "  (1): LinearDecoder(\n",
       "    (decoder): Linear(in_features=400, out_features=2448, bias=True)\n",
       "    (output_dp): RNNDropout()\n",
       "  )\n",
       "), opt_func=functools.partial(<class 'torch.optim.adam.Adam'>, betas=(0.9, 0.99)), loss_func=FlattenedLoss of CrossEntropyLoss(), metrics=[<function accuracy at 0x7f2d9e5099d8>], true_wd=True, bn_wd=True, wd=0.01, train_bn=True, path=PosixPath('../data'), model_dir='models', callback_fns=[<class 'fastai.basic_train.Recorder'>], callbacks=[...], layer_groups=[Sequential(\n",
       "  (0): WeightDropout(\n",
       "    (module): LSTM(400, 1150, batch_first=True)\n",
       "  )\n",
       "  (1): RNNDropout()\n",
       "), Sequential(\n",
       "  (0): WeightDropout(\n",
       "    (module): LSTM(1150, 1150, batch_first=True)\n",
       "  )\n",
       "  (1): RNNDropout()\n",
       "), Sequential(\n",
       "  (0): WeightDropout(\n",
       "    (module): LSTM(1150, 400, batch_first=True)\n",
       "  )\n",
       "  (1): RNNDropout()\n",
       "), Sequential(\n",
       "  (0): Embedding(2448, 400, padding_idx=1)\n",
       "  (1): EmbeddingDropout(\n",
       "    (emb): Embedding(2448, 400, padding_idx=1)\n",
       "  )\n",
       "  (2): LinearDecoder(\n",
       "    (decoder): Linear(in_features=400, out_features=2448, bias=True)\n",
       "    (output_dp): RNNDropout()\n",
       "  )\n",
       ")])\n",
       "bptt: 70\n",
       "alpha: 2.0\n",
       "beta: 1.0], layer_groups=[Sequential(\n",
       "  (0): WeightDropout(\n",
       "    (module): LSTM(400, 1150, batch_first=True)\n",
       "  )\n",
       "  (1): RNNDropout()\n",
       "), Sequential(\n",
       "  (0): WeightDropout(\n",
       "    (module): LSTM(1150, 1150, batch_first=True)\n",
       "  )\n",
       "  (1): RNNDropout()\n",
       "), Sequential(\n",
       "  (0): WeightDropout(\n",
       "    (module): LSTM(1150, 400, batch_first=True)\n",
       "  )\n",
       "  (1): RNNDropout()\n",
       "), Sequential(\n",
       "  (0): Embedding(2448, 400, padding_idx=1)\n",
       "  (1): EmbeddingDropout(\n",
       "    (emb): Embedding(2448, 400, padding_idx=1)\n",
       "  )\n",
       "  (2): LinearDecoder(\n",
       "    (decoder): Linear(in_features=400, out_features=2448, bias=True)\n",
       "    (output_dp): RNNDropout()\n",
       "  )\n",
       ")])"
      ]
     },
     "execution_count": 20,
     "metadata": {},
     "output_type": "execute_result"
    }
   ],
   "source": [
    "learn.load('fine_tuned')"
   ]
  },
  {
   "cell_type": "code",
   "execution_count": 50,
   "metadata": {},
   "outputs": [],
   "source": [
    "TEXT = \"please help me with\"\n",
    "N_WORDS = 40\n",
    "N_SENTENCES = 5"
   ]
  },
  {
   "cell_type": "code",
   "execution_count": 51,
   "metadata": {},
   "outputs": [
    {
     "name": "stdout",
     "output_type": "stream",
     "text": [
      "please help me with the xxmaj walk of the xxmaj big xxmaj request ( xxmaj london ) . xxmaj by the time the xxmaj september 11 , xxmaj september 11 , , and xxmaj december 11 , xxmaj september 11 , xxmaj january 11\n",
      "please help me with the name of the xxmaj new xxmaj york xxmaj times xxmaj best xxmaj selling xxmaj new xxmaj and xxmaj style xxmaj list . xxmaj the xxmaj new xxmaj york xxmaj times wrote \" ... the xxmaj english press is able\n",
      "please help me with xxmaj george xxmaj october . xxmaj as a part of the xxmaj national xxmaj old xxmaj xxmaj new xxmaj year xxmaj law xxmaj review xxmaj bill was signed by xxmaj robert xxmaj green and xxmaj thomas xxmaj man xxmaj power\n",
      "please help me with this . xxmaj he came to xxmaj london in xxmaj june as the first person to visit xxmaj london from the uk , for which he was about to be given a new , self - aware , and less\n",
      "please help me with the new xxmaj south xxmaj park . xxmaj it was the last time the xxmaj national xxmaj park xxmaj service of xxmaj new xxmaj england had ever proposed a xxmaj national xxmaj park and xxmaj park xxmaj service xxmaj plan\n"
     ]
    }
   ],
   "source": [
    "print(\"\\n\".join(learn1.predict(TEXT, N_WORDS, temperature=0.75) for _ in range(N_SENTENCES)))"
   ]
  },
  {
   "cell_type": "code",
   "execution_count": 52,
   "metadata": {},
   "outputs": [
    {
     "name": "stdout",
     "output_type": "stream",
     "text": [
      "please help me with my password xxmaj my account number is : my account number is xxup xxx xxup xxx xxup xxx xxup xxx . xxmaj the space came up to check up on my account today xxbos i want to speak to the\n",
      "please help me with the electricity . xxmaj my name is xxmaj colin xxmaj taylor xxbos my heating is not working xxbos i 've moved moving into a property that is supplied by you xxbos to see if you can tell me if you\n",
      "please help me with the price owing as the lady i d like to pay and to do with the new agreement please xxbos i 'm writing with a someone on the phone for help in getting a call for a meter reading .\n",
      "please help me with the number of twenty four hour before them can be able to send me a copy of the 14th . xxmaj also i have a smart meter installed and an old smart meter is nt working and my card is\n",
      "please help me with my bank account number . xxmaj also my account number is : xxup xxx i m just a customer of yours i keep getting £ 50 in debit for this account . xxmaj thanks xxmaj hi xxmaj mr xxmaj the\n"
     ]
    }
   ],
   "source": [
    "print(\"\\n\".join(learn.predict(TEXT, N_WORDS, temperature=0.75) for _ in range(N_SENTENCES)))"
   ]
  },
  {
   "cell_type": "code",
   "execution_count": 25,
   "metadata": {},
   "outputs": [],
   "source": [
    "learn.save_encoder('fine_tuned_enc')"
   ]
  },
  {
   "cell_type": "markdown",
   "metadata": {},
   "source": [
    "## Classifier"
   ]
  },
  {
   "cell_type": "code",
   "execution_count": 26,
   "metadata": {},
   "outputs": [],
   "source": [
    "data_clas = TextList.from_csv(DATA_PATH, 'consolidated_intents.csv', cols='text', vocab=data_lm.vocab)\n"
   ]
  },
  {
   "cell_type": "code",
   "execution_count": 27,
   "metadata": {},
   "outputs": [],
   "source": [
    "data_clas = TextClasDataBunch.from_csv(DATA_PATH, 'consolidated_intents.csv', \n",
    "                                       text_cols='text', label_cols='label', vocab=data_lm.vocab)\n",
    "data_clas.save('tmp_clas')"
   ]
  },
  {
   "cell_type": "code",
   "execution_count": 28,
   "metadata": {},
   "outputs": [],
   "source": [
    "data_clas = TextClasDataBunch.load(DATA_PATH, 'tmp_clas', bs=bs)"
   ]
  },
  {
   "cell_type": "code",
   "execution_count": 29,
   "metadata": {},
   "outputs": [],
   "source": [
    "learner = text_classifier_learner(data_clas, drop_mult=0.5)\n",
    "learner.load_encoder('fine_tuned_enc')\n",
    "learner.freeze()"
   ]
  },
  {
   "cell_type": "code",
   "execution_count": 30,
   "metadata": {},
   "outputs": [
    {
     "name": "stdout",
     "output_type": "stream",
     "text": [
      "LR Finder is complete, type {learner_name}.recorder.plot() to see the graph.\n"
     ]
    },
    {
     "data": {
      "image/png": "[encoded data removed]",
      "text/plain": [
       "<Figure size 432x288 with 1 Axes>"
      ]
     },
     "metadata": {},
     "output_type": "display_data"
    }
   ],
   "source": [
    "learner.lr_find()\n",
    "learner.recorder.plot()"
   ]
  },
  {
   "cell_type": "code",
   "execution_count": 31,
   "metadata": {},
   "outputs": [
    {
     "data": {
      "text/html": [
       "Total time: 00:07 <p><table style='width:300px; margin-bottom:10px'>\n",
       "  <tr>\n",
       "    <th>epoch</th>\n",
       "    <th>train_loss</th>\n",
       "    <th>valid_loss</th>\n",
       "    <th>accuracy</th>\n",
       "  </tr>\n",
       "  <tr>\n",
       "    <th>1</th>\n",
       "    <th>3.316095</th>\n",
       "    <th>2.397772</th>\n",
       "    <th>0.432692</th>\n",
       "  </tr>\n",
       "</table>\n"
      ],
      "text/plain": [
       "<IPython.core.display.HTML object>"
      ]
     },
     "metadata": {},
     "output_type": "display_data"
    }
   ],
   "source": [
    "learner.fit_one_cycle(1, 2e-2, moms=(0.8,0.7))"
   ]
  },
  {
   "cell_type": "code",
   "execution_count": 32,
   "metadata": {},
   "outputs": [
    {
     "name": "stdout",
     "output_type": "stream",
     "text": [
      "LR Finder is complete, type {learner_name}.recorder.plot() to see the graph.\n"
     ]
    },
    {
     "data": {
      "image/png": "[encoded data removed]",
      "text/plain": [
       "<Figure size 432x288 with 1 Axes>"
      ]
     },
     "metadata": {},
     "output_type": "display_data"
    }
   ],
   "source": [
    "learner.freeze_to(-2)\n",
    "learner.lr_find()\n",
    "learner.recorder.plot()"
   ]
  },
  {
   "cell_type": "code",
   "execution_count": 33,
   "metadata": {},
   "outputs": [
    {
     "data": {
      "text/html": [
       "Total time: 00:08 <p><table style='width:300px; margin-bottom:10px'>\n",
       "  <tr>\n",
       "    <th>epoch</th>\n",
       "    <th>train_loss</th>\n",
       "    <th>valid_loss</th>\n",
       "    <th>accuracy</th>\n",
       "  </tr>\n",
       "  <tr>\n",
       "    <th>1</th>\n",
       "    <th>2.385956</th>\n",
       "    <th>1.784345</th>\n",
       "    <th>0.580868</th>\n",
       "  </tr>\n",
       "</table>\n"
      ],
      "text/plain": [
       "<IPython.core.display.HTML object>"
      ]
     },
     "metadata": {},
     "output_type": "display_data"
    }
   ],
   "source": [
    "learner.fit_one_cycle(1, slice(1e-2/(2.6**4),1e-2), moms=(0.8,0.7))"
   ]
  },
  {
   "cell_type": "code",
   "execution_count": 34,
   "metadata": {},
   "outputs": [
    {
     "name": "stdout",
     "output_type": "stream",
     "text": [
      "LR Finder is complete, type {learner_name}.recorder.plot() to see the graph.\n"
     ]
    },
    {
     "data": {
      "image/png": "[encoded data removed]",
      "text/plain": [
       "<Figure size 432x288 with 1 Axes>"
      ]
     },
     "metadata": {},
     "output_type": "display_data"
    }
   ],
   "source": [
    "learner.freeze_to(-3)\n",
    "learner.lr_find()\n",
    "learner.recorder.plot()"
   ]
  },
  {
   "cell_type": "code",
   "execution_count": 35,
   "metadata": {},
   "outputs": [
    {
     "data": {
      "text/html": [
       "Total time: 00:13 <p><table style='width:300px; margin-bottom:10px'>\n",
       "  <tr>\n",
       "    <th>epoch</th>\n",
       "    <th>train_loss</th>\n",
       "    <th>valid_loss</th>\n",
       "    <th>accuracy</th>\n",
       "  </tr>\n",
       "  <tr>\n",
       "    <th>1</th>\n",
       "    <th>2.290246</th>\n",
       "    <th>1.642435</th>\n",
       "    <th>0.612426</th>\n",
       "  </tr>\n",
       "</table>\n"
      ],
      "text/plain": [
       "<IPython.core.display.HTML object>"
      ]
     },
     "metadata": {},
     "output_type": "display_data"
    }
   ],
   "source": [
    "learner.fit_one_cycle(1, slice(5e-3/(2.6**4),5e-3), moms=(0.8,0.7))"
   ]
  },
  {
   "cell_type": "code",
   "execution_count": 36,
   "metadata": {},
   "outputs": [
    {
     "name": "stdout",
     "output_type": "stream",
     "text": [
      "LR Finder is complete, type {learner_name}.recorder.plot() to see the graph.\n"
     ]
    }
   ],
   "source": [
    "learner.unfreeze()\n",
    "learner.lr_find()"
   ]
  },
  {
   "cell_type": "code",
   "execution_count": 37,
   "metadata": {},
   "outputs": [
    {
     "data": {
      "image/png": "[encoded data removed]",
      "text/plain": [
       "<Figure size 432x288 with 1 Axes>"
      ]
     },
     "metadata": {},
     "output_type": "display_data"
    }
   ],
   "source": [
    "learner.recorder.plot()"
   ]
  },
  {
   "cell_type": "code",
   "execution_count": 54,
   "metadata": {},
   "outputs": [
    {
     "data": {
      "text/html": [
       "Total time: 03:01 <p><table style='width:300px; margin-bottom:10px'>\n",
       "  <tr>\n",
       "    <th>epoch</th>\n",
       "    <th>train_loss</th>\n",
       "    <th>valid_loss</th>\n",
       "    <th>accuracy</th>\n",
       "  </tr>\n",
       "  <tr>\n",
       "    <th>1</th>\n",
       "    <th>0.595200</th>\n",
       "    <th>1.167829</th>\n",
       "    <th>0.748028</th>\n",
       "  </tr>\n",
       "  <tr>\n",
       "    <th>2</th>\n",
       "    <th>0.575241</th>\n",
       "    <th>1.171789</th>\n",
       "    <th>0.745069</th>\n",
       "  </tr>\n",
       "  <tr>\n",
       "    <th>3</th>\n",
       "    <th>0.731517</th>\n",
       "    <th>1.218244</th>\n",
       "    <th>0.744823</th>\n",
       "  </tr>\n",
       "  <tr>\n",
       "    <th>4</th>\n",
       "    <th>0.566015</th>\n",
       "    <th>1.217552</th>\n",
       "    <th>0.742850</th>\n",
       "  </tr>\n",
       "  <tr>\n",
       "    <th>5</th>\n",
       "    <th>0.534380</th>\n",
       "    <th>1.254984</th>\n",
       "    <th>0.745069</th>\n",
       "  </tr>\n",
       "  <tr>\n",
       "    <th>6</th>\n",
       "    <th>0.522757</th>\n",
       "    <th>1.261453</th>\n",
       "    <th>0.744823</th>\n",
       "  </tr>\n",
       "  <tr>\n",
       "    <th>7</th>\n",
       "    <th>0.426947</th>\n",
       "    <th>1.252529</th>\n",
       "    <th>0.749260</th>\n",
       "  </tr>\n",
       "  <tr>\n",
       "    <th>8</th>\n",
       "    <th>0.392401</th>\n",
       "    <th>1.279794</th>\n",
       "    <th>0.750000</th>\n",
       "  </tr>\n",
       "  <tr>\n",
       "    <th>9</th>\n",
       "    <th>0.340630</th>\n",
       "    <th>1.235056</th>\n",
       "    <th>0.752465</th>\n",
       "  </tr>\n",
       "  <tr>\n",
       "    <th>10</th>\n",
       "    <th>0.329878</th>\n",
       "    <th>1.270416</th>\n",
       "    <th>0.746548</th>\n",
       "  </tr>\n",
       "</table>\n"
      ],
      "text/plain": [
       "<IPython.core.display.HTML object>"
      ]
     },
     "metadata": {},
     "output_type": "display_data"
    }
   ],
   "source": [
    "learner.fit_one_cycle(10, slice(1e-2/(2.6**4),1e-3), moms=(0.8,0.7))"
   ]
  },
  {
   "cell_type": "markdown",
   "metadata": {},
   "source": [
    "learner.save('intent_classifier')\n",
    "learner.load('intent_classifier')"
   ]
  },
  {
   "cell_type": "code",
   "execution_count": 40,
   "metadata": {},
   "outputs": [
    {
     "data": {
      "text/plain": [
       "(Category request-advisor,\n",
       " tensor(206),\n",
       " tensor([4.6160e-04, 6.8867e-07, 5.0408e-04, 1.3583e-06, 1.5851e-04, 2.4176e-06,\n",
       "         1.2895e-06, 3.2654e-06, 2.1988e-05, 3.2376e-05, 1.0076e-06, 1.9309e-04,\n",
       "         3.5494e-06, 2.3231e-04, 2.5032e-06, 4.8726e-06, 4.2424e-05, 2.8112e-04,\n",
       "         7.6521e-07, 1.4093e-06, 2.4873e-05, 3.0309e-06, 9.6676e-07, 1.4049e-06,\n",
       "         2.4380e-02, 1.1255e-02, 1.2684e-07, 3.6828e-04, 1.8117e-05, 2.2084e-05,\n",
       "         2.1077e-07, 1.2795e-06, 1.1193e-03, 1.7319e-06, 1.6937e-05, 4.7228e-04,\n",
       "         2.7951e-06, 8.0522e-05, 1.2704e-05, 2.0956e-05, 4.2006e-05, 7.6921e-06,\n",
       "         4.0204e-07, 6.9592e-06, 9.9253e-06, 6.0246e-06, 1.3891e-06, 4.2033e-07,\n",
       "         1.2655e-06, 2.3178e-07, 3.0944e-07, 4.2307e-07, 2.2655e-05, 1.4028e-06,\n",
       "         1.7428e-06, 4.6317e-07, 1.5553e-04, 9.9946e-05, 1.2591e-04, 6.4101e-07,\n",
       "         2.0187e-04, 6.6347e-04, 5.6595e-02, 3.4759e-05, 9.0144e-05, 1.0030e-05,\n",
       "         3.0299e-07, 1.3314e-06, 8.0577e-06, 4.7125e-02, 5.0794e-07, 1.1263e-07,\n",
       "         3.4144e-04, 1.2720e-05, 2.6985e-05, 2.5281e-05, 1.7056e-06, 1.0075e-04,\n",
       "         3.8881e-06, 3.3373e-07, 2.0459e-05, 1.5841e-06, 1.8074e-06, 4.5518e-04,\n",
       "         7.6678e-07, 3.5851e-04, 1.3026e-06, 2.7117e-06, 3.7515e-06, 3.7970e-05,\n",
       "         7.8805e-07, 1.8069e-05, 2.7933e-05, 3.9257e-07, 1.8070e-03, 1.2194e-03,\n",
       "         7.5331e-05, 4.2367e-06, 2.8803e-05, 3.0353e-04, 7.2924e-06, 5.6001e-06,\n",
       "         2.1939e-06, 1.4759e-04, 1.0170e-05, 1.0004e-05, 1.2625e-07, 1.1134e-05,\n",
       "         3.8084e-06, 1.6226e-05, 6.0899e-06, 8.7033e-04, 1.7954e-05, 1.2935e-03,\n",
       "         5.4846e-07, 2.0467e-05, 1.1878e-06, 2.2138e-04, 2.3460e-07, 6.6538e-06,\n",
       "         1.5398e-04, 1.9094e-02, 1.3287e-04, 6.3690e-06, 1.1814e-01, 1.0211e-04,\n",
       "         1.0544e-04, 9.3111e-07, 1.6023e-02, 1.1781e-03, 1.6190e-05, 3.4797e-04,\n",
       "         8.4893e-06, 3.4523e-05, 2.9694e-03, 4.8706e-07, 2.1761e-06, 9.5668e-06,\n",
       "         8.2667e-08, 3.8816e-08, 2.9154e-06, 7.5128e-07, 2.9997e-06, 7.3144e-08,\n",
       "         3.7367e-04, 2.2539e-04, 1.1212e-04, 3.6507e-06, 4.3223e-05, 3.5449e-05,\n",
       "         3.7468e-07, 1.4549e-06, 6.0868e-07, 1.1060e-06, 1.3703e-06, 1.0774e-05,\n",
       "         7.0383e-06, 5.0023e-05, 2.9459e-05, 2.5981e-06, 8.9922e-07, 3.6729e-06,\n",
       "         4.3420e-07, 3.6866e-03, 1.0884e-04, 7.8189e-05, 4.3350e-07, 3.7113e-06,\n",
       "         5.2178e-03, 1.2378e-05, 1.4714e-05, 1.4325e-05, 2.4417e-06, 1.6066e-06,\n",
       "         4.1953e-06, 3.7749e-07, 3.2221e-07, 5.2652e-05, 3.9674e-07, 4.0981e-05,\n",
       "         1.4969e-03, 1.6977e-05, 1.8209e-07, 7.3801e-07, 7.6657e-06, 2.2457e-06,\n",
       "         9.3535e-06, 1.3277e-05, 2.0128e-06, 1.6707e-04, 1.5607e-04, 4.5583e-06,\n",
       "         1.1001e-04, 1.8223e-06, 3.3915e-06, 1.0600e-04, 3.6635e-05, 1.1395e-05,\n",
       "         3.2669e-05, 2.5445e-07, 3.1632e-07, 2.7614e-08, 9.5148e-05, 2.6693e-05,\n",
       "         2.8264e-07, 2.2462e-06, 5.9433e-01, 6.2569e-05, 5.5035e-02, 3.4797e-04,\n",
       "         1.2419e-02, 3.1119e-05, 1.6779e-04, 5.4736e-06, 5.3765e-05, 2.7036e-04,\n",
       "         5.2065e-03, 5.7494e-07, 6.2652e-06, 7.3917e-04, 4.1972e-05, 6.3407e-03,\n",
       "         1.6965e-04, 1.1056e-05, 2.2360e-05, 1.1326e-05, 1.0008e-05, 4.0410e-05,\n",
       "         5.3357e-05, 7.2087e-04, 7.7257e-06, 1.3263e-05, 1.0931e-05, 5.8990e-05,\n",
       "         7.1269e-06, 2.3335e-05, 4.1719e-05, 8.5790e-05, 3.7898e-05, 1.2466e-05,\n",
       "         5.1755e-06, 7.9738e-06, 1.9806e-05, 1.2733e-05, 1.4745e-07, 2.4859e-04,\n",
       "         5.3527e-06, 1.8497e-05]))"
      ]
     },
     "execution_count": 40,
     "metadata": {},
     "output_type": "execute_result"
    }
   ],
   "source": [
    "learner.predict(\"can you please \")"
   ]
  },
  {
   "cell_type": "code",
   "execution_count": null,
   "metadata": {},
   "outputs": [],
   "source": []
  },
  {
   "cell_type": "code",
   "execution_count": null,
   "metadata": {},
   "outputs": [],
   "source": []
  },
  {
   "cell_type": "code",
   "execution_count": null,
   "metadata": {},
   "outputs": [],
   "source": []
  }
 ],
 "metadata": {
  "kernelspec": {
   "display_name": "Environment (conda_pytorch_p36)",
   "language": "python",
   "name": "conda_pytorch_p36"
  },
  "language_info": {
   "codemirror_mode": {
    "name": "ipython",
    "version": 3
   },
   "file_extension": ".py",
   "mimetype": "text/x-python",
   "name": "python",
   "nbconvert_exporter": "python",
   "pygments_lexer": "ipython3",
   "version": "3.6.5"
  }
 },
 "nbformat": 4,
 "nbformat_minor": 2
}
