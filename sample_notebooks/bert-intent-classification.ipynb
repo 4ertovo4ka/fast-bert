{
 "cells": [
  {
   "cell_type": "markdown",
   "metadata": {},
   "source": [
    "### Import packages"
   ]
  },
  {
   "cell_type": "code",
   "execution_count": 1,
   "metadata": {},
   "outputs": [],
   "source": [
    "from pytorch_pretrained_bert.tokenization import BertTokenizer\n",
    "from pytorch_pretrained_bert.modeling import BertForPreTraining, BertConfig, BertForMaskedLM, BertForSequenceClassification\n",
    "from pathlib import Path\n",
    "import torch\n",
    "\n",
    "from fastai.text import Tokenizer, Vocab\n",
    "import pandas as pd\n",
    "import collections\n",
    "import os\n",
    "from tqdm import tqdm, trange\n",
    "import sys\n",
    "import random\n",
    "import numpy as np\n",
    "import apex\n",
    "from sklearn.model_selection import train_test_split\n",
    "\n",
    "import datetime\n",
    "    \n",
    "from torch.utils.data import TensorDataset, DataLoader, RandomSampler, SequentialSampler\n",
    "from torch.utils.data.distributed import DistributedSampler\n",
    "from pytorch_pretrained_bert.optimization import BertAdam\n"
   ]
  },
  {
   "cell_type": "code",
   "execution_count": 2,
   "metadata": {},
   "outputs": [],
   "source": [
    "pd.set_option('display.max_colwidth', -1)"
   ]
  },
  {
   "cell_type": "code",
   "execution_count": 3,
   "metadata": {},
   "outputs": [],
   "source": [
    "run_start_time = datetime.datetime.today().strftime('%Y-%m-%d_%H-%M-%S')"
   ]
  },
  {
   "cell_type": "markdown",
   "metadata": {},
   "source": [
    "### Setup paths"
   ]
  },
  {
   "cell_type": "code",
   "execution_count": 4,
   "metadata": {},
   "outputs": [],
   "source": [
    "DATA_PATH = Path('../data/')\n",
    "LABEL_PATH = Path('../labels/')\n",
    "\n",
    "AUG_DATA_PATH = Path('../data/data_augmentation/')\n",
    "\n",
    "MODEL_PATH=Path('../models/')\n",
    "LOG_PATH=Path('../logs/')\n",
    "MODEL_PATH.mkdir(exist_ok=True)\n",
    "\n",
    "model_state_dict = None\n",
    "\n",
    "BERT_PRETRAINED_PATH = Path('../models/pretrained-weights/uncased_L-12_H-768_A-12/')\n",
    "# BERT_PRETRAINED_PATH = Path('../../bert_fastai/pretrained-weights/cased_L-12_H-768_A-12/')\n",
    "# BERT_PRETRAINED_PATH = Path('../../bert_fastai/pretrained-weights/uncased_L-24_H-1024_A-16/')\n",
    "FINETUNED_PATH = Path('../models/intent_language_model_2019-02-01_00-37-04.bin')\n",
    "model_state_dict = torch.load(FINETUNED_PATH)\n",
    "\n",
    "LOG_PATH.mkdir(exist_ok=True)"
   ]
  },
  {
   "cell_type": "markdown",
   "metadata": {},
   "source": [
    "### Model parameters"
   ]
  },
  {
   "cell_type": "code",
   "execution_count": 5,
   "metadata": {},
   "outputs": [],
   "source": [
    "args = {\n",
    "    \"run_text\": \"finetined model\",\n",
    "    \"train_size\": -1,\n",
    "    \"val_size\": -1,\n",
    "    \"log_path\": LOG_PATH,\n",
    "    \"full_data_dir\": DATA_PATH,\n",
    "    \"data_dir\": DATA_PATH,\n",
    "    \"task_name\": \"intent_classification\",\n",
    "    \"no_cuda\": False,\n",
    "    \"bert_model\": BERT_PRETRAINED_PATH,\n",
    "    \"output_dir\": MODEL_PATH/'output',\n",
    "    \"max_seq_length\": 512,\n",
    "    \"do_train\": True,\n",
    "    \"do_eval\": True,\n",
    "    \"do_lower_case\": True,\n",
    "    \"train_batch_size\": 32,\n",
    "    \"eval_batch_size\": 32,\n",
    "    \"learning_rate\": 4e-5,\n",
    "    \"num_train_epochs\": 12.0,\n",
    "    \"warmup_proportion\": 0.2,\n",
    "    \"no_cuda\": False,\n",
    "    \"local_rank\": -1,\n",
    "    \"seed\": 42,\n",
    "    \"gradient_accumulation_steps\": 1,\n",
    "    \"optimize_on_cpu\": False,\n",
    "    \"fp16\": True,\n",
    "    \"loss_scale\": 128,\n",
    "    \"train_file\": \"train_1.csv\",\n",
    "    \"val_file\": \"val_1.csv\"\n",
    "}"
   ]
  },
  {
   "cell_type": "code",
   "execution_count": 6,
   "metadata": {},
   "outputs": [],
   "source": [
    "import logging\n",
    "\n",
    "logfile = str(LOG_PATH/'log-{}-{}.txt'.format(run_start_time, args[\"run_text\"]))\n",
    "\n",
    "logging.basicConfig(\n",
    "    level=logging.INFO,\n",
    "    format='%(asctime)s - %(levelname)s - %(name)s -   %(message)s',\n",
    "    datefmt='%m/%d/%Y %H:%M:%S',\n",
    "    handlers=[\n",
    "        logging.FileHandler(logfile),\n",
    "        logging.StreamHandler(sys.stdout)\n",
    "    ])\n",
    "\n",
    "logger = logging.getLogger()"
   ]
  },
  {
   "cell_type": "markdown",
   "metadata": {},
   "source": [
    "### BERT Classification  Class - with Freeze Capability"
   ]
  },
  {
   "cell_type": "code",
   "execution_count": 7,
   "metadata": {},
   "outputs": [],
   "source": [
    "class FreezableBertForSequenceClassification(BertForSequenceClassification):\n",
    "    def freeze_bert_encoder(self):\n",
    "        for param in self.bert.parameters():\n",
    "            param.requires_grad = False\n",
    "    \n",
    "    def unfreeze_bert_encoder(self):\n",
    "        for param in self.bert.parameters():\n",
    "            param.requires_grad = True"
   ]
  },
  {
   "cell_type": "markdown",
   "metadata": {},
   "source": [
    "### Data representation class"
   ]
  },
  {
   "cell_type": "code",
   "execution_count": 8,
   "metadata": {},
   "outputs": [],
   "source": [
    "class InputExample(object):\n",
    "    \"\"\"A single training/test example for simple sequence classification.\"\"\"\n",
    "\n",
    "    def __init__(self, guid, text_a, text_b=None, label=None):\n",
    "        \"\"\"Constructs a InputExample.\n",
    "\n",
    "        Args:\n",
    "            guid: Unique id for the example.\n",
    "            text_a: string. The untokenized text of the first sequence. For single\n",
    "            sequence tasks, only this sequence must be specified.\n",
    "            text_b: (Optional) string. The untokenized text of the second sequence.\n",
    "            Only must be specified for sequence pair tasks.\n",
    "            label: (Optional) string. The label of the example. This should be\n",
    "            specified for train and dev examples, but not for test examples.\n",
    "        \"\"\"\n",
    "        self.guid = guid\n",
    "        self.text_a = text_a\n",
    "        self.text_b = text_b\n",
    "        self.label = label\n",
    "\n",
    "\n",
    "class InputFeatures(object):\n",
    "    \"\"\"A single set of features of data.\"\"\"\n",
    "\n",
    "    def __init__(self, input_ids, input_mask, segment_ids, label_id):\n",
    "        self.input_ids = input_ids\n",
    "        self.input_mask = input_mask\n",
    "        self.segment_ids = segment_ids\n",
    "        self.label_id = label_id"
   ]
  },
  {
   "cell_type": "code",
   "execution_count": 9,
   "metadata": {},
   "outputs": [],
   "source": [
    "class DataProcessor(object):\n",
    "    \"\"\"Base class for data converters for sequence classification data sets.\"\"\"\n",
    "\n",
    "    def get_train_examples(self, data_dir):\n",
    "        \"\"\"Gets a collection of `InputExample`s for the train set.\"\"\"\n",
    "        raise NotImplementedError()\n",
    "\n",
    "    def get_dev_examples(self, data_dir):\n",
    "        \"\"\"Gets a collection of `InputExample`s for the dev set.\"\"\"\n",
    "        raise NotImplementedError()\n",
    "\n",
    "    def get_labels(self, classes_dir, filename='labels.csv') :\n",
    "        \"\"\"Gets the list of labels for this data set.\"\"\"\n",
    "        raise NotImplementedError()"
   ]
  },
  {
   "cell_type": "code",
   "execution_count": 10,
   "metadata": {},
   "outputs": [],
   "source": [
    "class TextProcessor(DataProcessor):\n",
    "    \n",
    "    def __init__(self, data_dir):\n",
    "        self.data_dir = data_dir\n",
    "        self.labels = None\n",
    "    \n",
    "    def get_train_examples(self, data_dir, filename='train.csv', size=-1):\n",
    "\n",
    "        logger.info(\"LOOKING AT {}\".format(os.path.join(data_dir, filename)))\n",
    "        if size == -1:\n",
    "            data_df = pd.read_csv(os.path.join(data_dir, filename))\n",
    "            data_df['text'].astype('str', inplace=True)\n",
    "            return self._create_examples(data_df, \"train\")\n",
    "        else:\n",
    "            data_df = pd.read_csv(os.path.join(data_dir, filename))\n",
    "            return self._create_examples(data_df.sample(size), \"train\")\n",
    "        \n",
    "    def get_dev_examples(self, data_dir, filename='val.csv', size=-1):\n",
    "        \"\"\"See base class.\"\"\"\n",
    "\n",
    "        if size == -1:\n",
    "            data_df = pd.read_csv(os.path.join(data_dir, filename))\n",
    "            return self._create_examples(data_df, \"dev\")\n",
    "        else:\n",
    "            data_df = pd.read_csv(os.path.join(data_dir, filename))\n",
    "            return self._create_examples(data_df.sample(size), \"dev\")\n",
    "\n",
    "    def get_labels(self, classes_dir, filename='labels.csv'):\n",
    "        \"\"\"See base class.\"\"\"\n",
    "        if self.labels == None:\n",
    "            self.labels = list(pd.read_csv(os.path.join(classes_dir, filename),header=None).dropna()[0].values)\n",
    "        return self.labels\n",
    "\n",
    "    def _create_examples(self, df, set_type):\n",
    "        \"\"\"Creates examples for the training and dev sets.\"\"\"\n",
    "        examples = []\n",
    "        for (i, row) in enumerate(df.values):\n",
    "            guid = \"%s-%s\" % (set_type, i)\n",
    "            text_a = row[0]\n",
    "            label = row[1]\n",
    "            examples.append(\n",
    "                InputExample(guid=guid, text_a=text_a, label=label))\n",
    "        return examples"
   ]
  },
  {
   "cell_type": "code",
   "execution_count": 11,
   "metadata": {},
   "outputs": [],
   "source": [
    "def convert_examples_to_features(examples, label_list, max_seq_length, tokenizer):\n",
    "    \"\"\"Loads a data file into a list of `InputBatch`s.\"\"\"\n",
    "\n",
    "    label_map = {label : i for i, label in enumerate(label_list)}\n",
    "\n",
    "    features = []\n",
    "    for (ex_index, example) in enumerate(examples):\n",
    "        tokens_a = tokenizer.tokenize(example.text_a)\n",
    "\n",
    "        tokens_b = None\n",
    "        if example.text_b:\n",
    "            tokens_b = tokenizer.tokenize(example.text_b)\n",
    "            # Modifies `tokens_a` and `tokens_b` in place so that the total\n",
    "            # length is less than the specified length.\n",
    "            # Account for [CLS], [SEP], [SEP] with \"- 3\"\n",
    "            _truncate_seq_pair(tokens_a, tokens_b, max_seq_length - 3)\n",
    "        else:\n",
    "            # Account for [CLS] and [SEP] with \"- 2\"\n",
    "            if len(tokens_a) > max_seq_length - 2:\n",
    "                tokens_a = tokens_a[:(max_seq_length - 2)]\n",
    "\n",
    "        # The convention in BERT is:\n",
    "        # (a) For sequence pairs:\n",
    "        #  tokens:   [CLS] is this jack ##son ##ville ? [SEP] no it is not . [SEP]\n",
    "        #  type_ids: 0   0  0    0    0     0       0 0    1  1  1  1   1 1\n",
    "        # (b) For single sequences:\n",
    "        #  tokens:   [CLS] the dog is hairy . [SEP]\n",
    "        #  type_ids: 0   0   0   0  0     0 0\n",
    "        #\n",
    "        # Where \"type_ids\" are used to indicate whether this is the first\n",
    "        # sequence or the second sequence. The embedding vectors for `type=0` and\n",
    "        # `type=1` were learned during pre-training and are added to the wordpiece\n",
    "        # embedding vector (and position vector). This is not *strictly* necessary\n",
    "        # since the [SEP] token unambigiously separates the sequences, but it makes\n",
    "        # it easier for the model to learn the concept of sequences.\n",
    "        #\n",
    "        # For classification tasks, the first vector (corresponding to [CLS]) is\n",
    "        # used as as the \"sentence vector\". Note that this only makes sense because\n",
    "        # the entire model is fine-tuned.\n",
    "        tokens = [\"[CLS]\"] + tokens_a + [\"[SEP]\"]\n",
    "        segment_ids = [0] * len(tokens)\n",
    "\n",
    "        if tokens_b:\n",
    "            tokens += tokens_b + [\"[SEP]\"]\n",
    "            segment_ids += [1] * (len(tokens_b) + 1)\n",
    "\n",
    "        input_ids = tokenizer.convert_tokens_to_ids(tokens)\n",
    "\n",
    "        # The mask has 1 for real tokens and 0 for padding tokens. Only real\n",
    "        # tokens are attended to.\n",
    "        input_mask = [1] * len(input_ids)\n",
    "\n",
    "        # Zero-pad up to the sequence length.\n",
    "        padding = [0] * (max_seq_length - len(input_ids))\n",
    "        input_ids += padding\n",
    "        input_mask += padding\n",
    "        segment_ids += padding\n",
    "\n",
    "        assert len(input_ids) == max_seq_length\n",
    "        assert len(input_mask) == max_seq_length\n",
    "        assert len(segment_ids) == max_seq_length\n",
    "        \n",
    "        if example.label:\n",
    "            label_id = label_map[example.label]\n",
    "        else:\n",
    "            label_id = ''\n",
    "#         if ex_index < 5:\n",
    "#             logger.info(\"*** Example ***\")\n",
    "#             logger.info(\"guid: %s\" % (example.guid))\n",
    "#             logger.info(\"tokens: %s\" % \" \".join(\n",
    "#                     [str(x) for x in tokens]))\n",
    "#             logger.info(\"input_ids: %s\" % \" \".join([str(x) for x in input_ids]))\n",
    "#             logger.info(\"input_mask: %s\" % \" \".join([str(x) for x in input_mask]))\n",
    "#             logger.info(\n",
    "#                     \"segment_ids: %s\" % \" \".join([str(x) for x in segment_ids]))\n",
    "#             logger.info(\"label: %s (id = %d)\" % (example.label, label_id))\n",
    "\n",
    "        features.append(\n",
    "                InputFeatures(input_ids=input_ids,\n",
    "                              input_mask=input_mask,\n",
    "                              segment_ids=segment_ids,\n",
    "                              label_id=label_id))\n",
    "    return features"
   ]
  },
  {
   "cell_type": "code",
   "execution_count": 12,
   "metadata": {},
   "outputs": [],
   "source": [
    "def _truncate_seq_pair(tokens_a, tokens_b, max_length):\n",
    "    \"\"\"Truncates a sequence pair in place to the maximum length.\"\"\"\n",
    "\n",
    "    # This is a simple heuristic which will always truncate the longer sequence\n",
    "    # one token at a time. This makes more sense than truncating an equal percent\n",
    "    # of tokens from each, since if one sequence is very short then each token\n",
    "    # that's truncated likely contains more information than a longer sequence.\n",
    "    while True:\n",
    "        total_length = len(tokens_a) + len(tokens_b)\n",
    "        if total_length <= max_length:\n",
    "            break\n",
    "        if len(tokens_a) > len(tokens_b):\n",
    "            tokens_a.pop()\n",
    "        else:\n",
    "            tokens_b.pop()"
   ]
  },
  {
   "cell_type": "code",
   "execution_count": 13,
   "metadata": {},
   "outputs": [],
   "source": [
    "def accuracy(out, labels):\n",
    "    outputs = np.argmax(out, axis=1)\n",
    "    return np.sum(outputs == labels)"
   ]
  },
  {
   "cell_type": "code",
   "execution_count": 14,
   "metadata": {},
   "outputs": [],
   "source": [
    "def warmup_linear(x, warmup=0.002):\n",
    "    if x < warmup:\n",
    "        return x/warmup\n",
    "    return 1.0 - x"
   ]
  },
  {
   "cell_type": "code",
   "execution_count": 15,
   "metadata": {},
   "outputs": [
    {
     "name": "stdout",
     "output_type": "stream",
     "text": [
      "02/08/2019 14:31:42 - INFO - root -   device: cuda n_gpu: 4, distributed training: False, 16-bits training: True\n"
     ]
    }
   ],
   "source": [
    "processors = {\n",
    "    \"intent_classification\": TextProcessor\n",
    "}\n",
    "\n",
    "# Setup GPU parameters\n",
    "\n",
    "if args[\"local_rank\"] == -1 or args[\"no_cuda\"]:\n",
    "    device = torch.device(\"cuda\" if torch.cuda.is_available() and not args[\"no_cuda\"] else \"cpu\")\n",
    "    n_gpu = torch.cuda.device_count()\n",
    "#     n_gpu = 1\n",
    "else:\n",
    "    torch.cuda.set_device(args['local_rank'])\n",
    "    device = torch.device(\"cuda\", args['local_rank'])\n",
    "    n_gpu = 1\n",
    "    # Initializes the distributed backend which will take care of sychronizing nodes/GPUs\n",
    "    torch.distributed.init_process_group(backend='nccl')\n",
    "logger.info(\"device: {} n_gpu: {}, distributed training: {}, 16-bits training: {}\".format(\n",
    "        device, n_gpu, bool(args['local_rank'] != -1), args['fp16']))"
   ]
  },
  {
   "cell_type": "code",
   "execution_count": 16,
   "metadata": {},
   "outputs": [],
   "source": [
    "args['train_batch_size'] = int(args['train_batch_size'] / args['gradient_accumulation_steps'])"
   ]
  },
  {
   "cell_type": "code",
   "execution_count": 17,
   "metadata": {},
   "outputs": [],
   "source": [
    "random.seed(args['seed'])\n",
    "np.random.seed(args['seed'])\n",
    "torch.manual_seed(args['seed'])\n",
    "if n_gpu > 0:\n",
    "    torch.cuda.manual_seed_all(args['seed'])"
   ]
  },
  {
   "cell_type": "code",
   "execution_count": 18,
   "metadata": {},
   "outputs": [],
   "source": [
    "task_name = args['task_name'].lower()\n",
    "\n",
    "if task_name not in processors:\n",
    "    raise ValueError(\"Task not found: %s\" % (task_name))"
   ]
  },
  {
   "cell_type": "code",
   "execution_count": 19,
   "metadata": {},
   "outputs": [],
   "source": [
    "processor = processors[task_name](args['data_dir'])\n",
    "label_list = processor.get_labels(LABEL_PATH)\n",
    "num_labels = len(label_list)"
   ]
  },
  {
   "cell_type": "code",
   "execution_count": 20,
   "metadata": {},
   "outputs": [
    {
     "data": {
      "text/plain": [
       "['enquire-bill',\n",
       " 'problem-hot_water',\n",
       " 'enquire-agreement',\n",
       " 'enquire-safety_certificate',\n",
       " 'enquire-appointment_when',\n",
       " 'enquire-heating',\n",
       " 'request-card',\n",
       " 'enquire-vague',\n",
       " 'enquire-tariff',\n",
       " 'vague-appliance',\n",
       " 'enquire-complaint',\n",
       " 'request-install_meter',\n",
       " 'request-invoice',\n",
       " 'delete-delete',\n",
       " 'enquire-install_boiler',\n",
       " 'renew-agreement',\n",
       " 'None',\n",
       " 'problem-boiler',\n",
       " 'enquire-appointment_plumbing',\n",
       " 'request-annual_service',\n",
       " 'change-address',\n",
       " 'enquire-repair',\n",
       " 'enquire-direct_debit',\n",
       " 'enquire-energy',\n",
       " 'enquire-card',\n",
       " 'enquire-appointment_today',\n",
       " 'report-leak_heating',\n",
       " 'report-home_move',\n",
       " 'change-name',\n",
       " 'setup-direct_debit',\n",
       " 'enquire-balance',\n",
       " 'enquire-bill_energy',\n",
       " 'request-appointment',\n",
       " 'enquire-customer_number',\n",
       " 'pay-bill_energy',\n",
       " 'problem-gas',\n",
       " 'enquire-connection',\n",
       " 'request-smart_meter',\n",
       " 'problem-heating',\n",
       " 'report-appointment_missed',\n",
       " 'vague-plumbing',\n",
       " 'report-letter',\n",
       " 'cancel-contract',\n",
       " 'enquire-refund',\n",
       " 'enquire-payment',\n",
       " 'problem-appliance',\n",
       " 'pay-bill',\n",
       " 'problem-bill',\n",
       " 'problem-vague',\n",
       " 'report-meter_reading_wrong',\n",
       " 'enquire-security_deposit',\n",
       " 'problem-meter_payge',\n",
       " 'change-appointment_service',\n",
       " 'enquire-gas_safety',\n",
       " 'report-contact',\n",
       " 'enquire-price',\n",
       " 'request-appointment_boiler',\n",
       " 'enquire-smart_meter',\n",
       " 'report-leak_water',\n",
       " 'request-service',\n",
       " 'report-meter_reading_final',\n",
       " 'report-bereavement',\n",
       " 'enquire-meter',\n",
       " 'report-direct_debit_unpaid',\n",
       " 'enquire-statement',\n",
       " 'problem-account',\n",
       " 'pay-payment',\n",
       " 'problem-plumbing',\n",
       " 'change-appointment',\n",
       " 'report-meter_reading',\n",
       " 'problem-electric',\n",
       " 'request-advisor',\n",
       " 'problem-meter',\n",
       " 'enquire-annual_service',\n",
       " 'enquire-account',\n",
       " 'request-appointment_electric',\n",
       " 'report-bill_high',\n",
       " 'problem-smart_meter',\n",
       " 'report-leak',\n",
       " 'enquire-meter_exchange',\n",
       " 'change-supplier',\n",
       " 'enquire-quote',\n",
       " 'enquire-appointment',\n",
       " 'register-card',\n",
       " 'problem-card',\n",
       " 'setup-account',\n",
       " 'problem-toilet',\n",
       " 'setup-contract',\n",
       " 'request-bill',\n",
       " 'request-install_meter_payge',\n",
       " 'enquire-payment_plan',\n",
       " 'enquire-meter_payge',\n",
       " 'setup-payment_plan',\n",
       " 'cancel-energy',\n",
       " 'enquire-meter_reading',\n",
       " 'change-account_detail',\n",
       " 'enquire-meter_number',\n",
       " 'enquire-account_online',\n",
       " 'enquire-insurance',\n",
       " 'problem-meter_reading',\n",
       " 'enquire-charge',\n",
       " 'join-homecare',\n",
       " 'problem-boiler_pressure',\n",
       " 'change-direct_debit',\n",
       " 'problem-direct_debit',\n",
       " 'enquire-bill_final',\n",
       " 'problem-key',\n",
       " 'cancel-vague',\n",
       " 'report-bill_unpaid',\n",
       " 'enquire-bill_paid',\n",
       " 'enquire-key',\n",
       " 'enquire-gas_fire',\n",
       " 'join-energy',\n",
       " 'enquire-debt',\n",
       " 'problem-drain',\n",
       " 'enquire-install_meter',\n",
       " 'report-direct_debit_changed',\n",
       " 'report-emergency',\n",
       " 'change-homecare',\n",
       " 'report-no_energy',\n",
       " 'enquire-service',\n",
       " 'enquire-credit',\n",
       " 'cancel-appointment',\n",
       " 'request-quote_energy',\n",
       " 'enquire-nectar',\n",
       " 'request-appointment_plumbing',\n",
       " 'report-bill_paid',\n",
       " 'report-property_new',\n",
       " 'change-payment',\n",
       " 'enquire-hive_hub',\n",
       " 'problem-payment',\n",
       " 'request-meter_move',\n",
       " 'enquire-supplier',\n",
       " 'enquire-invoice',\n",
       " 'enquire-charge_late_payment',\n",
       " 'enquire-account_confirm',\n",
       " 'enquire-warm_home_discount',\n",
       " 'request-meter_remove',\n",
       " 'pay-bill_final',\n",
       " 'vague-top_up',\n",
       " 'problem-hive_hub',\n",
       " 'enquire-debt_meter',\n",
       " 'enquire-meter_new',\n",
       " 'enquire-power_flush',\n",
       " 'enquire-install_smart_meter',\n",
       " 'report-gas_smell',\n",
       " 'request-appointment_meter_reading',\n",
       " 'enquire-call_back',\n",
       " 'enquire-meter_reset',\n",
       " 'vague-breakdown',\n",
       " 'report-card_lost',\n",
       " 'enquire-gas_capped',\n",
       " 'report-cut_off',\n",
       " 'request-service_report',\n",
       " 'problem-home_move',\n",
       " 'report-payment_difficulty',\n",
       " 'enquire-bulb',\n",
       " 'request-balance',\n",
       " 'report-letter_leaving',\n",
       " 'enquire-heating_upgrade',\n",
       " 'enquire-warranty',\n",
       " 'cancel-direct_debit',\n",
       " 'enquire-hive_heating',\n",
       " 'request-appointment_gas',\n",
       " 'enquire-bill_due',\n",
       " 'problem-pipe',\n",
       " 'enquire-bill_homecare',\n",
       " 'dispute-bill',\n",
       " 'change-bill',\n",
       " 'enquire-usage',\n",
       " 'pay-homecare',\n",
       " 'enquire-install_heating',\n",
       " 'problem-water',\n",
       " 'change-phone',\n",
       " 'request-appointment_emergency',\n",
       " 'change-email',\n",
       " 'change-vague',\n",
       " 'problem-shower',\n",
       " 'report-business_move',\n",
       " 'enquire-power_cut',\n",
       " 'request-bill_paper',\n",
       " 'enquire-gas_pipe',\n",
       " 'request-dyno_rod',\n",
       " 'report-key_lost',\n",
       " 'report-leak_drain',\n",
       " 'report-house_sale',\n",
       " 'report-blockage',\n",
       " 'request-appointment_homecare',\n",
       " 'request-appointment_heating',\n",
       " 'enquire-appointment_smart_meter',\n",
       " 'enquire-password',\n",
       " 'enquire-business_account',\n",
       " 'change-appointment_boiler',\n",
       " 'problem-bill_energy',\n",
       " 'vague-business',\n",
       " 'enquire-activation_code',\n",
       " 'enquire-boiler_new',\n",
       " 'vague-landlord',\n",
       " 'enquire-appointment_boiler',\n",
       " 'enquire-boiler_iq',\n",
       " 'report-leak_gas',\n",
       " 'change-install_smart_meter',\n",
       " 'vague-solar_panel',\n",
       " 'enquire-authority',\n",
       " 'enquire-bill_estimate',\n",
       " 'enquire-voucher',\n",
       " 'enquire-bill_reminder',\n",
       " 'enquire-hive',\n",
       " 'vague-pest_control',\n",
       " 'vague-fraud',\n",
       " 'enquire-emergency_credit',\n",
       " 'request-locksmith',\n",
       " 'report-meter_reading_opening',\n",
       " 'cancel-tariff',\n",
       " 'enquire-smart_card',\n",
       " 'cancel-smart_meter',\n",
       " 'enquire-claim',\n",
       " 'cancel-business_account',\n",
       " 'vague-compensation',\n",
       " 'problem-hive_app',\n",
       " 'vague-carbon_monoxide',\n",
       " 'enquire-account_overdue',\n",
       " 'change-payment_plan',\n",
       " 'problem-hive',\n",
       " 'enquire-install',\n",
       " 'enquire-fuel_direct',\n",
       " 'enquire-alarm',\n",
       " 'enquire-order',\n",
       " 'problem-hive_heating',\n",
       " 'setup-hive',\n",
       " 'report-gas_emergency',\n",
       " 'report-leak_sink',\n",
       " 'enquire-repayment',\n",
       " 'change-ownership',\n",
       " 'enquire-property',\n",
       " 'enquire-insulation',\n",
       " 'problem-payment_plan',\n",
       " 'report-payment_late',\n",
       " 'problem-account_setup',\n",
       " 'enquire-hive_camera',\n",
       " 'enquire-hive_sensor',\n",
       " 'enquire-hive_bulb',\n",
       " 'enquire-hive_thermostat',\n",
       " 'enquire-hive_app',\n",
       " 'enquire-install_hive',\n",
       " 'problem-hive_thermostat',\n",
       " 'cancel-hive',\n",
       " 'problem-hive_sensor',\n",
       " 'problem-hive_camera',\n",
       " 'enquire-business_care']"
      ]
     },
     "execution_count": 20,
     "metadata": {},
     "output_type": "execute_result"
    }
   ],
   "source": [
    "label_list"
   ]
  },
  {
   "cell_type": "code",
   "execution_count": 21,
   "metadata": {},
   "outputs": [
    {
     "name": "stdout",
     "output_type": "stream",
     "text": [
      "02/08/2019 14:31:42 - INFO - pytorch_pretrained_bert.tokenization -   loading vocabulary file ../models/pretrained-weights/uncased_L-12_H-768_A-12/vocab.txt\n"
     ]
    }
   ],
   "source": [
    "tokenizer = BertTokenizer.from_pretrained(args['bert_model'], do_lower_case=args['do_lower_case'])"
   ]
  },
  {
   "cell_type": "code",
   "execution_count": 22,
   "metadata": {},
   "outputs": [],
   "source": [
    "\n",
    "#     train_examples = processor.get_train_examples(args['data_dir'], size=args['train_size'])\n",
    "#     num_train_steps = int(\n",
    "#         len(train_examples) / args['train_batch_size'] / args['gradient_accumulation_steps'] * args['num_train_epochs'])"
   ]
  },
  {
   "cell_type": "code",
   "execution_count": 23,
   "metadata": {},
   "outputs": [
    {
     "name": "stdout",
     "output_type": "stream",
     "text": [
      "02/08/2019 14:31:42 - INFO - pytorch_pretrained_bert.modeling -   loading archive file ../models/pretrained-weights/uncased_L-12_H-768_A-12 from cache at ../models/pretrained-weights/uncased_L-12_H-768_A-12\n",
      "02/08/2019 14:31:42 - INFO - pytorch_pretrained_bert.modeling -   Model config {\n",
      "  \"attention_probs_dropout_prob\": 0.1,\n",
      "  \"hidden_act\": \"gelu\",\n",
      "  \"hidden_dropout_prob\": 0.1,\n",
      "  \"hidden_size\": 768,\n",
      "  \"initializer_range\": 0.02,\n",
      "  \"intermediate_size\": 3072,\n",
      "  \"max_position_embeddings\": 512,\n",
      "  \"num_attention_heads\": 12,\n",
      "  \"num_hidden_layers\": 12,\n",
      "  \"type_vocab_size\": 2,\n",
      "  \"vocab_size\": 30522\n",
      "}\n",
      "\n",
      "02/08/2019 14:31:47 - INFO - pytorch_pretrained_bert.modeling -   Weights of FreezableBertForSequenceClassification not initialized from pretrained model: ['classifier.weight', 'classifier.bias']\n",
      "02/08/2019 14:31:47 - INFO - pytorch_pretrained_bert.modeling -   Weights from pretrained model not used in FreezableBertForSequenceClassification: ['cls.predictions.bias', 'cls.predictions.transform.dense.weight', 'cls.predictions.transform.dense.bias', 'cls.predictions.transform.LayerNorm.weight', 'cls.predictions.transform.LayerNorm.bias', 'cls.predictions.decoder.weight', 'cls.seq_relationship.weight', 'cls.seq_relationship.bias']\n"
     ]
    }
   ],
   "source": [
    "# Prepare model\n",
    "def get_model():\n",
    "#     pdb.set_trace()\n",
    "    if model_state_dict:\n",
    "        model = FreezableBertForSequenceClassification.from_pretrained(args['bert_model'], num_labels = num_labels, state_dict=model_state_dict)\n",
    "    else:\n",
    "        model = FreezableBertForSequenceClassification.from_pretrained(args['bert_model'], num_labels = num_labels)\n",
    "    return model\n",
    "\n",
    "model = get_model()\n",
    "\n",
    "if args['fp16']:\n",
    "    model.half()\n",
    "model.to(device)\n",
    "if args['local_rank'] != -1:\n",
    "    try:\n",
    "        from apex.parallel import DistributedDataParallel as DDP\n",
    "    except ImportError:\n",
    "        raise ImportError(\"Please install apex from https://www.github.com/nvidia/apex to use distributed and fp16 training.\")\n",
    "\n",
    "    model = DDP(model)\n",
    "elif n_gpu > 1:\n",
    "    model = torch.nn.DataParallel(model)"
   ]
  },
  {
   "cell_type": "code",
   "execution_count": 24,
   "metadata": {},
   "outputs": [],
   "source": [
    "from torch.optim.lr_scheduler import _LRScheduler, Optimizer\n",
    "\n",
    "class CyclicLR(object):\n",
    "    \"\"\"Sets the learning rate of each parameter group according to\n",
    "    cyclical learning rate policy (CLR). The policy cycles the learning\n",
    "    rate between two boundaries with a constant frequency, as detailed in\n",
    "    the paper `Cyclical Learning Rates for Training Neural Networks`_.\n",
    "    The distance between the two boundaries can be scaled on a per-iteration\n",
    "    or per-cycle basis.\n",
    "    Cyclical learning rate policy changes the learning rate after every batch.\n",
    "    `batch_step` should be called after a batch has been used for training.\n",
    "    To resume training, save `last_batch_iteration` and use it to instantiate `CycleLR`.\n",
    "    This class has three built-in policies, as put forth in the paper:\n",
    "    \"triangular\":\n",
    "        A basic triangular cycle w/ no amplitude scaling.\n",
    "    \"triangular2\":\n",
    "        A basic triangular cycle that scales initial amplitude by half each cycle.\n",
    "    \"exp_range\":\n",
    "        A cycle that scales initial amplitude by gamma**(cycle iterations) at each\n",
    "        cycle iteration.\n",
    "    This implementation was adapted from the github repo: `bckenstler/CLR`_\n",
    "    Args:\n",
    "        optimizer (Optimizer): Wrapped optimizer.\n",
    "        base_lr (float or list): Initial learning rate which is the\n",
    "            lower boundary in the cycle for eachparam groups.\n",
    "            Default: 0.001\n",
    "        max_lr (float or list): Upper boundaries in the cycle for\n",
    "            each parameter group. Functionally,\n",
    "            it defines the cycle amplitude (max_lr - base_lr).\n",
    "            The lr at any cycle is the sum of base_lr\n",
    "            and some scaling of the amplitude; therefore\n",
    "            max_lr may not actually be reached depending on\n",
    "            scaling function. Default: 0.006\n",
    "        step_size (int): Number of training iterations per\n",
    "            half cycle. Authors suggest setting step_size\n",
    "            2-8 x training iterations in epoch. Default: 2000\n",
    "        mode (str): One of {triangular, triangular2, exp_range}.\n",
    "            Values correspond to policies detailed above.\n",
    "            If scale_fn is not None, this argument is ignored.\n",
    "            Default: 'triangular'\n",
    "        gamma (float): Constant in 'exp_range' scaling function:\n",
    "            gamma**(cycle iterations)\n",
    "            Default: 1.0\n",
    "        scale_fn (function): Custom scaling policy defined by a single\n",
    "            argument lambda function, where\n",
    "            0 <= scale_fn(x) <= 1 for all x >= 0.\n",
    "            mode paramater is ignored\n",
    "            Default: None\n",
    "        scale_mode (str): {'cycle', 'iterations'}.\n",
    "            Defines whether scale_fn is evaluated on\n",
    "            cycle number or cycle iterations (training\n",
    "            iterations since start of cycle).\n",
    "            Default: 'cycle'\n",
    "        last_batch_iteration (int): The index of the last batch. Default: -1\n",
    "    Example:\n",
    "        >>> optimizer = torch.optim.SGD(model.parameters(), lr=0.1, momentum=0.9)\n",
    "        >>> scheduler = torch.optim.CyclicLR(optimizer)\n",
    "        >>> data_loader = torch.utils.data.DataLoader(...)\n",
    "        >>> for epoch in range(10):\n",
    "        >>>     for batch in data_loader:\n",
    "        >>>         scheduler.batch_step()\n",
    "        >>>         train_batch(...)\n",
    "    .. _Cyclical Learning Rates for Training Neural Networks: https://arxiv.org/abs/1506.01186\n",
    "    .. _bckenstler/CLR: https://github.com/bckenstler/CLR\n",
    "    \"\"\"\n",
    "\n",
    "    def __init__(self, optimizer, base_lr=1e-3, max_lr=6e-3,\n",
    "                 step_size=2000, mode='triangular', gamma=1.,\n",
    "                 scale_fn=None, scale_mode='cycle', last_batch_iteration=-1):\n",
    "\n",
    "#         if not isinstance(optimizer, Optimizer):\n",
    "#             raise TypeError('{} is not an Optimizer'.format(\n",
    "#                 type(optimizer).__name__))\n",
    "        self.optimizer = optimizer\n",
    "\n",
    "        if isinstance(base_lr, list) or isinstance(base_lr, tuple):\n",
    "            if len(base_lr) != len(optimizer.param_groups):\n",
    "                raise ValueError(\"expected {} base_lr, got {}\".format(\n",
    "                    len(optimizer.param_groups), len(base_lr)))\n",
    "            self.base_lrs = list(base_lr)\n",
    "        else:\n",
    "            self.base_lrs = [base_lr] * len(optimizer.param_groups)\n",
    "\n",
    "        if isinstance(max_lr, list) or isinstance(max_lr, tuple):\n",
    "            if len(max_lr) != len(optimizer.param_groups):\n",
    "                raise ValueError(\"expected {} max_lr, got {}\".format(\n",
    "                    len(optimizer.param_groups), len(max_lr)))\n",
    "            self.max_lrs = list(max_lr)\n",
    "        else:\n",
    "            self.max_lrs = [max_lr] * len(optimizer.param_groups)\n",
    "\n",
    "        self.step_size = step_size\n",
    "\n",
    "        if mode not in ['triangular', 'triangular2', 'exp_range'] \\\n",
    "                and scale_fn is None:\n",
    "            raise ValueError('mode is invalid and scale_fn is None')\n",
    "\n",
    "        self.mode = mode\n",
    "        self.gamma = gamma\n",
    "\n",
    "        if scale_fn is None:\n",
    "            if self.mode == 'triangular':\n",
    "                self.scale_fn = self._triangular_scale_fn\n",
    "                self.scale_mode = 'cycle'\n",
    "            elif self.mode == 'triangular2':\n",
    "                self.scale_fn = self._triangular2_scale_fn\n",
    "                self.scale_mode = 'cycle'\n",
    "            elif self.mode == 'exp_range':\n",
    "                self.scale_fn = self._exp_range_scale_fn\n",
    "                self.scale_mode = 'iterations'\n",
    "        else:\n",
    "            self.scale_fn = scale_fn\n",
    "            self.scale_mode = scale_mode\n",
    "\n",
    "        self.batch_step(last_batch_iteration + 1)\n",
    "        self.last_batch_iteration = last_batch_iteration\n",
    "\n",
    "    def batch_step(self, batch_iteration=None):\n",
    "        if batch_iteration is None:\n",
    "            batch_iteration = self.last_batch_iteration + 1\n",
    "        self.last_batch_iteration = batch_iteration\n",
    "        for param_group, lr in zip(self.optimizer.param_groups, self.get_lr()):\n",
    "            param_group['lr'] = lr\n",
    "\n",
    "    def _triangular_scale_fn(self, x):\n",
    "        return 1.\n",
    "\n",
    "    def _triangular2_scale_fn(self, x):\n",
    "        return 1 / (2. ** (x - 1))\n",
    "\n",
    "    def _exp_range_scale_fn(self, x):\n",
    "        return self.gamma**(x)\n",
    "\n",
    "    def get_lr(self):\n",
    "        step_size = float(self.step_size)\n",
    "        cycle = np.floor(1 + self.last_batch_iteration / (2 * step_size))\n",
    "        x = np.abs(self.last_batch_iteration / step_size - 2 * cycle + 1)\n",
    "\n",
    "        lrs = []\n",
    "        param_lrs = zip(self.optimizer.param_groups, self.base_lrs, self.max_lrs)\n",
    "        for param_group, base_lr, max_lr in param_lrs:\n",
    "            base_height = (max_lr - base_lr) * np.maximum(0, (1 - x))\n",
    "            if self.scale_mode == 'cycle':\n",
    "                lr = base_lr + base_height * self.scale_fn(cycle)\n",
    "            else:\n",
    "                lr = base_lr + base_height * self.scale_fn(self.last_batch_iteration)\n",
    "            lrs.append(lr)\n",
    "        return lrs"
   ]
  },
  {
   "cell_type": "code",
   "execution_count": 25,
   "metadata": {},
   "outputs": [],
   "source": [
    "def get_optimizer(num_train_steps):\n",
    "    \n",
    "    # Prepare optimizer\n",
    "    param_optimizer = list(model.named_parameters())\n",
    "    no_decay = ['bias', 'LayerNorm.bias', 'LayerNorm.weight']\n",
    "    optimizer_grouped_parameters = [\n",
    "        {'params': [p for n, p in param_optimizer if not any(nd in n for nd in no_decay)], 'weight_decay': 0.01},\n",
    "        {'params': [p for n, p in param_optimizer if any(nd in n for nd in no_decay)], 'weight_decay': 0.0}\n",
    "        ]\n",
    "    t_total = num_train_steps\n",
    "    if args['local_rank'] != -1:\n",
    "        t_total = t_total // torch.distributed.get_world_size()\n",
    "    if args['fp16']:\n",
    "        try:\n",
    "            from apex.optimizers import FP16_Optimizer\n",
    "            from apex.optimizers import FusedAdam\n",
    "        except ImportError:\n",
    "            raise ImportError(\"Please install apex from https://www.github.com/nvidia/apex to use distributed and fp16 training.\")\n",
    "\n",
    "        optimizer = FusedAdam(optimizer_grouped_parameters,\n",
    "                              lr=args['learning_rate'],\n",
    "                              bias_correction=False,\n",
    "                              max_grad_norm=1.0)\n",
    "        if args['loss_scale'] == 0:\n",
    "            optimizer = FP16_Optimizer(optimizer, dynamic_loss_scale=True)\n",
    "        else:\n",
    "            optimizer = FP16_Optimizer(optimizer, static_loss_scale=args['loss_scale'])\n",
    "\n",
    "    else:\n",
    "        optimizer = BertAdam(optimizer_grouped_parameters,\n",
    "                             lr=args['learning_rate'],\n",
    "                             warmup=args['warmup_proportion'],\n",
    "                             t_total=t_total)\n",
    "    return optimizer, t_total"
   ]
  },
  {
   "cell_type": "markdown",
   "metadata": {},
   "source": [
    "### Model evaluation"
   ]
  },
  {
   "cell_type": "code",
   "execution_count": 26,
   "metadata": {},
   "outputs": [],
   "source": [
    "# Eval Fn\n",
    "eval_examples = processor.get_dev_examples(args['data_dir'], args['val_file'])\n",
    "def eval():\n",
    "    args['output_dir'].mkdir(exist_ok=True)\n",
    "\n",
    "    \n",
    "    eval_features = convert_examples_to_features(\n",
    "        eval_examples, label_list, args['max_seq_length'], tokenizer)\n",
    "    logger.info(\"***** Running evaluation *****\")\n",
    "    logger.info(\"  Num examples = %d\", len(eval_examples))\n",
    "    logger.info(\"  Batch size = %d\", args['eval_batch_size'])\n",
    "    all_input_ids = torch.tensor([f.input_ids for f in eval_features], dtype=torch.long)\n",
    "    all_input_mask = torch.tensor([f.input_mask for f in eval_features], dtype=torch.long)\n",
    "    all_segment_ids = torch.tensor([f.segment_ids for f in eval_features], dtype=torch.long)\n",
    "    all_label_ids = torch.tensor([f.label_id for f in eval_features], dtype=torch.long)\n",
    "    eval_data = TensorDataset(all_input_ids, all_input_mask, all_segment_ids, all_label_ids)\n",
    "    # Run prediction for full data\n",
    "    eval_sampler = SequentialSampler(eval_data)\n",
    "    eval_dataloader = DataLoader(eval_data, sampler=eval_sampler, batch_size=args['eval_batch_size'])\n",
    "\n",
    "    model.eval()\n",
    "    eval_loss, eval_accuracy = 0, 0\n",
    "    nb_eval_steps, nb_eval_examples = 0, 0\n",
    "    for input_ids, input_mask, segment_ids, label_ids in eval_dataloader:\n",
    "        input_ids = input_ids.to(device)\n",
    "        input_mask = input_mask.to(device)\n",
    "        segment_ids = segment_ids.to(device)\n",
    "        label_ids = label_ids.to(device)\n",
    "\n",
    "        with torch.no_grad():\n",
    "            tmp_eval_loss = model(input_ids, segment_ids, input_mask, label_ids)\n",
    "            logits = model(input_ids, segment_ids, input_mask)\n",
    "\n",
    "        logits = logits.detach().cpu().numpy()\n",
    "        label_ids = label_ids.to('cpu').numpy()\n",
    "        tmp_eval_accuracy = accuracy(logits, label_ids)\n",
    "\n",
    "        eval_loss += tmp_eval_loss.mean().item()\n",
    "        eval_accuracy += tmp_eval_accuracy\n",
    "\n",
    "        nb_eval_examples += input_ids.size(0)\n",
    "        nb_eval_steps += 1\n",
    "\n",
    "    eval_loss = eval_loss / nb_eval_steps\n",
    "    eval_accuracy = eval_accuracy / nb_eval_examples\n",
    "\n",
    "    result = {'eval_loss': eval_loss,\n",
    "              'eval_accuracy': eval_accuracy }\n",
    "\n",
    "    output_eval_file = os.path.join(args['output_dir'], \"eval_results.txt\")\n",
    "    with open(output_eval_file, \"w\") as writer:\n",
    "        logger.info(\"***** Eval results *****\")\n",
    "        for key in sorted(result.keys()):\n",
    "            logger.info(\"  %s = %s\", key, str(result[key]))\n",
    "#             writer.write(\"%s = %s\\n\" % (key, str(result[key])))"
   ]
  },
  {
   "cell_type": "markdown",
   "metadata": {},
   "source": [
    "### Load Training Data"
   ]
  },
  {
   "cell_type": "code",
   "execution_count": 27,
   "metadata": {},
   "outputs": [],
   "source": [
    "def load_training_data(processor, DATAPATH, filename='train.csv'):\n",
    "    train_examples = None\n",
    "    num_train_steps = None\n",
    "\n",
    "    train_examples = processor.get_train_examples(DATAPATH, filename=filename, size=args['train_size'])\n",
    "\n",
    "    train_features = convert_examples_to_features(train_examples, label_list, args['max_seq_length'], tokenizer)\n",
    "    logger.info(\"***** Running training *****\")\n",
    "    logger.info(\"  Num examples = %d\", len(train_examples))\n",
    "    logger.info(\"  Batch size = %d\", args['train_batch_size'])\n",
    "#     logger.info(\"  Num steps = %d\", num_train_steps)\n",
    "    all_input_ids = torch.tensor([f.input_ids for f in train_features], dtype=torch.long)\n",
    "    all_input_mask = torch.tensor([f.input_mask for f in train_features], dtype=torch.long)\n",
    "    all_segment_ids = torch.tensor([f.segment_ids for f in train_features], dtype=torch.long)\n",
    "    all_label_ids = torch.tensor([f.label_id for f in train_features], dtype=torch.long)\n",
    "    train_data = TensorDataset(all_input_ids, all_input_mask, all_segment_ids, all_label_ids)\n",
    "    if args['local_rank'] == -1:\n",
    "        train_sampler = RandomSampler(train_data)\n",
    "    else:\n",
    "        train_sampler = DistributedSampler(train_data)\n",
    "    train_dataloader = DataLoader(train_data, sampler=train_sampler, batch_size=args['train_batch_size'])\n",
    "    \n",
    "    return train_dataloader, train_examples"
   ]
  },
  {
   "cell_type": "code",
   "execution_count": 28,
   "metadata": {},
   "outputs": [
    {
     "name": "stdout",
     "output_type": "stream",
     "text": [
      "02/08/2019 14:31:51 - INFO - root -   LOOKING AT ../data/train_1.csv\n",
      "02/08/2019 14:31:55 - INFO - root -   ***** Running training *****\n",
      "02/08/2019 14:31:55 - INFO - root -     Num examples = 16220\n",
      "02/08/2019 14:31:55 - INFO - root -     Batch size = 32\n"
     ]
    }
   ],
   "source": [
    "train_dataloader, train_examples = load_training_data(processor, args['full_data_dir'] ,args['train_file'])"
   ]
  },
  {
   "cell_type": "code",
   "execution_count": 29,
   "metadata": {},
   "outputs": [],
   "source": [
    "from tqdm import tqdm_notebook as tqdm"
   ]
  },
  {
   "cell_type": "code",
   "execution_count": 30,
   "metadata": {},
   "outputs": [],
   "source": [
    "def reload_model(model):\n",
    "    torch.cuda.empty_cache() \n",
    "    model.to('cpu')\n",
    "    # Save a trained model\n",
    "#     model_to_save = model.module if hasattr(model, 'module') else model  # Only save the model it-self\n",
    "    output_model_file = os.path.join(MODEL_PATH, \"intent_classification_model_{}.bin\".format(run_start_time))\n",
    "#     torch.save(model_to_save.state_dict(), output_model_file)\n",
    "\n",
    "    # Load a trained model that you have fine-tuned\n",
    "    model_state_dict = torch.load(output_model_file)\n",
    "    model = BertForSequenceClassification.from_pretrained(args['bert_model'], num_labels = num_labels, state_dict=model_state_dict)\n",
    "    \n",
    "    if args['fp16']:\n",
    "        model.half()\n",
    "    torch.cuda.empty_cache() \n",
    "    model = model.to(device)\n",
    "    \n",
    "    if args['local_rank'] != -1:\n",
    "        try:\n",
    "            from apex.parallel import DistributedDataParallel as DDP\n",
    "        except ImportError:\n",
    "            raise ImportError(\"Please install apex from https://www.github.com/nvidia/apex to use distributed and fp16 training.\")\n",
    "\n",
    "        model = DDP(model)\n",
    "    elif n_gpu > 1:\n",
    "        model = torch.nn.DataParallel(model)\n",
    "    return model\n",
    "    "
   ]
  },
  {
   "cell_type": "code",
   "execution_count": 31,
   "metadata": {},
   "outputs": [],
   "source": [
    "def save_and_reload_model(model):\n",
    "    torch.cuda.empty_cache() \n",
    "    model.to('cpu')\n",
    "    # Save a trained model\n",
    "    model_to_save = model.module if hasattr(model, 'module') else model  # Only save the model it-self\n",
    "    output_model_file = os.path.join(MODEL_PATH, \"intent_classification_model_{}.bin\".format(run_start_time))\n",
    "    torch.save(model_to_save.state_dict(), output_model_file)\n",
    "\n",
    "    # Load a trained model that you have fine-tuned\n",
    "    model_state_dict = torch.load(output_model_file)\n",
    "    model = BertForSequenceClassification.from_pretrained(args['bert_model'], num_labels = num_labels, state_dict=model_state_dict)\n",
    "    \n",
    "    if args['fp16']:\n",
    "        model.half()\n",
    "    torch.cuda.empty_cache() \n",
    "    model = model.to(device)\n",
    "    \n",
    "    if args['local_rank'] != -1:\n",
    "        try:\n",
    "            from apex.parallel import DistributedDataParallel as DDP\n",
    "        except ImportError:\n",
    "            raise ImportError(\"Please install apex from https://www.github.com/nvidia/apex to use distributed and fp16 training.\")\n",
    "\n",
    "        model = DDP(model)\n",
    "    elif n_gpu > 1:\n",
    "        model = torch.nn.DataParallel(model)\n",
    "    return model\n",
    "    "
   ]
  },
  {
   "cell_type": "code",
   "execution_count": 32,
   "metadata": {},
   "outputs": [],
   "source": [
    "global_step = 0\n",
    "def fit(train_dataloader, train_examples, bs=args['train_batch_size'], num_epocs=args['num_train_epochs'], lr=args['learning_rate'], do_eval=True):\n",
    "    \n",
    "    num_train_steps = int(\n",
    "        len(train_examples) / bs / args['gradient_accumulation_steps'] * num_epocs)\n",
    "    \n",
    "    optimizer, t_total = get_optimizer(num_train_steps)\n",
    "    scheduler = CyclicLR(optimizer, base_lr=2e-5, \n",
    "                     max_lr=6e-5, step_size=2500, last_batch_iteration=0)\n",
    "\n",
    "    global_step = 0\n",
    "#     global global_step\n",
    "#     model.train()\n",
    "    for i_ in tqdm(range(int(num_epocs)), desc=\"Epoch\"):\n",
    "        model.train()\n",
    "        tr_loss = 0\n",
    "        nb_tr_examples, nb_tr_steps = 0, 0\n",
    "        for step, batch in enumerate(tqdm(train_dataloader, desc=\"Iteration\")):\n",
    "            \n",
    "#             scheduler.batch_step()\n",
    "            \n",
    "            batch = tuple(t.to(device) for t in batch)\n",
    "            input_ids, input_mask, segment_ids, label_ids = batch\n",
    "            loss = model(input_ids, segment_ids, input_mask, label_ids)\n",
    "            if n_gpu > 1:\n",
    "                loss = loss.mean() # mean() to average on multi-gpu.\n",
    "            if args['gradient_accumulation_steps'] > 1:\n",
    "                loss = loss / args['gradient_accumulation_steps']\n",
    "\n",
    "            if args['fp16']:\n",
    "                optimizer.backward(loss)\n",
    "            else:\n",
    "                loss.backward()\n",
    "\n",
    "            tr_loss += loss.item()\n",
    "            nb_tr_examples += input_ids.size(0)\n",
    "            nb_tr_steps += 1\n",
    "            if (step + 1) % args['gradient_accumulation_steps'] == 0:\n",
    "#                 scheduler.batch_step()\n",
    "                # modify learning rate with special warm up BERT uses\n",
    "                lr_this_step = lr * warmup_linear(global_step/t_total, args['warmup_proportion'])\n",
    "                for param_group in optimizer.param_groups:\n",
    "                    param_group['lr'] = lr_this_step\n",
    "                optimizer.step()\n",
    "                optimizer.zero_grad()\n",
    "                global_step += 1\n",
    "\n",
    "#         logger.info('Learning rate after epoch {} {}'.format(i_+1, lr_this_step))\n",
    "        logger.info('Loss after epoch {} {}'.format(i_+1, tr_loss / nb_tr_steps))\n",
    "        logger.info('Eval after epoch  {}'.format(i_+1))\n",
    "        if do_eval:\n",
    "            eval()"
   ]
  },
  {
   "cell_type": "code",
   "execution_count": null,
   "metadata": {
    "scrolled": true
   },
   "outputs": [
    {
     "data": {
      "application/vnd.jupyter.widget-view+json": {
       "model_id": "187ec644960c4315b7695227627ebdd9",
       "version_major": 2,
       "version_minor": 0
      },
      "text/plain": [
       "HBox(children=(IntProgress(value=0, description='Epoch', max=12, style=ProgressStyle(description_width='initia…"
      ]
     },
     "metadata": {},
     "output_type": "display_data"
    },
    {
     "data": {
      "application/vnd.jupyter.widget-view+json": {
       "model_id": "aa308a6f15dc406daba0695b5dee9510",
       "version_major": 2,
       "version_minor": 0
      },
      "text/plain": [
       "HBox(children=(IntProgress(value=0, description='Iteration', max=507, style=ProgressStyle(description_width='i…"
      ]
     },
     "metadata": {},
     "output_type": "display_data"
    },
    {
     "name": "stderr",
     "output_type": "stream",
     "text": [
      "/home/ubuntu/anaconda3/envs/pytorch_p36/lib/python3.6/site-packages/torch/nn/parallel/_functions.py:61: UserWarning: Was asked to gather along dimension 0, but all input tensors were scalars; will instead unsqueeze and return a vector.\n",
      "  warnings.warn('Was asked to gather along dimension 0, but all '\n"
     ]
    },
    {
     "name": "stdout",
     "output_type": "stream",
     "text": [
      "02/08/2019 14:33:53 - INFO - root -   Loss after epoch 1 4.254426312869822\n",
      "02/08/2019 14:33:53 - INFO - root -   Eval after epoch  1\n",
      "02/08/2019 14:33:53 - INFO - root -   ***** Running evaluation *****\n",
      "02/08/2019 14:33:53 - INFO - root -     Num examples = 4055\n",
      "02/08/2019 14:33:53 - INFO - root -     Batch size = 32\n",
      "02/08/2019 14:34:14 - INFO - root -   ***** Eval results *****\n",
      "02/08/2019 14:34:14 - INFO - root -     eval_accuracy = 0.4956843403205919\n",
      "02/08/2019 14:34:14 - INFO - root -     eval_loss = 2.7705847071850394\n"
     ]
    },
    {
     "data": {
      "application/vnd.jupyter.widget-view+json": {
       "model_id": "beb12cdc19e547b6b1f522fb844e3cd9",
       "version_major": 2,
       "version_minor": 0
      },
      "text/plain": [
       "HBox(children=(IntProgress(value=0, description='Iteration', max=507, style=ProgressStyle(description_width='i…"
      ]
     },
     "metadata": {},
     "output_type": "display_data"
    },
    {
     "name": "stdout",
     "output_type": "stream",
     "text": [
      "02/08/2019 14:36:00 - INFO - root -   Loss after epoch 2 2.1121968226084813\n",
      "02/08/2019 14:36:00 - INFO - root -   Eval after epoch  2\n",
      "02/08/2019 14:36:01 - INFO - root -   ***** Running evaluation *****\n",
      "02/08/2019 14:36:01 - INFO - root -     Num examples = 4055\n",
      "02/08/2019 14:36:01 - INFO - root -     Batch size = 32\n",
      "02/08/2019 14:36:21 - INFO - root -   ***** Eval results *****\n",
      "02/08/2019 14:36:21 - INFO - root -     eval_accuracy = 0.6678175092478422\n",
      "02/08/2019 14:36:21 - INFO - root -     eval_loss = 1.6473763533464567\n"
     ]
    },
    {
     "data": {
      "application/vnd.jupyter.widget-view+json": {
       "model_id": "59e063b509ae44fd8bddb3e036447f67",
       "version_major": 2,
       "version_minor": 0
      },
      "text/plain": [
       "HBox(children=(IntProgress(value=0, description='Iteration', max=507, style=ProgressStyle(description_width='i…"
      ]
     },
     "metadata": {},
     "output_type": "display_data"
    },
    {
     "name": "stdout",
     "output_type": "stream",
     "text": [
      "02/08/2019 14:38:08 - INFO - root -   Loss after epoch 3 1.2541128305288463\n",
      "02/08/2019 14:38:08 - INFO - root -   Eval after epoch  3\n",
      "02/08/2019 14:38:09 - INFO - root -   ***** Running evaluation *****\n",
      "02/08/2019 14:38:09 - INFO - root -     Num examples = 4055\n",
      "02/08/2019 14:38:09 - INFO - root -     Batch size = 32\n",
      "02/08/2019 14:38:29 - INFO - root -   ***** Eval results *****\n",
      "02/08/2019 14:38:29 - INFO - root -     eval_accuracy = 0.7329223181257707\n",
      "02/08/2019 14:38:29 - INFO - root -     eval_loss = 1.2786317359744095\n"
     ]
    },
    {
     "data": {
      "application/vnd.jupyter.widget-view+json": {
       "model_id": "9e99ba5c9d68434b9bd69db299f8bdb6",
       "version_major": 2,
       "version_minor": 0
      },
      "text/plain": [
       "HBox(children=(IntProgress(value=0, description='Iteration', max=507, style=ProgressStyle(description_width='i…"
      ]
     },
     "metadata": {},
     "output_type": "display_data"
    },
    {
     "name": "stdout",
     "output_type": "stream",
     "text": [
      "02/08/2019 14:40:15 - INFO - root -   Loss after epoch 4 0.8051651873767258\n",
      "02/08/2019 14:40:15 - INFO - root -   Eval after epoch  4\n",
      "02/08/2019 14:40:16 - INFO - root -   ***** Running evaluation *****\n",
      "02/08/2019 14:40:16 - INFO - root -     Num examples = 4055\n",
      "02/08/2019 14:40:16 - INFO - root -     Batch size = 32\n",
      "02/08/2019 14:40:37 - INFO - root -   ***** Eval results *****\n",
      "02/08/2019 14:40:37 - INFO - root -     eval_accuracy = 0.756596794081381\n",
      "02/08/2019 14:40:37 - INFO - root -     eval_loss = 1.1486316590797243\n"
     ]
    },
    {
     "data": {
      "application/vnd.jupyter.widget-view+json": {
       "model_id": "181515bfe01946f9ae08f5263f543e31",
       "version_major": 2,
       "version_minor": 0
      },
      "text/plain": [
       "HBox(children=(IntProgress(value=0, description='Iteration', max=507, style=ProgressStyle(description_width='i…"
      ]
     },
     "metadata": {},
     "output_type": "display_data"
    }
   ],
   "source": [
    "# model.module.unfreeze_bert_encoder()\n",
    "fit(train_dataloader,train_examples)"
   ]
  },
  {
   "cell_type": "markdown",
   "metadata": {},
   "source": [
    "### Data augmentation finetuning"
   ]
  },
  {
   "cell_type": "code",
   "execution_count": null,
   "metadata": {},
   "outputs": [],
   "source": [
    "# model = save_and_reload_model(model)"
   ]
  },
  {
   "cell_type": "code",
   "execution_count": null,
   "metadata": {},
   "outputs": [],
   "source": [
    "# train_dataloader, train_examples = load_training_data(processor, AUG_DATA_PATH, 'train_es.csv')"
   ]
  },
  {
   "cell_type": "code",
   "execution_count": null,
   "metadata": {},
   "outputs": [],
   "source": [
    "# fit(train_dataloader,train_examples, 3)"
   ]
  },
  {
   "cell_type": "code",
   "execution_count": null,
   "metadata": {},
   "outputs": [],
   "source": [
    "# model = save_and_reload_model(model)"
   ]
  },
  {
   "cell_type": "code",
   "execution_count": null,
   "metadata": {},
   "outputs": [],
   "source": [
    "# train_dataloader, train_examples = load_training_data(processor, AUG_DATA_PATH, 'train_de.csv')\n",
    "# fit(train_dataloader, train_examples, 3)"
   ]
  },
  {
   "cell_type": "code",
   "execution_count": null,
   "metadata": {},
   "outputs": [],
   "source": [
    "def predict(model, path, test_filename=args['val_file']):\n",
    "    predict_processor = TextProcessor(path)\n",
    "    test_examples = predict_processor.get_dev_examples(path, test_filename, size=-1)\n",
    "    \n",
    "    # Hold input data for returning it \n",
    "    input_data = [{ 'id': input_example.guid, 'text': input_example.text_a } for input_example in test_examples]\n",
    "\n",
    "    test_features = convert_examples_to_features(\n",
    "        test_examples, label_list, args['max_seq_length'], tokenizer)\n",
    "    \n",
    "    logger.info(\"***** Running prediction *****\")\n",
    "    logger.info(\"  Num examples = %d\", len(test_examples))\n",
    "    logger.info(\"  Batch size = %d\", args['eval_batch_size'])\n",
    "    \n",
    "    all_input_ids = torch.tensor([f.input_ids for f in test_features], dtype=torch.long)\n",
    "    all_input_mask = torch.tensor([f.input_mask for f in test_features], dtype=torch.long)\n",
    "    all_segment_ids = torch.tensor([f.segment_ids for f in test_features], dtype=torch.long)\n",
    "\n",
    "    test_data = TensorDataset(all_input_ids, all_input_mask, all_segment_ids)\n",
    "    \n",
    "    # Run prediction for full data\n",
    "    test_sampler = SequentialSampler(test_data)\n",
    "    test_dataloader = DataLoader(test_data, sampler=test_sampler, batch_size=args['eval_batch_size'])\n",
    "    \n",
    "    all_logits = None\n",
    "    \n",
    "    model.eval()\n",
    "    eval_loss, eval_accuracy = 0, 0\n",
    "    nb_eval_steps, nb_eval_examples = 0, 0\n",
    "    for step, batch in enumerate(tqdm(test_dataloader, desc=\"Prediction Iteration\")):\n",
    "        input_ids, input_mask, segment_ids = batch\n",
    "        input_ids = input_ids.to(device)\n",
    "        input_mask = input_mask.to(device)\n",
    "        segment_ids = segment_ids.to(device)\n",
    "\n",
    "        with torch.no_grad():\n",
    "#             tmp_eval_loss = model(input_ids, segment_ids, input_mask, label_ids)\n",
    "            logits = model(input_ids, segment_ids, input_mask)\n",
    "            logits = logits.softmax(dim=1)\n",
    "#         pdb.set_trace()\n",
    "        if all_logits is None:\n",
    "            all_logits = logits.detach().cpu().numpy()\n",
    "        else:\n",
    "            all_logits = np.concatenate((all_logits, logits.detach().cpu().numpy()), axis=0)\n",
    "            \n",
    "        nb_eval_examples += input_ids.size(0)\n",
    "        nb_eval_steps += 1\n",
    "\n",
    "    return pd.merge(pd.DataFrame(input_data), pd.DataFrame(all_logits, columns=label_list), left_index=True, right_index=True)"
   ]
  },
  {
   "cell_type": "code",
   "execution_count": null,
   "metadata": {},
   "outputs": [],
   "source": [
    "results = predict(model, args['data_dir'], args['val_file']) "
   ]
  },
  {
   "cell_type": "code",
   "execution_count": null,
   "metadata": {},
   "outputs": [],
   "source": [
    "results['prediction'] = results[results.columns[2:]].idxmax(axis=1)"
   ]
  },
  {
   "cell_type": "code",
   "execution_count": null,
   "metadata": {},
   "outputs": [],
   "source": [
    "original = pd.read_csv(args['data_dir']/args['val_file'])"
   ]
  },
  {
   "cell_type": "code",
   "execution_count": null,
   "metadata": {},
   "outputs": [],
   "source": [
    "results_ground_truth = pd.concat([results[['prediction']], original], axis=1)"
   ]
  },
  {
   "cell_type": "code",
   "execution_count": null,
   "metadata": {},
   "outputs": [],
   "source": [
    "mismatch = results_ground_truth[results_ground_truth['prediction'] != results_ground_truth['label']]"
   ]
  },
  {
   "cell_type": "code",
   "execution_count": null,
   "metadata": {},
   "outputs": [],
   "source": [
    "results.iloc[30][2:-1].sort_values(ascending=False)[:5]"
   ]
  },
  {
   "cell_type": "code",
   "execution_count": null,
   "metadata": {},
   "outputs": [],
   "source": [
    "mismatch"
   ]
  },
  {
   "cell_type": "code",
   "execution_count": null,
   "metadata": {},
   "outputs": [],
   "source": [
    "mismatch.shape"
   ]
  },
  {
   "cell_type": "code",
   "execution_count": null,
   "metadata": {},
   "outputs": [],
   "source": [
    "def predict_batch(model, texts):\n",
    "    \n",
    "    examples = []\n",
    "    input_data = []\n",
    "    \n",
    "    for index, text in enumerate(texts):\n",
    "        examples.append(InputExample(index, text))\n",
    "        input_data.append({\n",
    "            'id': index, \n",
    "            'text': text\n",
    "        })\n",
    "           \n",
    "    test_features = convert_examples_to_features(examples, label_list, args['max_seq_length'], tokenizer)\n",
    "    \n",
    "    \n",
    "    all_input_ids = torch.tensor([f.input_ids for f in test_features], dtype=torch.long)\n",
    "    all_input_mask = torch.tensor([f.input_mask for f in test_features], dtype=torch.long)\n",
    "    all_segment_ids = torch.tensor([f.segment_ids for f in test_features], dtype=torch.long)\n",
    "\n",
    "    test_data = TensorDataset(all_input_ids, all_input_mask, all_segment_ids)\n",
    "    \n",
    "    # Run prediction for full data\n",
    "    test_sampler = SequentialSampler(test_data)\n",
    "    test_dataloader = DataLoader(test_data, sampler=test_sampler, batch_size=args['eval_batch_size'])\n",
    "\n",
    "    all_logits = None\n",
    "    \n",
    "    model.eval()\n",
    "    eval_loss, eval_accuracy = 0, 0\n",
    "    nb_eval_steps, nb_eval_examples = 0, 0\n",
    "    for step, batch in enumerate(test_dataloader):\n",
    "        input_ids, input_mask, segment_ids = batch\n",
    "        input_ids = input_ids.to(device)\n",
    "        input_mask = input_mask.to(device)\n",
    "        segment_ids = segment_ids.to(device)\n",
    "\n",
    "        with torch.no_grad():\n",
    "#             tmp_eval_loss = model(input_ids, segment_ids, input_mask, label_ids)\n",
    "            logits = model(input_ids, segment_ids, input_mask)\n",
    "            logits = logits.softmax(dim=1)\n",
    "\n",
    "        if all_logits is None:\n",
    "            all_logits = logits.detach().cpu().numpy()\n",
    "        else:\n",
    "            all_logits = np.concatenate((all_logits, logits.detach().cpu().numpy()), axis=0)\n",
    "            \n",
    "        nb_eval_examples += input_ids.size(0)\n",
    "        nb_eval_steps += 1\n",
    "\n",
    "    result_df =  pd.DataFrame(all_logits, columns=label_list)\n",
    "    results = result_df.to_dict('record')\n",
    "    \n",
    "    return [sorted(x.items(), key=lambda kv: kv[1], reverse=True) for x in results]"
   ]
  },
  {
   "cell_type": "code",
   "execution_count": null,
   "metadata": {},
   "outputs": [],
   "source": [
    "# Save a trained model\n",
    "model = save_and_reload_model(model)"
   ]
  },
  {
   "cell_type": "code",
   "execution_count": null,
   "metadata": {},
   "outputs": [],
   "source": [
    "text = \"why is my bill so expensive\"\n",
    "predict_batch(model, [text])"
   ]
  },
  {
   "cell_type": "code",
   "execution_count": null,
   "metadata": {},
   "outputs": [],
   "source": [
    "import pdb\n",
    "def add_intent(DATA_PATH, filename):\n",
    "    \n",
    "    processor = TextProcessor(DATA_PATH)\n",
    "#     pdb.set_trace()\n",
    "    train_dataloader, train_examples = load_training_data(processor, DATA_PATH , filename)\n",
    "           \n",
    "    # Fit data for 2 epochs\n",
    "    fit(train_dataloader,train_examples, bs=5, num_epocs=1, lr=2e-5, do_eval=False)\n",
    "    "
   ]
  },
  {
   "cell_type": "code",
   "execution_count": null,
   "metadata": {},
   "outputs": [],
   "source": [
    "model = reload_model(model)"
   ]
  },
  {
   "cell_type": "code",
   "execution_count": null,
   "metadata": {},
   "outputs": [],
   "source": [
    "# add_intent(args['data_dir'], 'change-phone.csv')"
   ]
  },
  {
   "cell_type": "code",
   "execution_count": null,
   "metadata": {},
   "outputs": [],
   "source": [
    "results = predict(model, args['data_dir'], args['val_file']) \n",
    "original = pd.read_csv(args['data_dir']/args['val_file'])\n",
    "results['prediction'] = results[results.columns[2:]].idxmax(axis=1)\n",
    "results_ground_truth = pd.concat([results[['prediction']], original], axis=1)\n",
    "mismatch = results_ground_truth[results_ground_truth['prediction'] != results_ground_truth['label']]"
   ]
  },
  {
   "cell_type": "code",
   "execution_count": null,
   "metadata": {},
   "outputs": [],
   "source": [
    "# results.iloc[3907][2:-1].sort_values(ascending=False)[:5]"
   ]
  },
  {
   "cell_type": "code",
   "execution_count": null,
   "metadata": {},
   "outputs": [],
   "source": [
    "mismatch.shape"
   ]
  },
  {
   "cell_type": "code",
   "execution_count": null,
   "metadata": {},
   "outputs": [],
   "source": [
    "mismatch"
   ]
  },
  {
   "cell_type": "code",
   "execution_count": null,
   "metadata": {},
   "outputs": [],
   "source": [
    "int(len(train_dataloader) / args['gradient_accumulation_steps'])"
   ]
  },
  {
   "cell_type": "code",
   "execution_count": null,
   "metadata": {},
   "outputs": [],
   "source": []
  }
 ],
 "metadata": {
  "kernelspec": {
   "display_name": "Environment (conda_pytorch_p36)",
   "language": "python",
   "name": "conda_pytorch_p36"
  },
  "language_info": {
   "codemirror_mode": {
    "name": "ipython",
    "version": 3
   },
   "file_extension": ".py",
   "mimetype": "text/x-python",
   "name": "python",
   "nbconvert_exporter": "python",
   "pygments_lexer": "ipython3",
   "version": "3.6.5"
  }
 },
 "nbformat": 4,
 "nbformat_minor": 2
}
