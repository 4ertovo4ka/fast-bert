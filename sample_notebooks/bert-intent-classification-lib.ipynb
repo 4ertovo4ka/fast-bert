{
 "cells": [
  {
   "cell_type": "code",
   "execution_count": 1,
   "metadata": {},
   "outputs": [],
   "source": [
    "from pytorch_pretrained_bert.tokenization import BertTokenizer\n",
    "from pytorch_pretrained_bert.modeling import BertForPreTraining, BertConfig, BertForMaskedLM, BertForSequenceClassification\n",
    "from pathlib import Path\n",
    "import torch\n",
    "\n",
    "from fastai.text import Tokenizer, Vocab\n",
    "import pandas as pd\n",
    "import collections\n",
    "import os\n",
    "from tqdm import tqdm, trange\n",
    "import sys\n",
    "import random\n",
    "import numpy as np\n",
    "import apex\n",
    "from sklearn.model_selection import train_test_split\n",
    "\n",
    "import datetime\n",
    "    \n",
    "from torch.utils.data import TensorDataset, DataLoader, RandomSampler, SequentialSampler\n",
    "from torch.utils.data.distributed import DistributedSampler\n",
    "from pytorch_pretrained_bert.optimization import BertAdam\n",
    "\n",
    "from energy_bert.modeling import BertForMultiLabelSequenceClassification\n",
    "from energy_bert.data import BertDataBunch, InputExample, InputFeatures, MultiLabelTextProcessor, convert_examples_to_features\n",
    "from energy_bert.learner import BertLearner\n",
    "from energy_bert.metrics import accuracy"
   ]
  },
  {
   "cell_type": "code",
   "execution_count": 2,
   "metadata": {},
   "outputs": [],
   "source": [
    "torch.cuda.empty_cache()"
   ]
  },
  {
   "cell_type": "code",
   "execution_count": 3,
   "metadata": {},
   "outputs": [],
   "source": [
    "pd.set_option('display.max_colwidth', -1)\n",
    "run_start_time = datetime.datetime.today().strftime('%Y-%m-%d_%H-%M-%S')"
   ]
  },
  {
   "cell_type": "code",
   "execution_count": 4,
   "metadata": {},
   "outputs": [],
   "source": [
    "DATA_PATH = Path('../data/')\n",
    "LABEL_PATH = Path('../labels/')\n",
    "\n",
    "AUG_DATA_PATH = Path('../data/data_augmentation/')\n",
    "\n",
    "MODEL_PATH=Path('../models/')\n",
    "LOG_PATH=Path('../logs/')\n",
    "MODEL_PATH.mkdir(exist_ok=True)\n",
    "\n",
    "model_state_dict = None\n",
    "\n",
    "# BERT_PRETRAINED_PATH = Path('../../bert_models/pretrained-weights/cased_L-12_H-768_A-12/')\n",
    "BERT_PRETRAINED_PATH = Path('../../bert_models/pretrained-weights/uncased_L-12_H-768_A-12/')\n",
    "# BERT_PRETRAINED_PATH = Path('../../bert_fastai/pretrained-weights/uncased_L-24_H-1024_A-16/')\n",
    "FINETUNED_PATH = Path('../models/intent_language_model_2019-02-01_00-37-04.bin')\n",
    "# FINETUNED_PATH = None\n",
    "# model_state_dict = torch.load(FINETUNED_PATH)\n",
    "\n",
    "LOG_PATH.mkdir(exist_ok=True)"
   ]
  },
  {
   "cell_type": "code",
   "execution_count": 5,
   "metadata": {},
   "outputs": [],
   "source": [
    "args = {\n",
    "    \"run_text\": \"Intent classification finetuned model bert large\",\n",
    "    \"train_size\": -1,\n",
    "    \"val_size\": -1,\n",
    "    \"log_path\": LOG_PATH,\n",
    "    \"full_data_dir\": DATA_PATH,\n",
    "    \"data_dir\": DATA_PATH,\n",
    "    \"task_name\": \"intent_classification_lib\",\n",
    "    \"no_cuda\": False,\n",
    "    \"bert_model\": BERT_PRETRAINED_PATH,\n",
    "    \"output_dir\": MODEL_PATH/'output',\n",
    "    \"max_seq_length\": 512,\n",
    "    \"do_train\": True,\n",
    "    \"do_eval\": True,\n",
    "    \"do_lower_case\": True,\n",
    "    \"train_batch_size\": 32,\n",
    "    \"eval_batch_size\": 32,\n",
    "    \"learning_rate\": 8e-5,\n",
    "    \"num_train_epochs\": 12.0,\n",
    "    \"warmup_proportion\": 0.1,\n",
    "    \"no_cuda\": False,\n",
    "    \"local_rank\": -1,\n",
    "    \"seed\": 42,\n",
    "    \"gradient_accumulation_steps\": 1,\n",
    "    \"optimize_on_cpu\": False,\n",
    "    \"fp16\": False,\n",
    "    \"loss_scale\": 128\n",
    "}"
   ]
  },
  {
   "cell_type": "code",
   "execution_count": 6,
   "metadata": {},
   "outputs": [],
   "source": [
    "import logging\n",
    "\n",
    "logfile = str(LOG_PATH/'log-{}-{}.txt'.format(run_start_time, args[\"run_text\"]))\n",
    "\n",
    "logging.basicConfig(\n",
    "    level=logging.INFO,\n",
    "    format='%(asctime)s - %(levelname)s - %(name)s -   %(message)s',\n",
    "    datefmt='%m/%d/%Y %H:%M:%S',\n",
    "    handlers=[\n",
    "        logging.FileHandler(logfile),\n",
    "        logging.StreamHandler(sys.stdout)\n",
    "    ])\n",
    "\n",
    "logger = logging.getLogger()"
   ]
  },
  {
   "cell_type": "code",
   "execution_count": 7,
   "metadata": {},
   "outputs": [
    {
     "name": "stdout",
     "output_type": "stream",
     "text": [
      "03/11/2019 23:45:01 - INFO - root -   {'run_text': 'Intent classification finetuned model bert large', 'train_size': -1, 'val_size': -1, 'log_path': PosixPath('../logs'), 'full_data_dir': PosixPath('../data'), 'data_dir': PosixPath('../data'), 'task_name': 'intent_classification_lib', 'no_cuda': False, 'bert_model': PosixPath('../../bert_models/pretrained-weights/uncased_L-12_H-768_A-12'), 'output_dir': PosixPath('../models/output'), 'max_seq_length': 512, 'do_train': True, 'do_eval': True, 'do_lower_case': True, 'train_batch_size': 32, 'eval_batch_size': 32, 'learning_rate': 8e-05, 'num_train_epochs': 12.0, 'warmup_proportion': 0.1, 'local_rank': -1, 'seed': 42, 'gradient_accumulation_steps': 1, 'optimize_on_cpu': False, 'fp16': False, 'loss_scale': 128}\n"
     ]
    }
   ],
   "source": [
    "logger.info(args)"
   ]
  },
  {
   "cell_type": "code",
   "execution_count": 8,
   "metadata": {},
   "outputs": [
    {
     "name": "stdout",
     "output_type": "stream",
     "text": [
      "03/11/2019 23:45:01 - INFO - pytorch_pretrained_bert.tokenization -   loading vocabulary file ../../bert_models/pretrained-weights/uncased_L-12_H-768_A-12/vocab.txt\n"
     ]
    }
   ],
   "source": [
    "tokenizer = BertTokenizer.from_pretrained(BERT_PRETRAINED_PATH, do_lower_case=args['do_lower_case'])"
   ]
  },
  {
   "cell_type": "code",
   "execution_count": 9,
   "metadata": {},
   "outputs": [],
   "source": [
    "device = torch.device('cuda')"
   ]
  },
  {
   "cell_type": "code",
   "execution_count": 10,
   "metadata": {},
   "outputs": [],
   "source": [
    "if torch.cuda.device_count() > 1:\n",
    "    multi_gpu = True\n",
    "else:\n",
    "    multi_gpu = False"
   ]
  },
  {
   "cell_type": "code",
   "execution_count": 11,
   "metadata": {},
   "outputs": [],
   "source": [
    "databunch = BertDataBunch(args['data_dir'], LABEL_PATH, tokenizer, train_file='train_4.csv', val_file='val_4.csv',\n",
    "                          bs=args['train_batch_size'], maxlen=args['max_seq_length'], multi_gpu=multi_gpu, multi_label=False)"
   ]
  },
  {
   "cell_type": "code",
   "execution_count": 12,
   "metadata": {},
   "outputs": [],
   "source": [
    "num_labels = len(databunch.labels)"
   ]
  },
  {
   "cell_type": "code",
   "execution_count": 13,
   "metadata": {},
   "outputs": [
    {
     "data": {
      "text/plain": [
       "250"
      ]
     },
     "execution_count": 13,
     "metadata": {},
     "output_type": "execute_result"
    }
   ],
   "source": [
    "num_labels"
   ]
  },
  {
   "cell_type": "code",
   "execution_count": 14,
   "metadata": {},
   "outputs": [],
   "source": [
    "metrics = []\n",
    "metrics.append({'name': 'accuracy', 'function': accuracy})"
   ]
  },
  {
   "cell_type": "code",
   "execution_count": 15,
   "metadata": {},
   "outputs": [
    {
     "name": "stdout",
     "output_type": "stream",
     "text": [
      "03/11/2019 23:45:08 - INFO - pytorch_pretrained_bert.modeling -   loading archive file ../../bert_models/pretrained-weights/uncased_L-12_H-768_A-12 from cache at ../../bert_models/pretrained-weights/uncased_L-12_H-768_A-12\n",
      "03/11/2019 23:45:08 - INFO - pytorch_pretrained_bert.modeling -   Model config {\n",
      "  \"attention_probs_dropout_prob\": 0.1,\n",
      "  \"hidden_act\": \"gelu\",\n",
      "  \"hidden_dropout_prob\": 0.1,\n",
      "  \"hidden_size\": 768,\n",
      "  \"initializer_range\": 0.02,\n",
      "  \"intermediate_size\": 3072,\n",
      "  \"max_position_embeddings\": 512,\n",
      "  \"num_attention_heads\": 12,\n",
      "  \"num_hidden_layers\": 12,\n",
      "  \"type_vocab_size\": 2,\n",
      "  \"vocab_size\": 30522\n",
      "}\n",
      "\n",
      "03/11/2019 23:45:13 - INFO - pytorch_pretrained_bert.modeling -   Weights of BertForSequenceClassification not initialized from pretrained model: ['classifier.weight', 'classifier.bias']\n",
      "03/11/2019 23:45:13 - INFO - pytorch_pretrained_bert.modeling -   Weights from pretrained model not used in BertForSequenceClassification: ['cls.predictions.bias', 'cls.predictions.transform.dense.weight', 'cls.predictions.transform.dense.bias', 'cls.predictions.transform.LayerNorm.weight', 'cls.predictions.transform.LayerNorm.bias', 'cls.predictions.decoder.weight', 'cls.seq_relationship.weight', 'cls.seq_relationship.bias']\n"
     ]
    }
   ],
   "source": [
    "learner = BertLearner.from_pretrained_model(databunch, BERT_PRETRAINED_PATH, metrics, device, logger, \n",
    "                                            finetuned_wgts_path=FINETUNED_PATH, \n",
    "                                            is_fp16=args['fp16'], loss_scale=args['loss_scale'], \n",
    "                                            multi_gpu=multi_gpu,  multi_label=False)"
   ]
  },
  {
   "cell_type": "code",
   "execution_count": 16,
   "metadata": {},
   "outputs": [],
   "source": [
    "# list(learner.layer_groups[5][0].parameters())[0].requires_grad"
   ]
  },
  {
   "cell_type": "code",
   "execution_count": 17,
   "metadata": {},
   "outputs": [],
   "source": [
    "# learner.freeze()\n",
    "learner.unfreeze()"
   ]
  },
  {
   "cell_type": "code",
   "execution_count": 18,
   "metadata": {},
   "outputs": [
    {
     "data": {
      "text/html": [
       "Total time: 03:03 <p>"
      ],
      "text/plain": [
       "<IPython.core.display.HTML object>"
      ]
     },
     "metadata": {},
     "output_type": "display_data"
    },
    {
     "name": "stderr",
     "output_type": "stream",
     "text": [
      "/home/ubuntu/anaconda3/envs/pytorch_p36/lib/python3.6/site-packages/torch/nn/parallel/_functions.py:61: UserWarning: Was asked to gather along dimension 0, but all input tensors were scalars; will instead unsqueeze and return a vector.\n",
      "  warnings.warn('Was asked to gather along dimension 0, but all '\n"
     ]
    },
    {
     "name": "stdout",
     "output_type": "stream",
     "text": [
      "03/11/2019 23:47:55 - INFO - root -   Loss after epoch 0 - 2.1024376782530885\n",
      "03/11/2019 23:47:55 - INFO - root -   Running evaluation\n"
     ]
    },
    {
     "data": {
      "text/html": [
       "\n",
       "    <div>\n",
       "        <style>\n",
       "            /* Turns off some styling */\n",
       "            progress {\n",
       "                /* gets rid of default border in Firefox and Opera. */\n",
       "                border: none;\n",
       "                /* Needs to be in here for Safari polyfill so background images work as expected. */\n",
       "                background-size: auto;\n",
       "            }\n",
       "            .progress-bar-interrupted, .progress-bar-interrupted::-webkit-progress-bar {\n",
       "                background: #F44336;\n",
       "            }\n",
       "        </style>\n",
       "      <progress value='101' class='' max='101', style='width:300px; height:20px; vertical-align: middle;'></progress>\n",
       "      100.00% [101/101 00:21<00:00]\n",
       "    </div>\n",
       "    "
      ],
      "text/plain": [
       "<IPython.core.display.HTML object>"
      ]
     },
     "metadata": {},
     "output_type": "display_data"
    },
    {
     "name": "stdout",
     "output_type": "stream",
     "text": [
      "03/11/2019 23:48:17 - INFO - root -   Eval results:\n",
      "03/11/2019 23:48:17 - INFO - root -     eval_loss = 1.2320932297423335\n",
      "03/11/2019 23:48:17 - INFO - root -     metrics = {'accuracy': 0.7342679127725856}\n",
      "03/11/2019 23:48:17 - INFO - root -   --------------------------------------------------------------------------------\n"
     ]
    }
   ],
   "source": [
    "learner.fit(1, lr=args['learning_rate'])"
   ]
  },
  {
   "cell_type": "code",
   "execution_count": 19,
   "metadata": {},
   "outputs": [
    {
     "data": {
      "text/html": [
       "Total time: 01:46 <p>"
      ],
      "text/plain": [
       "<IPython.core.display.HTML object>"
      ]
     },
     "metadata": {},
     "output_type": "display_data"
    },
    {
     "name": "stderr",
     "output_type": "stream",
     "text": [
      "/home/ubuntu/anaconda3/envs/pytorch_p36/lib/python3.6/site-packages/torch/nn/parallel/_functions.py:61: UserWarning: Was asked to gather along dimension 0, but all input tensors were scalars; will instead unsqueeze and return a vector.\n",
      "  warnings.warn('Was asked to gather along dimension 0, but all '\n"
     ]
    },
    {
     "name": "stdout",
     "output_type": "stream",
     "text": [
      "03/11/2019 23:49:42 - INFO - root -   Loss after epoch 0 - 0.9195217793396034\n",
      "03/11/2019 23:49:42 - INFO - root -   Running evaluation\n"
     ]
    },
    {
     "data": {
      "text/html": [
       "\n",
       "    <div>\n",
       "        <style>\n",
       "            /* Turns off some styling */\n",
       "            progress {\n",
       "                /* gets rid of default border in Firefox and Opera. */\n",
       "                border: none;\n",
       "                /* Needs to be in here for Safari polyfill so background images work as expected. */\n",
       "                background-size: auto;\n",
       "            }\n",
       "            .progress-bar-interrupted, .progress-bar-interrupted::-webkit-progress-bar {\n",
       "                background: #F44336;\n",
       "            }\n",
       "        </style>\n",
       "      <progress value='101' class='' max='101', style='width:300px; height:20px; vertical-align: middle;'></progress>\n",
       "      100.00% [101/101 00:21<00:00]\n",
       "    </div>\n",
       "    "
      ],
      "text/plain": [
       "<IPython.core.display.HTML object>"
      ]
     },
     "metadata": {},
     "output_type": "display_data"
    },
    {
     "name": "stdout",
     "output_type": "stream",
     "text": [
      "03/11/2019 23:50:03 - INFO - root -   Eval results:\n",
      "03/11/2019 23:50:03 - INFO - root -     eval_loss = 0.9282807821389472\n",
      "03/11/2019 23:50:03 - INFO - root -     metrics = {'accuracy': 0.7847352024922118}\n",
      "03/11/2019 23:50:03 - INFO - root -   --------------------------------------------------------------------------------\n"
     ]
    }
   ],
   "source": [
    "learner.freeze_to(-2)\n",
    "learner.fit(1, lr=args['learning_rate'])"
   ]
  },
  {
   "cell_type": "code",
   "execution_count": 20,
   "metadata": {},
   "outputs": [
    {
     "data": {
      "text/html": [
       "Total time: 02:06 <p>"
      ],
      "text/plain": [
       "<IPython.core.display.HTML object>"
      ]
     },
     "metadata": {},
     "output_type": "display_data"
    },
    {
     "name": "stderr",
     "output_type": "stream",
     "text": [
      "/home/ubuntu/anaconda3/envs/pytorch_p36/lib/python3.6/site-packages/torch/nn/parallel/_functions.py:61: UserWarning: Was asked to gather along dimension 0, but all input tensors were scalars; will instead unsqueeze and return a vector.\n",
      "  warnings.warn('Was asked to gather along dimension 0, but all '\n"
     ]
    },
    {
     "name": "stdout",
     "output_type": "stream",
     "text": [
      "03/11/2019 23:51:48 - INFO - root -   Loss after epoch 0 - 0.8139195168210615\n",
      "03/11/2019 23:51:48 - INFO - root -   Running evaluation\n"
     ]
    },
    {
     "data": {
      "text/html": [
       "\n",
       "    <div>\n",
       "        <style>\n",
       "            /* Turns off some styling */\n",
       "            progress {\n",
       "                /* gets rid of default border in Firefox and Opera. */\n",
       "                border: none;\n",
       "                /* Needs to be in here for Safari polyfill so background images work as expected. */\n",
       "                background-size: auto;\n",
       "            }\n",
       "            .progress-bar-interrupted, .progress-bar-interrupted::-webkit-progress-bar {\n",
       "                background: #F44336;\n",
       "            }\n",
       "        </style>\n",
       "      <progress value='101' class='' max='101', style='width:300px; height:20px; vertical-align: middle;'></progress>\n",
       "      100.00% [101/101 00:21<00:00]\n",
       "    </div>\n",
       "    "
      ],
      "text/plain": [
       "<IPython.core.display.HTML object>"
      ]
     },
     "metadata": {},
     "output_type": "display_data"
    },
    {
     "name": "stdout",
     "output_type": "stream",
     "text": [
      "03/11/2019 23:52:10 - INFO - root -   Eval results:\n",
      "03/11/2019 23:52:10 - INFO - root -     eval_loss = 0.7524081835947415\n",
      "03/11/2019 23:52:10 - INFO - root -     metrics = {'accuracy': 0.82398753894081}\n",
      "03/11/2019 23:52:10 - INFO - root -   --------------------------------------------------------------------------------\n"
     ]
    }
   ],
   "source": [
    "learner.freeze_to(-3)\n",
    "learner.fit(1, lr=args['learning_rate'])"
   ]
  },
  {
   "cell_type": "code",
   "execution_count": 21,
   "metadata": {},
   "outputs": [
    {
     "data": {
      "text/html": [
       "Total time: 02:27 <p>"
      ],
      "text/plain": [
       "<IPython.core.display.HTML object>"
      ]
     },
     "metadata": {},
     "output_type": "display_data"
    },
    {
     "name": "stderr",
     "output_type": "stream",
     "text": [
      "/home/ubuntu/anaconda3/envs/pytorch_p36/lib/python3.6/site-packages/torch/nn/parallel/_functions.py:61: UserWarning: Was asked to gather along dimension 0, but all input tensors were scalars; will instead unsqueeze and return a vector.\n",
      "  warnings.warn('Was asked to gather along dimension 0, but all '\n"
     ]
    },
    {
     "name": "stdout",
     "output_type": "stream",
     "text": [
      "03/11/2019 23:54:16 - INFO - root -   Loss after epoch 0 - 0.749607569785331\n",
      "03/11/2019 23:54:16 - INFO - root -   Running evaluation\n"
     ]
    },
    {
     "data": {
      "text/html": [
       "\n",
       "    <div>\n",
       "        <style>\n",
       "            /* Turns off some styling */\n",
       "            progress {\n",
       "                /* gets rid of default border in Firefox and Opera. */\n",
       "                border: none;\n",
       "                /* Needs to be in here for Safari polyfill so background images work as expected. */\n",
       "                background-size: auto;\n",
       "            }\n",
       "            .progress-bar-interrupted, .progress-bar-interrupted::-webkit-progress-bar {\n",
       "                background: #F44336;\n",
       "            }\n",
       "        </style>\n",
       "      <progress value='101' class='' max='101', style='width:300px; height:20px; vertical-align: middle;'></progress>\n",
       "      100.00% [101/101 00:21<00:00]\n",
       "    </div>\n",
       "    "
      ],
      "text/plain": [
       "<IPython.core.display.HTML object>"
      ]
     },
     "metadata": {},
     "output_type": "display_data"
    },
    {
     "name": "stdout",
     "output_type": "stream",
     "text": [
      "03/11/2019 23:54:37 - INFO - root -   Eval results:\n",
      "03/11/2019 23:54:37 - INFO - root -     eval_loss = 0.689724515422736\n",
      "03/11/2019 23:54:37 - INFO - root -     metrics = {'accuracy': 0.8398753894080997}\n",
      "03/11/2019 23:54:37 - INFO - root -   --------------------------------------------------------------------------------\n"
     ]
    }
   ],
   "source": [
    "learner.freeze_to(-4)\n",
    "learner.fit(1, lr=args['learning_rate'])"
   ]
  },
  {
   "cell_type": "code",
   "execution_count": 22,
   "metadata": {},
   "outputs": [],
   "source": [
    "# learner.freeze_to(-5)\n",
    "# learner.fit(1, lr=args['learning_rate'])"
   ]
  },
  {
   "cell_type": "code",
   "execution_count": null,
   "metadata": {},
   "outputs": [
    {
     "data": {
      "text/html": [
       "\n",
       "    <div>\n",
       "        <style>\n",
       "            /* Turns off some styling */\n",
       "            progress {\n",
       "                /* gets rid of default border in Firefox and Opera. */\n",
       "                border: none;\n",
       "                /* Needs to be in here for Safari polyfill so background images work as expected. */\n",
       "                background-size: auto;\n",
       "            }\n",
       "            .progress-bar-interrupted, .progress-bar-interrupted::-webkit-progress-bar {\n",
       "                background: #F44336;\n",
       "            }\n",
       "        </style>\n",
       "      <progress value='4' class='' max='6', style='width:300px; height:20px; vertical-align: middle;'></progress>\n",
       "      66.67% [4/6 11:26<05:43]\n",
       "    </div>\n",
       "    \n",
       "\n",
       "\n",
       "    <div>\n",
       "        <style>\n",
       "            /* Turns off some styling */\n",
       "            progress {\n",
       "                /* gets rid of default border in Firefox and Opera. */\n",
       "                border: none;\n",
       "                /* Needs to be in here for Safari polyfill so background images work as expected. */\n",
       "                background-size: auto;\n",
       "            }\n",
       "            .progress-bar-interrupted, .progress-bar-interrupted::-webkit-progress-bar {\n",
       "                background: #F44336;\n",
       "            }\n",
       "        </style>\n",
       "      <progress value='70' class='' max='403', style='width:300px; height:20px; vertical-align: middle;'></progress>\n",
       "      17.37% [70/403 00:26<02:03]\n",
       "    </div>\n",
       "    "
      ],
      "text/plain": [
       "<IPython.core.display.HTML object>"
      ]
     },
     "metadata": {},
     "output_type": "display_data"
    },
    {
     "name": "stderr",
     "output_type": "stream",
     "text": [
      "/home/ubuntu/anaconda3/envs/pytorch_p36/lib/python3.6/site-packages/torch/nn/parallel/_functions.py:61: UserWarning: Was asked to gather along dimension 0, but all input tensors were scalars; will instead unsqueeze and return a vector.\n",
      "  warnings.warn('Was asked to gather along dimension 0, but all '\n"
     ]
    },
    {
     "name": "stdout",
     "output_type": "stream",
     "text": [
      "03/12/2019 00:29:36 - INFO - root -   Loss after epoch 0 - 0.29133536731338977\n",
      "03/12/2019 00:29:36 - INFO - root -   Running evaluation\n"
     ]
    },
    {
     "data": {
      "text/html": [
       "\n",
       "    <div>\n",
       "        <style>\n",
       "            /* Turns off some styling */\n",
       "            progress {\n",
       "                /* gets rid of default border in Firefox and Opera. */\n",
       "                border: none;\n",
       "                /* Needs to be in here for Safari polyfill so background images work as expected. */\n",
       "                background-size: auto;\n",
       "            }\n",
       "            .progress-bar-interrupted, .progress-bar-interrupted::-webkit-progress-bar {\n",
       "                background: #F44336;\n",
       "            }\n",
       "        </style>\n",
       "      <progress value='101' class='' max='101', style='width:300px; height:20px; vertical-align: middle;'></progress>\n",
       "      100.00% [101/101 00:21<00:00]\n",
       "    </div>\n",
       "    "
      ],
      "text/plain": [
       "<IPython.core.display.HTML object>"
      ]
     },
     "metadata": {},
     "output_type": "display_data"
    },
    {
     "name": "stdout",
     "output_type": "stream",
     "text": [
      "03/12/2019 00:29:58 - INFO - root -   Eval results:\n",
      "03/12/2019 00:29:58 - INFO - root -     eval_loss = 0.717329169190166\n",
      "03/12/2019 00:29:58 - INFO - root -     metrics = {'accuracy': 0.8398753894080997}\n",
      "03/12/2019 00:29:58 - INFO - root -   --------------------------------------------------------------------------------\n",
      "03/12/2019 00:32:28 - INFO - root -   Loss after epoch 1 - 0.21284127509031936\n",
      "03/12/2019 00:32:28 - INFO - root -   Running evaluation\n"
     ]
    },
    {
     "data": {
      "text/html": [
       "\n",
       "    <div>\n",
       "        <style>\n",
       "            /* Turns off some styling */\n",
       "            progress {\n",
       "                /* gets rid of default border in Firefox and Opera. */\n",
       "                border: none;\n",
       "                /* Needs to be in here for Safari polyfill so background images work as expected. */\n",
       "                background-size: auto;\n",
       "            }\n",
       "            .progress-bar-interrupted, .progress-bar-interrupted::-webkit-progress-bar {\n",
       "                background: #F44336;\n",
       "            }\n",
       "        </style>\n",
       "      <progress value='101' class='' max='101', style='width:300px; height:20px; vertical-align: middle;'></progress>\n",
       "      100.00% [101/101 00:21<00:00]\n",
       "    </div>\n",
       "    "
      ],
      "text/plain": [
       "<IPython.core.display.HTML object>"
      ]
     },
     "metadata": {},
     "output_type": "display_data"
    },
    {
     "name": "stdout",
     "output_type": "stream",
     "text": [
      "03/12/2019 00:32:50 - INFO - root -   Eval results:\n",
      "03/12/2019 00:32:50 - INFO - root -     eval_loss = 0.6175055609518053\n",
      "03/12/2019 00:32:50 - INFO - root -     metrics = {'accuracy': 0.8610591900311526}\n",
      "03/12/2019 00:32:50 - INFO - root -   --------------------------------------------------------------------------------\n",
      "03/12/2019 00:35:20 - INFO - root -   Loss after epoch 2 - 0.09546715827201199\n",
      "03/12/2019 00:35:20 - INFO - root -   Running evaluation\n"
     ]
    },
    {
     "data": {
      "text/html": [
       "\n",
       "    <div>\n",
       "        <style>\n",
       "            /* Turns off some styling */\n",
       "            progress {\n",
       "                /* gets rid of default border in Firefox and Opera. */\n",
       "                border: none;\n",
       "                /* Needs to be in here for Safari polyfill so background images work as expected. */\n",
       "                background-size: auto;\n",
       "            }\n",
       "            .progress-bar-interrupted, .progress-bar-interrupted::-webkit-progress-bar {\n",
       "                background: #F44336;\n",
       "            }\n",
       "        </style>\n",
       "      <progress value='101' class='' max='101', style='width:300px; height:20px; vertical-align: middle;'></progress>\n",
       "      100.00% [101/101 00:21<00:00]\n",
       "    </div>\n",
       "    "
      ],
      "text/plain": [
       "<IPython.core.display.HTML object>"
      ]
     },
     "metadata": {},
     "output_type": "display_data"
    },
    {
     "name": "stdout",
     "output_type": "stream",
     "text": [
      "03/12/2019 00:35:41 - INFO - root -   Eval results:\n",
      "03/12/2019 00:35:41 - INFO - root -     eval_loss = 0.6180045382387125\n",
      "03/12/2019 00:35:41 - INFO - root -     metrics = {'accuracy': 0.8672897196261682}\n",
      "03/12/2019 00:35:41 - INFO - root -   --------------------------------------------------------------------------------\n",
      "03/12/2019 00:38:11 - INFO - root -   Loss after epoch 3 - 0.04666820316166425\n",
      "03/12/2019 00:38:11 - INFO - root -   Running evaluation\n"
     ]
    },
    {
     "data": {
      "text/html": [
       "\n",
       "    <div>\n",
       "        <style>\n",
       "            /* Turns off some styling */\n",
       "            progress {\n",
       "                /* gets rid of default border in Firefox and Opera. */\n",
       "                border: none;\n",
       "                /* Needs to be in here for Safari polyfill so background images work as expected. */\n",
       "                background-size: auto;\n",
       "            }\n",
       "            .progress-bar-interrupted, .progress-bar-interrupted::-webkit-progress-bar {\n",
       "                background: #F44336;\n",
       "            }\n",
       "        </style>\n",
       "      <progress value='101' class='' max='101', style='width:300px; height:20px; vertical-align: middle;'></progress>\n",
       "      100.00% [101/101 00:21<00:00]\n",
       "    </div>\n",
       "    "
      ],
      "text/plain": [
       "<IPython.core.display.HTML object>"
      ]
     },
     "metadata": {},
     "output_type": "display_data"
    },
    {
     "name": "stdout",
     "output_type": "stream",
     "text": [
      "03/12/2019 00:38:33 - INFO - root -   Eval results:\n",
      "03/12/2019 00:38:33 - INFO - root -     eval_loss = 0.6320682714259861\n",
      "03/12/2019 00:38:33 - INFO - root -     metrics = {'accuracy': 0.8735202492211838}\n",
      "03/12/2019 00:38:33 - INFO - root -   --------------------------------------------------------------------------------\n"
     ]
    }
   ],
   "source": [
    "learner.unfreeze()\n",
    "learner.fit(6, lr=args['learning_rate'])"
   ]
  },
  {
   "cell_type": "code",
   "execution_count": 24,
   "metadata": {},
   "outputs": [],
   "source": [
    "# learner.save_and_reload(MODEL_PATH, 'intent_classification_lib_{}'.format(run_start_time))"
   ]
  },
  {
   "cell_type": "code",
   "execution_count": 25,
   "metadata": {},
   "outputs": [],
   "source": [
    "# learner.fit(4, args['learning_rate']/10)"
   ]
  },
  {
   "cell_type": "code",
   "execution_count": 26,
   "metadata": {},
   "outputs": [],
   "source": [
    "texts = [\n",
    "    \"I have a Homecare Agreement - policy number 911000810357. I have an engineer booked between 12-6pm under this policy, as yet I have not heard anything and I wondered if you could check if someone would be coming to my property re my boiler.\",\n",
    "    \"You are joke I am finding anouther provider\",\n",
    "    \"I am trying to submit a complaint but it keeps saying Opps something went wrong\",\n",
    "    \"why Increase in my direct debit when I have a credit balance???\",\n",
    "    \"how to get emergency credit on my gas meter\",\n",
    "    \"Why has my annual boiler care agreement had a rise 23% from 1st of January.\",\n",
    "    \"i cant find it.. i must have saved it.. let me get back to you\",\n",
    "    \"I booked a boiler service for mon 26/11/2018 and no-one turned up\",\n",
    "    \"I want to add another account holder but i cant seem to do so\",\n",
    "    \"My tenant has moved out of my property and I want to transfer the gas and electricity accounts back into my name\",\n",
    "    \"I have mis-placed my payment card\",\n",
    "    \"why are you keeping my card details without my permission\",\n",
    "    \"Adjust direct debit for new property which is smaller than original. You are still charging at the old rate which means we are in permanent credit. Would you please adjust this for our new property and provide us with a refund of the present credit\",\n",
    "    \"All I want to do is simply change the account that my direct debit gets taken from. Why can I not find this option?\",\n",
    "    \"trying to get a refund\",\n",
    "    \"I am paying too much a month and want to lower my monthly payments please\",\n",
    "    \"i want to sort out my bill as you have the wrong readings\",\n",
    "    \"would like to know when my direct debit payment was increased\",\n",
    "    \"calling to pay a bill as online access has been locked declined\",\n",
    "    \"need a bill breakdown of gas and electric usage.\",\n",
    "    \"I have had a meter change from an imperial to metric - can you tell me the revised conversion formula to change cubic metres into kilowatt hours on bills\",\n",
    "    \"I would just like to submit a meter reading please.\",\n",
    "    \"I am trying to find my MPRN.\",\n",
    "    \"trying to submit my meter reading\",\n",
    "    \"I want to know how to switch to British Gas from other supplier\",\n",
    "    \"Finding out if British Gas supplies my gas in my new home\",\n",
    "    \"I  have received a letter saying my annual service has been booked for January 18th but my last one was 12 june and so it is not due until June, Please advise\",\n",
    "    \"Hi there, I'm looking to check when my last gas service was done? The system is telling me that it was October/November time - we had an engineer visit then but don't think we had a service and didn't receive any paperwork? Can you help?\",\n",
    "    \"When my last annual service took place.\", \n",
    "         \"Change date of service appointment\", \n",
    "         \"lost track of account details need engineer appointment please\"]\n",
    "results =  learner.predict_batch(texts)\n"
   ]
  },
  {
   "cell_type": "code",
   "execution_count": 27,
   "metadata": {},
   "outputs": [
    {
     "data": {
      "text/plain": [
       "[('change-appointment', 0.92566013),\n",
       " ('change-appointment_service', 0.056371145),\n",
       " ('change-appointment_boiler', 0.008903752),\n",
       " ('change-payment', 0.0020517344),\n",
       " ('cancel-appointment', 0.0012374284),\n",
       " ('change-install_smart_meter', 0.0007185378),\n",
       " ('enquire-appointment_when', 0.00035999564),\n",
       " ('change-direct_debit', 0.00029664714),\n",
       " ('change-account_detail', 0.00022843764),\n",
       " ('change-address', 0.00017588034),\n",
       " ('change-vague', 0.00014699655),\n",
       " ('enquire-meter_exchange', 0.00013882756),\n",
       " ('pay-bill_energy', 0.0001292206),\n",
       " ('request-appointment', 0.0001262744),\n",
       " ('report-card_lost', 0.00011987125),\n",
       " ('change-phone', 9.9598576e-05),\n",
       " ('enquire-install', 9.087401e-05),\n",
       " ('enquire-appointment', 7.856356e-05),\n",
       " ('setup-direct_debit', 6.90331e-05),\n",
       " ('enquire-appointment_smart_meter', 6.5792105e-05),\n",
       " ('request-install_meter_payge', 6.190123e-05),\n",
       " ('cancel-direct_debit', 6.087178e-05),\n",
       " ('report-meter_reading_wrong', 5.8952217e-05),\n",
       " ('enquire-meter_number', 5.8566788e-05),\n",
       " ('request-card', 5.701923e-05),\n",
       " ('report-appointment_missed', 5.6849287e-05),\n",
       " ('request-install_meter', 5.6663735e-05),\n",
       " ('cancel-tariff', 5.41833e-05),\n",
       " ('change-bill', 5.3989614e-05),\n",
       " ('problem-direct_debit', 5.1326144e-05),\n",
       " ('change-homecare', 5.0397048e-05),\n",
       " ('enquire-warm_home_discount', 4.8356764e-05),\n",
       " ('problem-drain', 4.7311958e-05),\n",
       " ('setup-hive', 4.701057e-05),\n",
       " ('request-appointment_plumbing', 4.508339e-05),\n",
       " ('pay-payment', 4.4137632e-05),\n",
       " ('request-quote_energy', 4.3491815e-05),\n",
       " ('enquire-appointment_plumbing', 3.9364455e-05),\n",
       " ('request-appointment_heating', 3.9070674e-05),\n",
       " ('cancel-hive', 3.8873688e-05),\n",
       " ('request-appointment_meter_reading', 3.6973735e-05),\n",
       " ('request-meter_move', 3.6786972e-05),\n",
       " ('request-appointment_homecare', 3.6505015e-05),\n",
       " ('enquire-heating_upgrade', 3.2387947e-05),\n",
       " ('report-payment_difficulty', 3.1643627e-05),\n",
       " ('change-email', 3.068837e-05),\n",
       " ('enquire-hive_sensor', 2.9649762e-05),\n",
       " ('request-balance', 2.9577044e-05),\n",
       " ('setup-payment_plan', 2.8670032e-05),\n",
       " ('enquire-card', 2.8524508e-05),\n",
       " ('enquire-hive_camera', 2.7600743e-05),\n",
       " ('problem-card', 2.7313314e-05),\n",
       " ('enquire-tariff', 2.4977247e-05),\n",
       " ('enquire-install_hive', 2.453913e-05),\n",
       " ('vague-plumbing', 2.4512792e-05),\n",
       " ('report-leak_drain', 2.4088702e-05),\n",
       " ('change-payment_plan', 2.2577033e-05),\n",
       " ('vague-pest_control', 2.2163336e-05),\n",
       " ('enquire-service', 2.159396e-05),\n",
       " ('enquire-repayment', 2.1107158e-05),\n",
       " ('enquire-quote', 2.0717158e-05),\n",
       " ('enquire-account_online', 1.9858713e-05),\n",
       " ('request-appointment_electric', 1.9803207e-05),\n",
       " ('pay-bill_final', 1.968385e-05),\n",
       " ('problem-hive_app', 1.9449462e-05),\n",
       " ('vague-appliance', 1.825335e-05),\n",
       " ('problem-hive_camera', 1.8183331e-05),\n",
       " ('pay-homecare', 1.817773e-05),\n",
       " ('report-leak_sink', 1.7964137e-05),\n",
       " ('enquire-password', 1.7338332e-05),\n",
       " ('report-blockage', 1.7328945e-05),\n",
       " ('dispute-bill', 1.7077049e-05),\n",
       " ('pay-bill', 1.6851638e-05),\n",
       " ('problem-plumbing', 1.6608772e-05),\n",
       " ('problem-account_setup', 1.6421962e-05),\n",
       " ('problem-pipe', 1.6340819e-05),\n",
       " ('enquire-hive_hub', 1.6110462e-05),\n",
       " ('report-property_new', 1.6066688e-05),\n",
       " ('enquire-meter_reset', 1.5878246e-05),\n",
       " ('enquire-hive', 1.5741374e-05),\n",
       " ('enquire-install_heating', 1.5684956e-05),\n",
       " ('setup-account', 1.5548445e-05),\n",
       " ('report-meter_reading_opening', 1.5466365e-05),\n",
       " ('request-appointment_emergency', 1.539175e-05),\n",
       " ('cancel-smart_meter', 1.4824761e-05),\n",
       " ('request-appointment_gas', 1.4571616e-05),\n",
       " ('enquire-debt_meter', 1.4556448e-05),\n",
       " ('report-leak', 1.453804e-05),\n",
       " ('enquire-power_flush', 1.4344801e-05),\n",
       " ('request-service', 1.4194375e-05),\n",
       " ('report-leak_water', 1.41630835e-05),\n",
       " ('change-supplier', 1.3973523e-05),\n",
       " ('report-direct_debit_changed', 1.33633785e-05),\n",
       " ('cancel-vague', 1.3197643e-05),\n",
       " ('problem-account', 1.2996329e-05),\n",
       " ('register-card', 1.2815307e-05),\n",
       " ('problem-hive_sensor', 1.239714e-05),\n",
       " ('request-meter_remove', 1.236322e-05),\n",
       " ('request-dyno_rod', 1.20703435e-05),\n",
       " ('report-leak_gas', 1.1924589e-05),\n",
       " ('report-business_move', 1.1629243e-05),\n",
       " ('delete-delete', 1.1453449e-05),\n",
       " ('vague-business', 1.1301222e-05),\n",
       " ('report-home_move', 1.1278557e-05),\n",
       " ('enquire-account_confirm', 1.1125471e-05),\n",
       " ('enquire-fuel_direct', 1.091426e-05),\n",
       " ('enquire-debt', 1.0804567e-05),\n",
       " ('enquire-charge_late_payment', 1.0570386e-05),\n",
       " ('report-gas_smell', 1.0540177e-05),\n",
       " ('enquire-activation_code', 1.0499475e-05),\n",
       " ('enquire-order', 1.0103594e-05),\n",
       " ('problem-payment_plan', 1.0075517e-05),\n",
       " ('enquire-install_meter', 1.0025867e-05),\n",
       " ('join-homecare', 9.93767e-06),\n",
       " ('enquire-nectar', 9.922243e-06),\n",
       " ('problem-toilet', 9.897567e-06),\n",
       " ('vague-fraud', 9.793579e-06),\n",
       " ('report-direct_debit_unpaid', 9.759614e-06),\n",
       " ('cancel-business_account', 9.729615e-06),\n",
       " ('enquire-gas_capped', 9.478984e-06),\n",
       " ('report-bill_paid', 9.475847e-06),\n",
       " ('enquire-customer_number', 9.404922e-06),\n",
       " ('enquire-gas_pipe', 9.35912e-06),\n",
       " ('enquire-bulb', 9.272835e-06),\n",
       " ('None', 9.269917e-06),\n",
       " ('enquire-hive_app', 9.228873e-06),\n",
       " ('enquire-complaint', 9.196498e-06),\n",
       " ('vague-carbon_monoxide', 9.114737e-06),\n",
       " ('enquire-price', 8.966069e-06),\n",
       " ('vague-compensation', 8.724033e-06),\n",
       " ('change-ownership', 8.678038e-06),\n",
       " ('enquire-account_overdue', 8.6773425e-06),\n",
       " ('enquire-bill_estimate', 8.621334e-06),\n",
       " ('enquire-meter_payge', 8.540321e-06),\n",
       " ('enquire-security_deposit', 8.468898e-06),\n",
       " ('enquire-business_account', 8.039762e-06),\n",
       " ('request-bill_paper', 7.868387e-06),\n",
       " ('request-invoice', 7.652311e-06),\n",
       " ('enquire-meter_reading', 7.5245825e-06),\n",
       " ('problem-payment', 7.462402e-06),\n",
       " ('enquire-payment_plan', 7.4415866e-06),\n",
       " ('enquire-hive_bulb', 7.417822e-06),\n",
       " ('report-cut_off', 7.09311e-06),\n",
       " ('report-meter_reading', 7.0086744e-06),\n",
       " ('report-payment_late', 6.648253e-06),\n",
       " ('vague-solar_panel', 6.5958557e-06),\n",
       " ('enquire-voucher', 6.4541446e-06),\n",
       " ('enquire-hive_thermostat', 6.4107494e-06),\n",
       " ('join-energy', 6.3707557e-06),\n",
       " ('enquire-gas_safety', 6.2843087e-06),\n",
       " ('problem-hive_hub', 6.2567406e-06),\n",
       " ('setup-contract', 6.2433e-06),\n",
       " ('problem-appliance', 6.2177855e-06),\n",
       " ('problem-hive', 6.1781475e-06),\n",
       " ('enquire-connection', 6.159892e-06),\n",
       " ('enquire-annual_service', 5.98027e-06),\n",
       " ('enquire-appointment_today', 5.7873394e-06),\n",
       " ('enquire-hive_heating', 5.6842473e-06),\n",
       " ('enquire-charge', 5.6346043e-06),\n",
       " ('request-locksmith', 5.5398777e-06),\n",
       " ('enquire-meter', 5.4138595e-06),\n",
       " ('enquire-property', 5.363553e-06),\n",
       " ('problem-hive_thermostat', 5.336909e-06),\n",
       " ('problem-vague', 5.321053e-06),\n",
       " ('report-bill_high', 5.193306e-06),\n",
       " ('enquire-bill_paid', 4.84619e-06),\n",
       " ('request-smart_meter', 4.7093113e-06),\n",
       " ('enquire-business_care', 4.6701066e-06),\n",
       " ('problem-bill_energy', 4.6552987e-06),\n",
       " ('cancel-energy', 4.555363e-06),\n",
       " ('problem-shower', 4.502137e-06),\n",
       " ('change-name', 4.4814124e-06),\n",
       " ('enquire-appointment_boiler', 4.35651e-06),\n",
       " ('enquire-statement', 4.238293e-06),\n",
       " ('enquire-invoice', 4.1501066e-06),\n",
       " ('enquire-boiler_iq', 4.014259e-06),\n",
       " ('enquire-authority', 4.013386e-06),\n",
       " ('enquire-bill_due', 3.915301e-06),\n",
       " ('report-meter_reading_final', 3.8188114e-06),\n",
       " ('enquire-key', 3.8010517e-06),\n",
       " ('report-bill_unpaid', 3.7820607e-06),\n",
       " ('enquire-alarm', 3.7572127e-06),\n",
       " ('enquire-boiler_new', 3.7375353e-06),\n",
       " ('enquire-emergency_credit', 3.5115916e-06),\n",
       " ('report-bereavement', 3.459811e-06),\n",
       " ('problem-water', 3.412727e-06),\n",
       " ('enquire-gas_fire', 3.4052268e-06),\n",
       " ('report-gas_emergency', 3.3554113e-06),\n",
       " ('request-service_report', 3.2020123e-06),\n",
       " ('enquire-vague', 3.1267193e-06),\n",
       " ('enquire-meter_new', 3.054991e-06),\n",
       " ('enquire-insulation', 3.042077e-06),\n",
       " ('report-key_lost', 3.0267513e-06),\n",
       " ('report-letter_leaving', 3.0185442e-06),\n",
       " ('enquire-safety_certificate', 2.9506452e-06),\n",
       " ('enquire-usage', 2.9495056e-06),\n",
       " ('enquire-bill_reminder', 2.8804468e-06),\n",
       " ('enquire-smart_card', 2.6339715e-06),\n",
       " ('problem-hive_heating', 2.5953498e-06),\n",
       " ('enquire-payment', 2.4573144e-06),\n",
       " ('cancel-contract', 2.4171693e-06),\n",
       " ('enquire-direct_debit', 2.3412554e-06),\n",
       " ('enquire-bill_energy', 2.335199e-06),\n",
       " ('request-appointment_boiler', 2.3031623e-06),\n",
       " ('enquire-bill_homecare', 2.0896784e-06),\n",
       " ('problem-hot_water', 2.0271443e-06),\n",
       " ('enquire-power_cut', 1.962493e-06),\n",
       " ('problem-home_move', 1.9354457e-06),\n",
       " ('enquire-install_boiler', 1.8960804e-06),\n",
       " ('enquire-refund', 1.8741406e-06),\n",
       " ('report-house_sale', 1.723675e-06),\n",
       " ('problem-meter_reading', 1.7209287e-06),\n",
       " ('problem-meter', 1.6903103e-06),\n",
       " ('enquire-repair', 1.6083679e-06),\n",
       " ('enquire-call_back', 1.593075e-06),\n",
       " ('enquire-claim', 1.5523916e-06),\n",
       " ('report-leak_heating', 1.4492986e-06),\n",
       " ('vague-top_up', 1.4232116e-06),\n",
       " ('problem-meter_payge', 1.410498e-06),\n",
       " ('problem-bill', 1.3762415e-06),\n",
       " ('request-bill', 1.3412194e-06),\n",
       " ('enquire-energy', 1.267916e-06),\n",
       " ('enquire-install_smart_meter', 1.1826257e-06),\n",
       " ('report-no_energy', 1.1230038e-06),\n",
       " ('request-annual_service', 1.1067568e-06),\n",
       " ('enquire-balance', 1.0645942e-06),\n",
       " ('report-letter', 1.0201466e-06),\n",
       " ('enquire-insurance', 9.962364e-07),\n",
       " ('report-contact', 9.940413e-07),\n",
       " ('vague-breakdown', 9.777524e-07),\n",
       " ('enquire-supplier', 9.390908e-07),\n",
       " ('vague-landlord', 9.2415684e-07),\n",
       " ('enquire-credit', 8.573022e-07),\n",
       " ('problem-smart_meter', 8.294366e-07),\n",
       " ('renew-agreement', 8.207324e-07),\n",
       " ('request-advisor', 7.8977405e-07),\n",
       " ('enquire-account', 7.624379e-07),\n",
       " ('enquire-warranty', 7.5788665e-07),\n",
       " ('problem-key', 6.7448093e-07),\n",
       " ('problem-electric', 6.450117e-07),\n",
       " ('enquire-smart_meter', 5.581233e-07),\n",
       " ('enquire-heating', 5.4883196e-07),\n",
       " ('problem-gas', 5.334229e-07),\n",
       " ('report-emergency', 4.4643087e-07),\n",
       " ('problem-heating', 4.2803245e-07),\n",
       " ('problem-boiler_pressure', 4.1058402e-07),\n",
       " ('enquire-agreement', 2.515812e-07),\n",
       " ('enquire-bill', 1.0872611e-07),\n",
       " ('problem-boiler', 7.275715e-08),\n",
       " ('enquire-bill_final', 7.062822e-08)]"
      ]
     },
     "execution_count": 27,
     "metadata": {},
     "output_type": "execute_result"
    }
   ],
   "source": [
    "results[-2]"
   ]
  },
  {
   "cell_type": "code",
   "execution_count": null,
   "metadata": {},
   "outputs": [],
   "source": []
  }
 ],
 "metadata": {
  "kernelspec": {
   "display_name": "Environment (conda_pytorch_p36)",
   "language": "python",
   "name": "conda_pytorch_p36"
  },
  "language_info": {
   "codemirror_mode": {
    "name": "ipython",
    "version": 3
   },
   "file_extension": ".py",
   "mimetype": "text/x-python",
   "name": "python",
   "nbconvert_exporter": "python",
   "pygments_lexer": "ipython3",
   "version": "3.6.6"
  }
 },
 "nbformat": 4,
 "nbformat_minor": 2
}
